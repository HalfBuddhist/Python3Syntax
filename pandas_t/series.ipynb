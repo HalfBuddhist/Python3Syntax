{
 "cells": [
  {
   "cell_type": "code",
   "execution_count": 1,
   "metadata": {},
   "outputs": [
    {
     "name": "stdout",
     "output_type": "stream",
     "text": [
      "series的值： [10 20 30 40 50]\n",
      "series的标签： Index(['a', 'b', 'c', 'd', 'e'], dtype='object')\n",
      "b: 20\n",
      "the third: 40\n",
      "[('a', 10), ('b', 20), ('c', 30), ('d', 40), ('e', 50)]\n",
      "取标签大于c的项： \n",
      " d    40\n",
      "e    50\n",
      "dtype: int64\n",
      "取值大于20的项： \n",
      " c    30\n",
      "d    40\n",
      "e    50\n",
      "dtype: int64\n",
      "将每一项中的数×2 \n",
      " a     20\n",
      "b     40\n",
      "c     60\n",
      "d     80\n",
      "e    100\n",
      "dtype: int64\n",
      "将字典转化为series： \n",
      " bushi    3\n",
      "nihao    1\n",
      "wode     2\n",
      "dtype: int64\n",
      "将字典转化为series： \n",
      " 0    {'nihao': 1, 'wode': 2, 'bushi': 3}\n",
      "1    {'nihao': 1, 'wode': 2, 'bushi': 3}\n",
      "2    {'nihao': 1, 'wode': 2, 'bushi': 3}\n",
      "dtype: object\n"
     ]
    }
   ],
   "source": [
    "import pandas as pd\n",
    "from numpy import *\n",
    "\n",
    "list2 = [10, 20, 30, 40, 50]\n",
    "indexlist = ['a', 'b', 'c', 'd', 'e']\n",
    "\n",
    "series = pd.Series(list2, index=indexlist)\n",
    "print('series的值：', series.values)\n",
    "print('series的标签：', series.index)\n",
    "# 即可以像数组一样检索，也可以像字典一样检索\n",
    "print('b:', series['b'])\n",
    "print('the third:', series[3])\n",
    "# series支持字典的一些方法\n",
    "print(list(series.iteritems()))\n",
    "# 一些运算\n",
    "print('取标签大于c的项：', '\\n', series[series.index > 'c'])\n",
    "print('取值大于20的项：', '\\n', series[series.values > 20])\n",
    "print('将每一项中的数×2', '\\n', series * 2)\n",
    "dict = {'nihao': 1, 'wode': 2, 'bushi': 3}\n",
    "series2 = pd.Series(dict)\n",
    "print('将字典转化为series：', '\\n', series2)\n",
    "\n",
    "\n",
    "dict_list = [{'nihao': 1, 'wode': 2, 'bushi': 3},\n",
    "        {'nihao': 1, 'wode': 2, 'bushi': 3},\n",
    "        {'nihao': 1, 'wode': 2, 'bushi': 3}]\n",
    "series3 = pd.Series(dict_list)\n",
    "print('将字典转化为series：', '\\n', series3)"
   ]
  },
  {
   "cell_type": "code",
   "execution_count": null,
   "metadata": {},
   "outputs": [],
   "source": []
  }
 ],
 "metadata": {
  "kernelspec": {
   "display_name": "Python 3",
   "language": "python",
   "name": "python3"
  },
  "language_info": {
   "codemirror_mode": {
    "name": "ipython",
    "version": 3
   },
   "file_extension": ".py",
   "mimetype": "text/x-python",
   "name": "python",
   "nbconvert_exporter": "python",
   "pygments_lexer": "ipython3",
   "version": "3.6.4"
  }
 },
 "nbformat": 4,
 "nbformat_minor": 2
}
