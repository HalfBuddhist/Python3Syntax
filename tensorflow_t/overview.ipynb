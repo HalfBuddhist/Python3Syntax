{
 "cells": [
  {
   "cell_type": "markdown",
   "metadata": {
    "colab_type": "text",
    "id": "J8y9ZkLXmAZc"
   },
   "source": [
    "##### Copyright 2019 The TensorFlow Authors."
   ]
  },
  {
   "cell_type": "code",
   "execution_count": 1,
   "metadata": {
    "cellView": "form",
    "colab": {},
    "colab_type": "code",
    "id": "l7u9xMl3UeOX"
   },
   "outputs": [],
   "source": [
    "#@title Licensed under the Apache License, Version 2.0 (the \"License\");\n",
    "# you may not use this file except in compliance with the License.\n",
    "# You may obtain a copy of the License at\n",
    "#\n",
    "# https://www.apache.org/licenses/LICENSE-2.0\n",
    "#\n",
    "# Unless required by applicable law or agreed to in writing, software\n",
    "# distributed under the License is distributed on an \"AS IS\" BASIS,\n",
    "# WITHOUT WARRANTIES OR CONDITIONS OF ANY KIND, either express or implied.\n",
    "# See the License for the specific language governing permissions and\n",
    "# limitations under the License."
   ]
  },
  {
   "cell_type": "markdown",
   "metadata": {
    "colab_type": "text",
    "id": "8hTYmggsUAFZ"
   },
   "source": [
    "# TensorFlow 数据集\n",
    "\n",
    "TensorFlow Datasets 提供了一系列可以和 TensorFlow 配合使用的数据集。它负责下载和准备数据，以及构建 [`tf.data.Dataset`](https://www.tensorflow.org/api_docs/python/tf/data/Dataset)。"
   ]
  },
  {
   "cell_type": "markdown",
   "metadata": {
    "colab_type": "text",
    "id": "OGw9EgE0tC0C"
   },
   "source": [
    "<table class=\"tfo-notebook-buttons\" align=\"left\">\n",
    "  <td>\n",
    "    <a target=\"_blank\" href=\"https://www.tensorflow.google.cn/datasets/overview\"><img src=\"https://www.tensorflow.org/images/tf_logo_32px.png\" />在 tensorflow.google.cn 上查看</a>\n",
    "  </td>\n",
    "  <td>\n",
    "    <a target=\"_blank\" href=\"https://colab.research.google.com/github/tensorflow/docs-l10n/blob/master/site/zh-cn/datasets/overview.ipynb\"><img src=\"https://www.tensorflow.org/images/colab_logo_32px.png\" />在 Google Colab 运行</a>\n",
    "  </td>\n",
    "  <td>\n",
    "    <a target=\"_blank\" href=\"https://github.com/tensorflow/docs-l10n/blob/master/site/zh-cn/datasets/overview.ipynb\"><img src=\"https://www.tensorflow.org/images/GitHub-Mark-32px.png\" />在 Github 上查看源代码</a>\n",
    "  </td>\n",
    "  <td>\n",
    "    <a href=\"https://storage.googleapis.com/tensorflow_docs/docs-l10n/site/zh-cn/datasets/overview.ipynb\"><img src=\"https://tensorflow.google.cn/images/download_logo_32px.png\" />下载 notebook</a>\n",
    "  </td>\n",
    "</table>"
   ]
  },
  {
   "cell_type": "markdown",
   "metadata": {
    "colab_type": "text",
    "id": "y8lL6RLLUtCO"
   },
   "source": [
    "Note: 我们的 TensorFlow 社区翻译了这些文档。因为社区翻译是尽力而为， 所以无法保证它们是最准确的，并且反映了最新的\n",
    "[官方英文文档](https://www.tensorflow.org/?hl=en)。如果您有改进此翻译的建议， 请提交 pull request 到\n",
    "[tensorflow/docs](https://github.com/tensorflow/docs) GitHub 仓库。要志愿地撰写或者审核译文，请加入\n",
    "[docs-zh-cn@tensorflow.org Google Group](https://groups.google.com/a/tensorflow.org/forum/#!forum/docs-zh-cn)。"
   ]
  },
  {
   "cell_type": "markdown",
   "metadata": {
    "colab_type": "text",
    "id": "tJc3DDLEUAFf"
   },
   "source": [
    "## 安装\n",
    "\n",
    "`pip install tensorflow-datasets`\n",
    "\n",
    "注意使用 `tensorflow-datasets` 的前提是已经安装好 TensorFlow，目前支持的版本是 `tensorflow` (或者 `tensorflow-gpu`) >= `1.15.0`"
   ]
  },
  {
   "cell_type": "code",
   "execution_count": 2,
   "metadata": {
    "cellView": "both",
    "colab": {},
    "colab_type": "code",
    "id": "boeZp0sYbO41"
   },
   "outputs": [],
   "source": [
    "!pip install -q tensorflow tensorflow-datasets matplotlib"
   ]
  },
  {
   "cell_type": "code",
   "execution_count": 2,
   "metadata": {
    "colab": {},
    "colab_type": "code",
    "id": "vcwlX1pgVtbV"
   },
   "outputs": [],
   "source": [
    "import tensorflow as tf"
   ]
  },
  {
   "cell_type": "code",
   "execution_count": 3,
   "metadata": {
    "colab": {},
    "colab_type": "code",
    "id": "TTBSvHcSLBzc"
   },
   "outputs": [],
   "source": [
    "import matplotlib.pyplot as plt\n",
    "import numpy as np\n",
    "import tensorflow as tf\n",
    "\n",
    "import tensorflow_datasets as tfds"
   ]
  },
  {
   "cell_type": "markdown",
   "metadata": {
    "colab_type": "text",
    "id": "PJRFn4v-UAFl"
   },
   "source": [
    "## Eager execution\n",
    "\n",
    "TensorFlow 数据集同时兼容 TensorFlow [Eager 模式](https://tensorflow.google.cn/guide/eager) 和图模式。在这个 colab 环境里面，我们的代码将通过 Eager 模式执行。"
   ]
  },
  {
   "cell_type": "code",
   "execution_count": 4,
   "metadata": {
    "colab": {},
    "colab_type": "code",
    "id": "o9H2EiXzfNgO"
   },
   "outputs": [],
   "source": [
    "tf.compat.v1.enable_eager_execution()"
   ]
  },
  {
   "cell_type": "markdown",
   "metadata": {
    "colab_type": "text",
    "id": "mXICnLE4UAFq"
   },
   "source": [
    "## 列出可用的数据集\n",
    "\n",
    "每一个数据集（dataset）都实现了抽象基类 [`tfds.core.DatasetBuilder`](https://www.tensorflow.google.cn/datasets/api_docs/python/tfds/core/DatasetBuilder) 来构建。你可以通过 `tfds.list_builders()` 列出所有可用的数据集。\n",
    "\n",
    "你可以通过 [数据集文档页](https://www.tensorflow.google.cn/datasets/catalog/overview) 查看所有支持的数据集及其补充文档。"
   ]
  },
  {
   "cell_type": "code",
   "execution_count": 5,
   "metadata": {
    "colab": {},
    "colab_type": "code",
    "id": "FAvbSVzjLCIb"
   },
   "outputs": [
    {
     "output_type": "execute_result",
     "data": {
      "text/plain": [
       "['abstract_reasoning',\n",
       " 'accentdb',\n",
       " 'aeslc',\n",
       " 'aflw2k3d',\n",
       " 'ag_news_subset',\n",
       " 'ai2_arc',\n",
       " 'ai2_arc_with_ir',\n",
       " 'amazon_us_reviews',\n",
       " 'anli',\n",
       " 'arc',\n",
       " 'bair_robot_pushing_small',\n",
       " 'bccd',\n",
       " 'beans',\n",
       " 'big_patent',\n",
       " 'bigearthnet',\n",
       " 'billsum',\n",
       " 'binarized_mnist',\n",
       " 'binary_alpha_digits',\n",
       " 'blimp',\n",
       " 'bool_q',\n",
       " 'c4',\n",
       " 'caltech101',\n",
       " 'caltech_birds2010',\n",
       " 'caltech_birds2011',\n",
       " 'cars196',\n",
       " 'cassava',\n",
       " 'cats_vs_dogs',\n",
       " 'celeb_a',\n",
       " 'celeb_a_hq',\n",
       " 'cfq',\n",
       " 'chexpert',\n",
       " 'cifar10',\n",
       " 'cifar100',\n",
       " 'cifar10_1',\n",
       " 'cifar10_corrupted',\n",
       " 'citrus_leaves',\n",
       " 'cityscapes',\n",
       " 'civil_comments',\n",
       " 'clevr',\n",
       " 'clic',\n",
       " 'clinc_oos',\n",
       " 'cmaterdb',\n",
       " 'cnn_dailymail',\n",
       " 'coco',\n",
       " 'coco_captions',\n",
       " 'coil100',\n",
       " 'colorectal_histology',\n",
       " 'colorectal_histology_large',\n",
       " 'common_voice',\n",
       " 'coqa',\n",
       " 'cos_e',\n",
       " 'cosmos_qa',\n",
       " 'covid19sum',\n",
       " 'crema_d',\n",
       " 'curated_breast_imaging_ddsm',\n",
       " 'cycle_gan',\n",
       " 'deep_weeds',\n",
       " 'definite_pronoun_resolution',\n",
       " 'dementiabank',\n",
       " 'diabetic_retinopathy_detection',\n",
       " 'div2k',\n",
       " 'dmlab',\n",
       " 'downsampled_imagenet',\n",
       " 'dsprites',\n",
       " 'dtd',\n",
       " 'duke_ultrasound',\n",
       " 'e2e_cleaned',\n",
       " 'emnist',\n",
       " 'eraser_multi_rc',\n",
       " 'esnli',\n",
       " 'eurosat',\n",
       " 'fashion_mnist',\n",
       " 'flic',\n",
       " 'flores',\n",
       " 'food101',\n",
       " 'forest_fires',\n",
       " 'fuss',\n",
       " 'gap',\n",
       " 'geirhos_conflict_stimuli',\n",
       " 'genomics_ood',\n",
       " 'german_credit_numeric',\n",
       " 'gigaword',\n",
       " 'glue',\n",
       " 'goemotions',\n",
       " 'gpt3',\n",
       " 'groove',\n",
       " 'gtzan',\n",
       " 'gtzan_music_speech',\n",
       " 'hellaswag',\n",
       " 'higgs',\n",
       " 'horses_or_humans',\n",
       " 'i_naturalist2017',\n",
       " 'imagenet2012',\n",
       " 'imagenet2012_corrupted',\n",
       " 'imagenet2012_real',\n",
       " 'imagenet2012_subset',\n",
       " 'imagenet_a',\n",
       " 'imagenet_r',\n",
       " 'imagenet_resized',\n",
       " 'imagenet_v2',\n",
       " 'imagenette',\n",
       " 'imagewang',\n",
       " 'imdb_reviews',\n",
       " 'irc_disentanglement',\n",
       " 'iris',\n",
       " 'kitti',\n",
       " 'kmnist',\n",
       " 'lambada',\n",
       " 'lfw',\n",
       " 'librispeech',\n",
       " 'librispeech_lm',\n",
       " 'libritts',\n",
       " 'ljspeech',\n",
       " 'lm1b',\n",
       " 'lost_and_found',\n",
       " 'lsun',\n",
       " 'malaria',\n",
       " 'math_dataset',\n",
       " 'mctaco',\n",
       " 'mlqa',\n",
       " 'mnist',\n",
       " 'mnist_corrupted',\n",
       " 'movie_lens',\n",
       " 'movie_rationales',\n",
       " 'movielens',\n",
       " 'moving_mnist',\n",
       " 'multi_news',\n",
       " 'multi_nli',\n",
       " 'multi_nli_mismatch',\n",
       " 'natural_questions',\n",
       " 'natural_questions_open',\n",
       " 'newsroom',\n",
       " 'nsynth',\n",
       " 'nyu_depth_v2',\n",
       " 'omniglot',\n",
       " 'open_images_challenge2019_detection',\n",
       " 'open_images_v4',\n",
       " 'openbookqa',\n",
       " 'opinion_abstracts',\n",
       " 'opinosis',\n",
       " 'opus',\n",
       " 'oxford_flowers102',\n",
       " 'oxford_iiit_pet',\n",
       " 'para_crawl',\n",
       " 'patch_camelyon',\n",
       " 'paws_wiki',\n",
       " 'paws_x_wiki',\n",
       " 'pet_finder',\n",
       " 'pg19',\n",
       " 'piqa',\n",
       " 'places365_small',\n",
       " 'plant_leaves',\n",
       " 'plant_village',\n",
       " 'plantae_k',\n",
       " 'qa4mre',\n",
       " 'qasc',\n",
       " 'quac',\n",
       " 'quickdraw_bitmap',\n",
       " 'radon',\n",
       " 'reddit',\n",
       " 'reddit_disentanglement',\n",
       " 'reddit_tifu',\n",
       " 'resisc45',\n",
       " 'robonet',\n",
       " 'rock_paper_scissors',\n",
       " 'rock_you',\n",
       " 'salient_span_wikipedia',\n",
       " 'samsum',\n",
       " 'savee',\n",
       " 'scan',\n",
       " 'scene_parse150',\n",
       " 'scicite',\n",
       " 'scientific_papers',\n",
       " 'sentiment140',\n",
       " 'shapes3d',\n",
       " 'smallnorb',\n",
       " 'snli',\n",
       " 'so2sat',\n",
       " 'speech_commands',\n",
       " 'spoken_digit',\n",
       " 'squad',\n",
       " 'stanford_dogs',\n",
       " 'stanford_online_products',\n",
       " 'starcraft_video',\n",
       " 'stl10',\n",
       " 'story_cloze',\n",
       " 'sun397',\n",
       " 'super_glue',\n",
       " 'svhn_cropped',\n",
       " 'ted_hrlr_translate',\n",
       " 'ted_multi_translate',\n",
       " 'tedlium',\n",
       " 'tf_flowers',\n",
       " 'the300w_lp',\n",
       " 'tiny_shakespeare',\n",
       " 'titanic',\n",
       " 'trec',\n",
       " 'trivia_qa',\n",
       " 'tydi_qa',\n",
       " 'uc_merced',\n",
       " 'ucf101',\n",
       " 'vctk',\n",
       " 'vgg_face2',\n",
       " 'visual_domain_decathlon',\n",
       " 'voc',\n",
       " 'voxceleb',\n",
       " 'voxforge',\n",
       " 'waymo_open_dataset',\n",
       " 'web_questions',\n",
       " 'wider_face',\n",
       " 'wiki40b',\n",
       " 'wiki_bio',\n",
       " 'wikihow',\n",
       " 'wikipedia',\n",
       " 'wikipedia_toxicity_subtypes',\n",
       " 'wine_quality',\n",
       " 'winogrande',\n",
       " 'wmt14_translate',\n",
       " 'wmt15_translate',\n",
       " 'wmt16_translate',\n",
       " 'wmt17_translate',\n",
       " 'wmt18_translate',\n",
       " 'wmt19_translate',\n",
       " 'wmt_t2t_translate',\n",
       " 'wmt_translate',\n",
       " 'wordnet',\n",
       " 'xnli',\n",
       " 'xquad',\n",
       " 'xsum',\n",
       " 'yelp_polarity_reviews',\n",
       " 'yes_no']"
      ]
     },
     "metadata": {},
     "execution_count": 5
    }
   ],
   "source": [
    "tfds.list_builders()"
   ]
  },
  {
   "cell_type": "markdown",
   "metadata": {
    "colab_type": "text",
    "id": "JWFm6VtdUAFt"
   },
   "source": [
    "## `tfds.load`: 一行代码获取数据集\n",
    "\n",
    "[`tfds.load`](https://www.tensorflow.google.cn/datasets/api_docs/python/tfds/load) 是构建并加载 `tf.data.Dataset` 最简单的方式。\n",
    "\n",
    "`tf.data.Dataset` 是构建输入流水线的标准 TensorFlow 接口。如果你对这个接口不熟悉，我们强烈建议你阅读 [TensorFlow 官方指南](https://www.tensorflow.google.cn/guide/datasets)。\n",
    "\n",
    "下面，我们先加载 MNIST 训练数据。这个步骤会下载并准备好该数据，除非你显式指定 `download=False`。值得注意的是，一旦该数据准备好了，后续的 `load` 命令便不会重新下载，可以重复使用准备好的数据。\n",
    "你可以通过指定 `data_dir=` (默认是 `~/tensorflow_datasets/`) 来自定义数据保存/加载的路径。"
   ]
  },
  {
   "cell_type": "code",
   "execution_count": 9,
   "metadata": {
    "colab": {},
    "colab_type": "code",
    "id": "dCou80mnLLPV"
   },
   "outputs": [
    {
     "output_type": "stream",
     "name": "stdout",
     "text": [
      "<PrefetchDataset shapes: {image: (28, 28, 1), label: ()}, types: {image: tf.uint8, label: tf.int64}>\n"
     ]
    }
   ],
   "source": [
    "mnist_train = tfds.load(name=\"mnist\", split=\"train\")\n",
    "assert isinstance(mnist_train, tf.data.Dataset)\n",
    "print(mnist_train)"
   ]
  },
  {
   "cell_type": "markdown",
   "metadata": {
    "colab_type": "text",
    "id": "xdICgkWrUAFw"
   },
   "source": [
    "加载数据集时，将使用规范的默认版本。 但是，建议你指定要使用的数据集的主版本，并在结果中表明使用了哪个版本的数据集。更多详情请参考[数据集版本控制文档](https://github.com/tensorflow/datasets/blob/master/docs/)。"
   ]
  },
  {
   "cell_type": "code",
   "execution_count": 7,
   "metadata": {
    "colab": {},
    "colab_type": "code",
    "id": "OCXCz-vhj0kE"
   },
   "outputs": [
    {
     "output_type": "error",
     "ename": "AssertionError",
     "evalue": "Failed to construct dataset mnist:1.*.*: Dataset mnist cannot be loaded at version 1.*.*, only: 3.0.1.",
     "traceback": [
      "\u001b[0;31m---------------------------------------------------------------------------\u001b[0m",
      "\u001b[0;31mAssertionError\u001b[0m                            Traceback (most recent call last)",
      "\u001b[0;32m<ipython-input-7-416e362b9c77>\u001b[0m in \u001b[0;36m<module>\u001b[0;34m\u001b[0m\n\u001b[0;32m----> 1\u001b[0;31m \u001b[0mmnist\u001b[0m \u001b[0;34m=\u001b[0m \u001b[0mtfds\u001b[0m\u001b[0;34m.\u001b[0m\u001b[0mload\u001b[0m\u001b[0;34m(\u001b[0m\u001b[0;34m\"mnist:1.*.*\"\u001b[0m\u001b[0;34m)\u001b[0m\u001b[0;34m\u001b[0m\u001b[0m\n\u001b[0m",
      "\u001b[0;32m~/.pyenv/versions/3.6.5/lib/python3.6/site-packages/tensorflow_datasets/core/load.py\u001b[0m in \u001b[0;36mload\u001b[0;34m(name, split, data_dir, batch_size, shuffle_files, download, as_supervised, decoders, read_config, with_info, builder_kwargs, download_and_prepare_kwargs, as_dataset_kwargs, try_gcs)\u001b[0m\n\u001b[1;32m    339\u001b[0m     \u001b[0mdata_dir\u001b[0m \u001b[0;34m=\u001b[0m \u001b[0mgcs_utils\u001b[0m\u001b[0;34m.\u001b[0m\u001b[0mgcs_path\u001b[0m\u001b[0;34m(\u001b[0m\u001b[0;34m\"datasets\"\u001b[0m\u001b[0;34m)\u001b[0m\u001b[0;34m\u001b[0m\u001b[0m\n\u001b[1;32m    340\u001b[0m \u001b[0;34m\u001b[0m\u001b[0m\n\u001b[0;32m--> 341\u001b[0;31m   \u001b[0mdbuilder\u001b[0m \u001b[0;34m=\u001b[0m \u001b[0mbuilder\u001b[0m\u001b[0;34m(\u001b[0m\u001b[0mname\u001b[0m\u001b[0;34m,\u001b[0m \u001b[0mdata_dir\u001b[0m\u001b[0;34m=\u001b[0m\u001b[0mdata_dir\u001b[0m\u001b[0;34m,\u001b[0m \u001b[0;34m**\u001b[0m\u001b[0mbuilder_kwargs\u001b[0m\u001b[0;34m)\u001b[0m\u001b[0;34m\u001b[0m\u001b[0m\n\u001b[0m\u001b[1;32m    342\u001b[0m   \u001b[0;32mif\u001b[0m \u001b[0mdownload\u001b[0m\u001b[0;34m:\u001b[0m\u001b[0;34m\u001b[0m\u001b[0m\n\u001b[1;32m    343\u001b[0m     \u001b[0mdownload_and_prepare_kwargs\u001b[0m \u001b[0;34m=\u001b[0m \u001b[0mdownload_and_prepare_kwargs\u001b[0m \u001b[0;32mor\u001b[0m \u001b[0;34m{\u001b[0m\u001b[0;34m}\u001b[0m\u001b[0;34m\u001b[0m\u001b[0m\n",
      "\u001b[0;32m~/.pyenv/versions/3.6.5/lib/python3.6/site-packages/tensorflow_datasets/core/load.py\u001b[0m in \u001b[0;36mbuilder\u001b[0;34m(name, data_dir, **builder_init_kwargs)\u001b[0m\n\u001b[1;32m    205\u001b[0m   \u001b[0;32mif\u001b[0m \u001b[0mcls\u001b[0m\u001b[0;34m:\u001b[0m\u001b[0;34m\u001b[0m\u001b[0m\n\u001b[1;32m    206\u001b[0m     \u001b[0;32mwith\u001b[0m \u001b[0mpy_utils\u001b[0m\u001b[0;34m.\u001b[0m\u001b[0mtry_reraise\u001b[0m\u001b[0;34m(\u001b[0m\u001b[0mprefix\u001b[0m\u001b[0;34m=\u001b[0m\u001b[0;34mf\"Failed to construct dataset {name}: \"\u001b[0m\u001b[0;34m)\u001b[0m\u001b[0;34m:\u001b[0m\u001b[0;34m\u001b[0m\u001b[0m\n\u001b[0;32m--> 207\u001b[0;31m       \u001b[0;32mreturn\u001b[0m \u001b[0mcls\u001b[0m\u001b[0;34m(\u001b[0m\u001b[0mdata_dir\u001b[0m\u001b[0;34m=\u001b[0m\u001b[0mdata_dir\u001b[0m\u001b[0;34m,\u001b[0m \u001b[0;34m**\u001b[0m\u001b[0mbuilder_kwargs\u001b[0m\u001b[0;34m,\u001b[0m \u001b[0;34m**\u001b[0m\u001b[0mbuilder_init_kwargs\u001b[0m\u001b[0;34m)\u001b[0m  \u001b[0;31m# pytype: disable=not-instantiable\u001b[0m\u001b[0;34m\u001b[0m\u001b[0m\n\u001b[0m\u001b[1;32m    208\u001b[0m \u001b[0;34m\u001b[0m\u001b[0m\n\u001b[1;32m    209\u001b[0m   \u001b[0;31m# If neither the code nor the files are found, raise DatasetNotFoundError\u001b[0m\u001b[0;34m\u001b[0m\u001b[0;34m\u001b[0m\u001b[0m\n",
      "\u001b[0;32m~/.pyenv/versions/3.6.5/lib/python3.6/site-packages/tensorflow_datasets/core/dataset_builder.py\u001b[0m in \u001b[0;36m__init__\u001b[0;34m(self, data_dir, config, version)\u001b[0m\n\u001b[1;32m    170\u001b[0m     \u001b[0mself\u001b[0m\u001b[0;34m.\u001b[0m\u001b[0m_builder_config\u001b[0m \u001b[0;34m=\u001b[0m \u001b[0mself\u001b[0m\u001b[0;34m.\u001b[0m\u001b[0m_create_builder_config\u001b[0m\u001b[0;34m(\u001b[0m\u001b[0mconfig\u001b[0m\u001b[0;34m)\u001b[0m\u001b[0;34m\u001b[0m\u001b[0m\n\u001b[1;32m    171\u001b[0m     \u001b[0;31m# Extract code version (VERSION or config)\u001b[0m\u001b[0;34m\u001b[0m\u001b[0;34m\u001b[0m\u001b[0m\n\u001b[0;32m--> 172\u001b[0;31m     \u001b[0mself\u001b[0m\u001b[0;34m.\u001b[0m\u001b[0m_version\u001b[0m \u001b[0;34m=\u001b[0m \u001b[0mself\u001b[0m\u001b[0;34m.\u001b[0m\u001b[0m_pick_version\u001b[0m\u001b[0;34m(\u001b[0m\u001b[0mversion\u001b[0m\u001b[0;34m)\u001b[0m\u001b[0;34m\u001b[0m\u001b[0m\n\u001b[0m\u001b[1;32m    173\u001b[0m     \u001b[0;31m# Compute the base directory (for download) and dataset/version directory.\u001b[0m\u001b[0;34m\u001b[0m\u001b[0;34m\u001b[0m\u001b[0m\n\u001b[1;32m    174\u001b[0m     \u001b[0mself\u001b[0m\u001b[0;34m.\u001b[0m\u001b[0m_data_dir_root\u001b[0m\u001b[0;34m,\u001b[0m \u001b[0mself\u001b[0m\u001b[0;34m.\u001b[0m\u001b[0m_data_dir\u001b[0m \u001b[0;34m=\u001b[0m \u001b[0mself\u001b[0m\u001b[0;34m.\u001b[0m\u001b[0m_build_data_dir\u001b[0m\u001b[0;34m(\u001b[0m\u001b[0mdata_dir\u001b[0m\u001b[0;34m)\u001b[0m\u001b[0;34m\u001b[0m\u001b[0m\n",
      "\u001b[0;32m~/.pyenv/versions/3.6.5/lib/python3.6/site-packages/tensorflow_datasets/core/dataset_builder.py\u001b[0m in \u001b[0;36m_pick_version\u001b[0;34m(self, requested_version)\u001b[0m\n\u001b[1;32m    250\u001b[0m     msg = \"Dataset {} cannot be loaded at version {}, only: {}.\".format(\n\u001b[1;32m    251\u001b[0m         self.name, requested_version, \", \".join(available_versions))\n\u001b[0;32m--> 252\u001b[0;31m     \u001b[0;32mraise\u001b[0m \u001b[0mAssertionError\u001b[0m\u001b[0;34m(\u001b[0m\u001b[0mmsg\u001b[0m\u001b[0;34m)\u001b[0m\u001b[0;34m\u001b[0m\u001b[0m\n\u001b[0m\u001b[1;32m    253\u001b[0m \u001b[0;34m\u001b[0m\u001b[0m\n\u001b[1;32m    254\u001b[0m   \u001b[0;34m@\u001b[0m\u001b[0mproperty\u001b[0m\u001b[0;34m\u001b[0m\u001b[0m\n",
      "\u001b[0;31mAssertionError\u001b[0m: Failed to construct dataset mnist:1.*.*: Dataset mnist cannot be loaded at version 1.*.*, only: 3.0.1."
     ]
    }
   ],
   "source": [
    "mnist = tfds.load(\"mnist:1.*.*\")"
   ]
  },
  {
   "cell_type": "markdown",
   "metadata": {
    "colab_type": "text",
    "id": "qyhTG75PUAFy"
   },
   "source": [
    "## 特征字典\n",
    "\n",
    "所有 `tfds` 数据集都包含将特征名称映射到 Tensor 值的特征字典。 典型的数据集（如 MNIST）将具有2个键：`\"image\"` 和 `\"label\"`。 下面我们看一个例子。\n",
    "\n",
    "注意：在图模式（graph mode）下，请参阅 [tf.data 指南](https://www.tensorflow.google.cn/guide/datasets#creating_an_iterator) 以了解如何在 `tf.data.Dataset` 上进行迭代。"
   ]
  },
  {
   "cell_type": "code",
   "execution_count": 11,
   "metadata": {
    "colab": {},
    "colab_type": "code",
    "id": "YHE21nkHLrER"
   },
   "outputs": [
    {
     "output_type": "stream",
     "name": "stdout",
     "text": [
      "Label: 4\n"
     ]
    },
    {
     "output_type": "display_data",
     "data": {
      "text/plain": "<Figure size 432x288 with 1 Axes>",
      "image/svg+xml": "<?xml version=\"1.0\" encoding=\"utf-8\" standalone=\"no\"?>\n<!DOCTYPE svg PUBLIC \"-//W3C//DTD SVG 1.1//EN\"\n  \"http://www.w3.org/Graphics/SVG/1.1/DTD/svg11.dtd\">\n<!-- Created with matplotlib (https://matplotlib.org/) -->\n<svg height=\"252.018125pt\" version=\"1.1\" viewBox=\"0 0 255.065 252.018125\" width=\"255.065pt\" xmlns=\"http://www.w3.org/2000/svg\" xmlns:xlink=\"http://www.w3.org/1999/xlink\">\n <defs>\n  <style type=\"text/css\">\n*{stroke-linecap:butt;stroke-linejoin:round;}\n  </style>\n </defs>\n <g id=\"figure_1\">\n  <g id=\"patch_1\">\n   <path d=\"M 0 252.018125 \nL 255.065 252.018125 \nL 255.065 0 \nL 0 0 \nz\n\" style=\"fill:none;\"/>\n  </g>\n  <g id=\"axes_1\">\n   <g id=\"patch_2\">\n    <path d=\"M 26.925 228.14 \nL 244.365 228.14 \nL 244.365 10.7 \nL 26.925 10.7 \nz\n\" style=\"fill:#ffffff;\"/>\n   </g>\n   <g clip-path=\"url(#p3c174f4407)\">\n    <image height=\"218\" id=\"image3be6ad135b\" transform=\"scale(1 -1)translate(0 -218)\" width=\"218\" x=\"26.925\" xlink:href=\"data:image/png;base64,\niVBORw0KGgoAAAANSUhEUgAAANoAAADaCAYAAADAHVzbAAAABHNCSVQICAgIfAhkiAAABUdJREFUeJzt3TFrVGkYhuGZZUFsFCwUsVAL0wTEiHaCQgrBJhFtEhDRP6HiHzBgbUDEMoKNpWCjKULShiDYCIpJLIwj2IiNs93Csp43JJk8EzzX1T4c8zU3H8xhxm6n0+l3gF3117APAG0gNAgQGgQIDQKEBgFCgwChQYDQIEBoECA0CBAaBAgNAoQGAUKDAKFBgNAgQGgQIDQIEBoECA0ChAYBQoOAv4d9gDba2Ngo92/fvpX7qVOnBnkcAtxoECA0CBAaBAgNAoQGAUKDAKFBgPdoQ/Djx49yP3LkSLmfOHGi3D98+LDFE7Hb3GgQIDQIEBoECA0ChAYBQoMAoUFAt9Pp9Id9iLZ59epVuY+Pj5f78vJyuV++fLncv3z5Uu4MnhsNAoQGAUKDAKFBgNAgQGgQIDQI8H20Ieh2uzvaR0dHy/369evlPjs7W+4MnhsNAoQGAUKDAKFBgNAgQGgQIDQI8H20ITh79my5v379utwXFhbK/cqVK1s+E7vLjQYBQoMAoUGA0CBAaBAgNAjw8f4e9PXr13I/ePBguV+4cKHcl5aWtnwmdsaNBgFCgwChQYDQIEBoECA0CBAaBPi5uT1ofn6+3CcmJsr94sWL5e49Wp4bDQKEBgFCgwChQYDQIEBoECA0CPAebQ+am5sr98nJyXI/f/78II/DALjRIEBoECA0CBAaBAgNAoQGAUKDgNa+R3v06FG537hxo9yfPn1a7uvr641br9crn93Y2Cj3fr/+Kc6rV6+W+4EDBxq379+/l8+yPW40CBAaBAgNAoQGAUKDAKFBQGv/26Zbt26V+5MnT3btb3e73XLf7OP7nZqammrcnj9/vqt/u63caBAgNAgQGgQIDQKEBgFCgwChQUBr36Pt27ev3FdXV8v90KFD5b6ystK4LS4u7ujfPn36dLmPjIyU+/LycuN27ty58tlfv36VO7/nRoMAoUGA0CBAaBAgNAgQGgQIDQJa+3NzP3/+LPfHjx+X+71798r92bNnjdvMzEz57GaOHTtW7m/fvi33sbGxxu3kyZPls+/fvy93fs+NBgFCgwChQYDQIEBoECA0CBAaBLT2PdpmXrx4Ue53794NneT/1tbWyn12drbc79y507jdvn27fPb+/fvlzu+50SBAaBAgNAgQGgQIDQKEBgFCgwDv0Rr0er1hH2Hb1tfXt/3spUuXBncQ/uVGgwChQYDQIEBoECA0CBAaBPh4v8Hhw4eHfYRt2+wrPg8fPmzcRkdHy2ePHj1a7p8/fy73tnKjQYDQIEBoECA0CBAaBAgNAoQGAd6jNdi/f3+5r6yslPv8/Pwgj7Mlq6ur5V6dbXx8vHz25s2b5f7gwYNybys3GgQIDQKEBgFCgwChQYDQIEBoEOA9WoM3b96U+9jYWLn3+/0BnmawqneAm71HO3PmzKCP0wpuNAgQGgQIDQKEBgFCgwChQYDQIKDb6XT27gsfdsXx48cbt3fv3pXPbvY9vGvXrpX7p0+fyv1P5UaDAKFBgNAgQGgQIDQIEBoECA0CfB+thT5+/Ni4vXz5snx2YmKi3Kenp8t9Zmam3P9UbjQIEBoECA0ChAYBQoMAoUGAj/f5j7m5uXKfnJws916vN8jj/DHcaBAgNAgQGgQIDQKEBgFCgwChQYCfm4MANxoECA0ChAYBQoMAoUGA0CBAaBAgNAgQGgQIDQKEBgFCgwChQYDQIEBoECA0CBAaBAgNAoQGAUKDAKFBgNAgQGgQIDQIEBoECA0ChAYBQoMAoUGA0CBAaBAgNAgQGgQIDQKEBgFCgwChQYDQIOAfgi27chwkdr4AAAAASUVORK5CYII=\" y=\"-10.14\"/>\n   </g>\n   <g id=\"matplotlib.axis_1\">\n    <g id=\"xtick_1\">\n     <g id=\"line2d_1\">\n      <defs>\n       <path d=\"M 0 0 \nL 0 3.5 \n\" id=\"mcaa6b4e4dc\" style=\"stroke:#000000;stroke-width:0.8;\"/>\n      </defs>\n      <g>\n       <use style=\"stroke:#000000;stroke-width:0.8;\" x=\"30.807857\" xlink:href=\"#mcaa6b4e4dc\" y=\"228.14\"/>\n      </g>\n     </g>\n     <g id=\"text_1\">\n      <!-- 0 -->\n      <defs>\n       <path d=\"M 31.78125 66.40625 \nQ 24.171875 66.40625 20.328125 58.90625 \nQ 16.5 51.421875 16.5 36.375 \nQ 16.5 21.390625 20.328125 13.890625 \nQ 24.171875 6.390625 31.78125 6.390625 \nQ 39.453125 6.390625 43.28125 13.890625 \nQ 47.125 21.390625 47.125 36.375 \nQ 47.125 51.421875 43.28125 58.90625 \nQ 39.453125 66.40625 31.78125 66.40625 \nz\nM 31.78125 74.21875 \nQ 44.046875 74.21875 50.515625 64.515625 \nQ 56.984375 54.828125 56.984375 36.375 \nQ 56.984375 17.96875 50.515625 8.265625 \nQ 44.046875 -1.421875 31.78125 -1.421875 \nQ 19.53125 -1.421875 13.0625 8.265625 \nQ 6.59375 17.96875 6.59375 36.375 \nQ 6.59375 54.828125 13.0625 64.515625 \nQ 19.53125 74.21875 31.78125 74.21875 \nz\n\" id=\"DejaVuSans-48\"/>\n      </defs>\n      <g transform=\"translate(27.626607 242.738437)scale(0.1 -0.1)\">\n       <use xlink:href=\"#DejaVuSans-48\"/>\n      </g>\n     </g>\n    </g>\n    <g id=\"xtick_2\">\n     <g id=\"line2d_2\">\n      <g>\n       <use style=\"stroke:#000000;stroke-width:0.8;\" x=\"69.636429\" xlink:href=\"#mcaa6b4e4dc\" y=\"228.14\"/>\n      </g>\n     </g>\n     <g id=\"text_2\">\n      <!-- 5 -->\n      <defs>\n       <path d=\"M 10.796875 72.90625 \nL 49.515625 72.90625 \nL 49.515625 64.59375 \nL 19.828125 64.59375 \nL 19.828125 46.734375 \nQ 21.96875 47.46875 24.109375 47.828125 \nQ 26.265625 48.1875 28.421875 48.1875 \nQ 40.625 48.1875 47.75 41.5 \nQ 54.890625 34.8125 54.890625 23.390625 \nQ 54.890625 11.625 47.5625 5.09375 \nQ 40.234375 -1.421875 26.90625 -1.421875 \nQ 22.3125 -1.421875 17.546875 -0.640625 \nQ 12.796875 0.140625 7.71875 1.703125 \nL 7.71875 11.625 \nQ 12.109375 9.234375 16.796875 8.0625 \nQ 21.484375 6.890625 26.703125 6.890625 \nQ 35.15625 6.890625 40.078125 11.328125 \nQ 45.015625 15.765625 45.015625 23.390625 \nQ 45.015625 31 40.078125 35.4375 \nQ 35.15625 39.890625 26.703125 39.890625 \nQ 22.75 39.890625 18.8125 39.015625 \nQ 14.890625 38.140625 10.796875 36.28125 \nz\n\" id=\"DejaVuSans-53\"/>\n      </defs>\n      <g transform=\"translate(66.455179 242.738437)scale(0.1 -0.1)\">\n       <use xlink:href=\"#DejaVuSans-53\"/>\n      </g>\n     </g>\n    </g>\n    <g id=\"xtick_3\">\n     <g id=\"line2d_3\">\n      <g>\n       <use style=\"stroke:#000000;stroke-width:0.8;\" x=\"108.465\" xlink:href=\"#mcaa6b4e4dc\" y=\"228.14\"/>\n      </g>\n     </g>\n     <g id=\"text_3\">\n      <!-- 10 -->\n      <defs>\n       <path d=\"M 12.40625 8.296875 \nL 28.515625 8.296875 \nL 28.515625 63.921875 \nL 10.984375 60.40625 \nL 10.984375 69.390625 \nL 28.421875 72.90625 \nL 38.28125 72.90625 \nL 38.28125 8.296875 \nL 54.390625 8.296875 \nL 54.390625 0 \nL 12.40625 0 \nz\n\" id=\"DejaVuSans-49\"/>\n      </defs>\n      <g transform=\"translate(102.1025 242.738437)scale(0.1 -0.1)\">\n       <use xlink:href=\"#DejaVuSans-49\"/>\n       <use x=\"63.623047\" xlink:href=\"#DejaVuSans-48\"/>\n      </g>\n     </g>\n    </g>\n    <g id=\"xtick_4\">\n     <g id=\"line2d_4\">\n      <g>\n       <use style=\"stroke:#000000;stroke-width:0.8;\" x=\"147.293571\" xlink:href=\"#mcaa6b4e4dc\" y=\"228.14\"/>\n      </g>\n     </g>\n     <g id=\"text_4\">\n      <!-- 15 -->\n      <g transform=\"translate(140.931071 242.738437)scale(0.1 -0.1)\">\n       <use xlink:href=\"#DejaVuSans-49\"/>\n       <use x=\"63.623047\" xlink:href=\"#DejaVuSans-53\"/>\n      </g>\n     </g>\n    </g>\n    <g id=\"xtick_5\">\n     <g id=\"line2d_5\">\n      <g>\n       <use style=\"stroke:#000000;stroke-width:0.8;\" x=\"186.122143\" xlink:href=\"#mcaa6b4e4dc\" y=\"228.14\"/>\n      </g>\n     </g>\n     <g id=\"text_5\">\n      <!-- 20 -->\n      <defs>\n       <path d=\"M 19.1875 8.296875 \nL 53.609375 8.296875 \nL 53.609375 0 \nL 7.328125 0 \nL 7.328125 8.296875 \nQ 12.9375 14.109375 22.625 23.890625 \nQ 32.328125 33.6875 34.8125 36.53125 \nQ 39.546875 41.84375 41.421875 45.53125 \nQ 43.3125 49.21875 43.3125 52.78125 \nQ 43.3125 58.59375 39.234375 62.25 \nQ 35.15625 65.921875 28.609375 65.921875 \nQ 23.96875 65.921875 18.8125 64.3125 \nQ 13.671875 62.703125 7.8125 59.421875 \nL 7.8125 69.390625 \nQ 13.765625 71.78125 18.9375 73 \nQ 24.125 74.21875 28.421875 74.21875 \nQ 39.75 74.21875 46.484375 68.546875 \nQ 53.21875 62.890625 53.21875 53.421875 \nQ 53.21875 48.921875 51.53125 44.890625 \nQ 49.859375 40.875 45.40625 35.40625 \nQ 44.1875 33.984375 37.640625 27.21875 \nQ 31.109375 20.453125 19.1875 8.296875 \nz\n\" id=\"DejaVuSans-50\"/>\n      </defs>\n      <g transform=\"translate(179.759643 242.738437)scale(0.1 -0.1)\">\n       <use xlink:href=\"#DejaVuSans-50\"/>\n       <use x=\"63.623047\" xlink:href=\"#DejaVuSans-48\"/>\n      </g>\n     </g>\n    </g>\n    <g id=\"xtick_6\">\n     <g id=\"line2d_6\">\n      <g>\n       <use style=\"stroke:#000000;stroke-width:0.8;\" x=\"224.950714\" xlink:href=\"#mcaa6b4e4dc\" y=\"228.14\"/>\n      </g>\n     </g>\n     <g id=\"text_6\">\n      <!-- 25 -->\n      <g transform=\"translate(218.588214 242.738437)scale(0.1 -0.1)\">\n       <use xlink:href=\"#DejaVuSans-50\"/>\n       <use x=\"63.623047\" xlink:href=\"#DejaVuSans-53\"/>\n      </g>\n     </g>\n    </g>\n   </g>\n   <g id=\"matplotlib.axis_2\">\n    <g id=\"ytick_1\">\n     <g id=\"line2d_7\">\n      <defs>\n       <path d=\"M 0 0 \nL -3.5 0 \n\" id=\"m54d4517760\" style=\"stroke:#000000;stroke-width:0.8;\"/>\n      </defs>\n      <g>\n       <use style=\"stroke:#000000;stroke-width:0.8;\" x=\"26.925\" xlink:href=\"#m54d4517760\" y=\"14.582857\"/>\n      </g>\n     </g>\n     <g id=\"text_7\">\n      <!-- 0 -->\n      <g transform=\"translate(13.5625 18.382076)scale(0.1 -0.1)\">\n       <use xlink:href=\"#DejaVuSans-48\"/>\n      </g>\n     </g>\n    </g>\n    <g id=\"ytick_2\">\n     <g id=\"line2d_8\">\n      <g>\n       <use style=\"stroke:#000000;stroke-width:0.8;\" x=\"26.925\" xlink:href=\"#m54d4517760\" y=\"53.411429\"/>\n      </g>\n     </g>\n     <g id=\"text_8\">\n      <!-- 5 -->\n      <g transform=\"translate(13.5625 57.210647)scale(0.1 -0.1)\">\n       <use xlink:href=\"#DejaVuSans-53\"/>\n      </g>\n     </g>\n    </g>\n    <g id=\"ytick_3\">\n     <g id=\"line2d_9\">\n      <g>\n       <use style=\"stroke:#000000;stroke-width:0.8;\" x=\"26.925\" xlink:href=\"#m54d4517760\" y=\"92.24\"/>\n      </g>\n     </g>\n     <g id=\"text_9\">\n      <!-- 10 -->\n      <g transform=\"translate(7.2 96.039219)scale(0.1 -0.1)\">\n       <use xlink:href=\"#DejaVuSans-49\"/>\n       <use x=\"63.623047\" xlink:href=\"#DejaVuSans-48\"/>\n      </g>\n     </g>\n    </g>\n    <g id=\"ytick_4\">\n     <g id=\"line2d_10\">\n      <g>\n       <use style=\"stroke:#000000;stroke-width:0.8;\" x=\"26.925\" xlink:href=\"#m54d4517760\" y=\"131.068571\"/>\n      </g>\n     </g>\n     <g id=\"text_10\">\n      <!-- 15 -->\n      <g transform=\"translate(7.2 134.86779)scale(0.1 -0.1)\">\n       <use xlink:href=\"#DejaVuSans-49\"/>\n       <use x=\"63.623047\" xlink:href=\"#DejaVuSans-53\"/>\n      </g>\n     </g>\n    </g>\n    <g id=\"ytick_5\">\n     <g id=\"line2d_11\">\n      <g>\n       <use style=\"stroke:#000000;stroke-width:0.8;\" x=\"26.925\" xlink:href=\"#m54d4517760\" y=\"169.897143\"/>\n      </g>\n     </g>\n     <g id=\"text_11\">\n      <!-- 20 -->\n      <g transform=\"translate(7.2 173.696362)scale(0.1 -0.1)\">\n       <use xlink:href=\"#DejaVuSans-50\"/>\n       <use x=\"63.623047\" xlink:href=\"#DejaVuSans-48\"/>\n      </g>\n     </g>\n    </g>\n    <g id=\"ytick_6\">\n     <g id=\"line2d_12\">\n      <g>\n       <use style=\"stroke:#000000;stroke-width:0.8;\" x=\"26.925\" xlink:href=\"#m54d4517760\" y=\"208.725714\"/>\n      </g>\n     </g>\n     <g id=\"text_12\">\n      <!-- 25 -->\n      <g transform=\"translate(7.2 212.524933)scale(0.1 -0.1)\">\n       <use xlink:href=\"#DejaVuSans-50\"/>\n       <use x=\"63.623047\" xlink:href=\"#DejaVuSans-53\"/>\n      </g>\n     </g>\n    </g>\n   </g>\n   <g id=\"patch_3\">\n    <path d=\"M 26.925 228.14 \nL 26.925 10.7 \n\" style=\"fill:none;stroke:#000000;stroke-linecap:square;stroke-linejoin:miter;stroke-width:0.8;\"/>\n   </g>\n   <g id=\"patch_4\">\n    <path d=\"M 244.365 228.14 \nL 244.365 10.7 \n\" style=\"fill:none;stroke:#000000;stroke-linecap:square;stroke-linejoin:miter;stroke-width:0.8;\"/>\n   </g>\n   <g id=\"patch_5\">\n    <path d=\"M 26.925 228.14 \nL 244.365 228.14 \n\" style=\"fill:none;stroke:#000000;stroke-linecap:square;stroke-linejoin:miter;stroke-width:0.8;\"/>\n   </g>\n   <g id=\"patch_6\">\n    <path d=\"M 26.925 10.7 \nL 244.365 10.7 \n\" style=\"fill:none;stroke:#000000;stroke-linecap:square;stroke-linejoin:miter;stroke-width:0.8;\"/>\n   </g>\n  </g>\n </g>\n <defs>\n  <clipPath id=\"p3c174f4407\">\n   <rect height=\"217.44\" width=\"217.44\" x=\"26.925\" y=\"10.7\"/>\n  </clipPath>\n </defs>\n</svg>\n",
      "image/png": "[encoded data removed]"
     },
     "metadata": {
      "needs_background": "light"
     }
    }
   ],
   "source": [
    "for mnist_example in mnist_train.take(1):  # 只取一个样本\n",
    "    image, label = mnist_example[\"image\"], mnist_example[\"label\"]\n",
    "\n",
    "    plt.imshow(image.numpy()[:, :, 0].astype(np.float32), cmap=plt.get_cmap(\"gray\"))\n",
    "    print(\"Label: %d\" % label.numpy())"
   ]
  },
  {
   "cell_type": "markdown",
   "metadata": {
    "colab_type": "text",
    "id": "Ee5rTx4IUAF1"
   },
   "source": [
    "## `DatasetBuilder`\n",
    "\n",
    "`tfds.load` 实际上是一个基于 `DatasetBuilder` 的简单方便的包装器。我们可以直接使用 MNIST `DatasetBuilder` 实现与上述相同的操作。"
   ]
  },
  {
   "cell_type": "code",
   "execution_count": 12,
   "metadata": {
    "colab": {},
    "colab_type": "code",
    "id": "9FDDJXmBhpQ4"
   },
   "outputs": [
    {
     "output_type": "execute_result",
     "data": {
      "text/plain": [
       "<PrefetchDataset shapes: {image: (28, 28, 1), label: ()}, types: {image: tf.uint8, label: tf.int64}>"
      ]
     },
     "metadata": {},
     "execution_count": 12
    }
   ],
   "source": [
    "mnist_builder = tfds.builder(\"mnist\")\n",
    "mnist_builder.download_and_prepare()\n",
    "mnist_train = mnist_builder.as_dataset(split=\"train\")\n",
    "mnist_train"
   ]
  },
  {
   "cell_type": "markdown",
   "metadata": {
    "colab_type": "text",
    "id": "TaKrseRkUAF4"
   },
   "source": [
    "## 输入流水线\n",
    "\n",
    "一旦有了 `tf.data.Dataset` 对象，就可以使用 [`tf.data` 接口](https://www.tensorflow.google.cn/guide/datasets) 定义适合模型训练的输入流水线的其余部分。\n",
    "\n",
    "在这里，我们将重复使用数据集，以便有无限的样本流，然后随机打乱并创建大小为32的批。"
   ]
  },
  {
   "cell_type": "code",
   "execution_count": 13,
   "metadata": {
    "colab": {},
    "colab_type": "code",
    "id": "9OQZqGZMlSE8"
   },
   "outputs": [],
   "source": [
    "mnist_train = mnist_train.repeat().shuffle(1024).batch(32)\n",
    "\n",
    "# prefetch 将使输入流水线可以在模型训练时异步获取批处理。\n",
    "mnist_train = mnist_train.prefetch(tf.data.experimental.AUTOTUNE)\n",
    "\n",
    "# 现在你可以遍历数据集的批次并在 mnist_train 中训练批次：\n",
    "#   ..."
   ]
  },
  {
   "cell_type": "markdown",
   "metadata": {
    "colab_type": "text",
    "id": "4OT8i4qhUAF7"
   },
   "source": [
    "## 数据集信息（DatasetInfo）\n",
    "\n",
    "生成后，构建器将包含有关数据集的有用信息："
   ]
  },
  {
   "cell_type": "code",
   "execution_count": 14,
   "metadata": {
    "colab": {},
    "colab_type": "code",
    "id": "mSamfFznA9Ph"
   },
   "outputs": [
    {
     "output_type": "stream",
     "name": "stdout",
     "text": [
      "tfds.core.DatasetInfo(\n    name='mnist',\n    version=3.0.1,\n    description='The MNIST database of handwritten digits.',\n    homepage='http://yann.lecun.com/exdb/mnist/',\n    features=FeaturesDict({\n        'image': Image(shape=(28, 28, 1), dtype=tf.uint8),\n        'label': ClassLabel(shape=(), dtype=tf.int64, num_classes=10),\n    }),\n    total_num_examples=70000,\n    splits={\n        'test': 10000,\n        'train': 60000,\n    },\n    supervised_keys=('image', 'label'),\n    citation=\"\"\"@article{lecun2010mnist,\n      title={MNIST handwritten digit database},\n      author={LeCun, Yann and Cortes, Corinna and Burges, CJ},\n      journal={ATT Labs [Online]. Available: http://yann.lecun.com/exdb/mnist},\n      volume={2},\n      year={2010}\n    }\"\"\",\n    redistribution_info=,\n)\n\n"
     ]
    }
   ],
   "source": [
    "info = mnist_builder.info\n",
    "print(info)"
   ]
  },
  {
   "cell_type": "markdown",
   "metadata": {
    "colab_type": "text",
    "id": "MVMLnarBUAF-"
   },
   "source": [
    "`DatasetInfo` 还包含特征相关的有用信息："
   ]
  },
  {
   "cell_type": "code",
   "execution_count": 15,
   "metadata": {
    "colab": {},
    "colab_type": "code",
    "id": "u1wL14QH2TW1"
   },
   "outputs": [
    {
     "output_type": "stream",
     "name": "stdout",
     "text": [
      "FeaturesDict({\n    'image': Image(shape=(28, 28, 1), dtype=tf.uint8),\n    'label': ClassLabel(shape=(), dtype=tf.int64, num_classes=10),\n})\n10\n['0', '1', '2', '3', '4', '5', '6', '7', '8', '9']\n"
     ]
    }
   ],
   "source": [
    "print(info.features)\n",
    "print(info.features[\"label\"].num_classes)\n",
    "print(info.features[\"label\"].names)"
   ]
  },
  {
   "cell_type": "markdown",
   "metadata": {
    "colab_type": "text",
    "id": "YTiE3Ve9UAGB"
   },
   "source": [
    "你也可以通过 `tfds.load` 使用 `with_info = True` 加载 `DatasetInfo`。"
   ]
  },
  {
   "cell_type": "code",
   "execution_count": 16,
   "metadata": {
    "colab": {},
    "colab_type": "code",
    "id": "tvZYujQwBL7B"
   },
   "outputs": [
    {
     "output_type": "stream",
     "name": "stdout",
     "text": [
      "tfds.core.DatasetInfo(\n    name='mnist',\n    version=3.0.1,\n    description='The MNIST database of handwritten digits.',\n    homepage='http://yann.lecun.com/exdb/mnist/',\n    features=FeaturesDict({\n        'image': Image(shape=(28, 28, 1), dtype=tf.uint8),\n        'label': ClassLabel(shape=(), dtype=tf.int64, num_classes=10),\n    }),\n    total_num_examples=70000,\n    splits={\n        'test': 10000,\n        'train': 60000,\n    },\n    supervised_keys=('image', 'label'),\n    citation=\"\"\"@article{lecun2010mnist,\n      title={MNIST handwritten digit database},\n      author={LeCun, Yann and Cortes, Corinna and Burges, CJ},\n      journal={ATT Labs [Online]. Available: http://yann.lecun.com/exdb/mnist},\n      volume={2},\n      year={2010}\n    }\"\"\",\n    redistribution_info=,\n)\n\n"
     ]
    }
   ],
   "source": [
    "mnist_test, info = tfds.load(\"mnist\", split=\"test\", with_info=True)\n",
    "print(info)"
   ]
  },
  {
   "cell_type": "markdown",
   "metadata": {
    "colab_type": "text",
    "id": "skNcP7LnUAGE"
   },
   "source": [
    "## 可视化\n",
    "\n",
    "对于图像分类数据集，你可以使用 `tfds.show_examples` 来可视化一些样本。"
   ]
  },
  {
   "cell_type": "code",
   "execution_count": 23,
   "metadata": {
    "colab": {},
    "colab_type": "code",
    "id": "DpE2FD56cSQR"
   },
   "outputs": [
    {
     "output_type": "display_data",
     "data": {
      "text/plain": "<Figure size 648x648 with 9 Axes>",
      "image/svg+xml": "<?xml version=\"1.0\" encoding=\"utf-8\" standalone=\"no\"?>\n<!DOCTYPE svg PUBLIC \"-//W3C//DTD SVG 1.1//EN\"\n  \"http://www.w3.org/Graphics/SVG/1.1/DTD/svg11.dtd\">\n<!-- Created with matplotlib (https://matplotlib.org/) -->\n<svg height=\"520.818125pt\" version=\"1.1\" viewBox=\"0 0 520.065455 520.818125\" width=\"520.065455pt\" xmlns=\"http://www.w3.org/2000/svg\" xmlns:xlink=\"http://www.w3.org/1999/xlink\">\n <defs>\n  <style type=\"text/css\">\n*{stroke-linecap:butt;stroke-linejoin:round;}\n  </style>\n </defs>\n <g id=\"figure_1\">\n  <g id=\"patch_1\">\n   <path d=\"M 0 520.818125 \nL 520.065455 520.818125 \nL 520.065455 0 \nL 0 0 \nz\n\" style=\"fill:none;\"/>\n  </g>\n  <g id=\"axes_1\">\n   <g id=\"patch_2\">\n    <path d=\"M 10.7 144.129091 \nL 144.129091 144.129091 \nL 144.129091 10.7 \nL 10.7 10.7 \nz\n\" style=\"fill:#ffffff;\"/>\n   </g>\n   <g clip-path=\"url(#pe151ab263c)\">\n    <image height=\"134\" id=\"image9d5a6ba14c\" transform=\"scale(1 -1)translate(0 -134)\" width=\"134\" x=\"10.7\" xlink:href=\"data:image/png;base64,\niVBORw0KGgoAAAANSUhEUgAAAIYAAACGCAYAAAAYefKRAAAABHNCSVQICAgIfAhkiAAABYVJREFUeJzt3U9IFWscxvHXuFiLs5DMhQQiKELZMhA1UvqzSdTCgsoWuogg2ugyOSoitmnXwo0SBf4BRWhTIKSVKYK5E+EsEpQSAytxZVnWet7f43XudOYevff72b0P7xln8fjyMufMTJZz7pcDPIcyfQLYnygGJIoBiWJAohiQKAYkigGJYkCiGJAoBiSKAYliQKIYkCgGJIoBiWJAohiQKAakv6J+8PDhwyYrKioK9dkPHz4Expubm1FP48DLy8v727Fzzr1//95k3759i+2cnGPFwC4oBiSKAYliQMpyEe8r6evrM1lTU1Oozy4uLgbGk5OTZs7U1JTJ/E2rc87Nzs6G+pv71ZMnTwLjxsZGMyeZTJrswYMHsZ2Tc6wY2AXFgEQxIFEMSJE3nz9//jTZr1/2UK9fvzbZkSNHAuNTp06ZOYlEwmRbW1sm+/Tpk8lu3rwZGL97987M+fHjh8niNjY2ZrLa2trAeGVlxcy5d++eyV68eJG+ExNYMSBRDEgUAxLFgBT5a/fx8XGTXbx40WRq89nV1RUYFxcXmznnz583WU9Pj8kKCgpM9vbt2z3Ptb293WRqkxpVWVmZycrLy02WlZUVGM/MzJg5cW80FVYMSBQDEsWAFPkC15kzZ0ym9hOpVMpkJ0+ejPInXWFhocmqq6tNdv/+/cBY/eTw+/fvJnv48KHJnj17ZrIwe5HPnz+bLCcnx2Rv3rwJjOvr682cTPz0kRUDEsWARDEgUQxIkTefysTEhMnOnj1rssePHwfG6tvDP7lv4vjx44FxW1ubmXPnzh2TqW+H5+bmTOZfaGtubjZz1CZSHb+lpSUwfvTokZmTCawYkCgGJIoBiWJASuvm8+rVqyZ7+vSpybKzswNjfzPqnHO3b99O12lJ6tvVu3fvmuzYsWORju9/a+qcc/39/SbzN97qimwmsGJAohiQKAYkigEprZtP5cqVKyYbGBgIjP3NqHPOra+vm0xdOVQbV//+k+HhYTPn69evJvN/cuhc9E2w2nyeO3fOZOqnCvsBKwYkigGJYkCKfY+h+BfC1IWlqqoqk6k9RlRqDxD38W/dumWyoaGhtP3NdGLFgEQxIFEMSBQDUkY2n2GUlpaa7PLlyyarq6sz2enTp/c8/qFD9n9iZ2fHZOqnfX5248YNMyc3N9dkGxsbJvN/AujfZ5IprBiQKAYkigGJYkDat5vPg0Q9dfDVq1cmC3NTs9pgc1Mz9g2KAYliQKIYkNh8xkQ9tU89nce/b+X69etmzujoaPpOLCRWDEgUAxLFgEQxILH5/BeFeeLQy5cvzZyamhqTxf2+FVYMSBQDEsWAFPm1FPvFtWvXTNbQ0BAYLywsmDnd3d2xndNuBgcHTea/qkK9jqOkpMRk/kuN040VAxLFgEQxIFEMSAf+AldnZ6fJksnknp+bnp42mbo/5OPHj5HOKyz/hcLqKYFqo9zR0RHbOTnHioFdUAxIFAMSxYB04K98Pn/+3GQVFRWBsXpaXmVlpcmWl5dNpp4KuLS0tOectbU1e7LCly9fAmN1M/TRo0dDHSudWDEgUQxIFAMSxYB04K98Kv7Nw/Pz82aOeutz1Mc5rq6umqy1tTXUZ/0rmCdOnDBzxsfHTXbp0qWQZxcNKwYkigGJYkCiGJD+k5tPn3pb9MjIiMnCvg/FP556ok4ikQh1fN/29rbJ1E8ELly4sOex/gQrBiSKAYliQPpf7DHiVlxcbLLJyUmT5efnm8zfU/T29po5YS+WpRMrBiSKAYliQKIYkNh8xkRtNNVP9PwHoKRSqdjO6Z9gxYBEMSBRDEgUAxKbT0isGJAoBiSKAYliQKIYkCgGJIoBiWJAohiQKAYkigGJYkCiGJAoBiSKAYliQKIYkCgGpN8eQ1uSn9Yp3gAAAABJRU5ErkJggg==\" y=\"-10.129091\"/>\n   </g>\n   <g id=\"matplotlib.axis_1\">\n    <g id=\"text_1\">\n     <!-- 2 (2) -->\n     <defs>\n      <path d=\"M 19.1875 8.296875 \nL 53.609375 8.296875 \nL 53.609375 0 \nL 7.328125 0 \nL 7.328125 8.296875 \nQ 12.9375 14.109375 22.625 23.890625 \nQ 32.328125 33.6875 34.8125 36.53125 \nQ 39.546875 41.84375 41.421875 45.53125 \nQ 43.3125 49.21875 43.3125 52.78125 \nQ 43.3125 58.59375 39.234375 62.25 \nQ 35.15625 65.921875 28.609375 65.921875 \nQ 23.96875 65.921875 18.8125 64.3125 \nQ 13.671875 62.703125 7.8125 59.421875 \nL 7.8125 69.390625 \nQ 13.765625 71.78125 18.9375 73 \nQ 24.125 74.21875 28.421875 74.21875 \nQ 39.75 74.21875 46.484375 68.546875 \nQ 53.21875 62.890625 53.21875 53.421875 \nQ 53.21875 48.921875 51.53125 44.890625 \nQ 49.859375 40.875 45.40625 35.40625 \nQ 44.1875 33.984375 37.640625 27.21875 \nQ 31.109375 20.453125 19.1875 8.296875 \nz\n\" id=\"DejaVuSans-50\"/>\n      <path id=\"DejaVuSans-32\"/>\n      <path d=\"M 31 75.875 \nQ 24.46875 64.65625 21.28125 53.65625 \nQ 18.109375 42.671875 18.109375 31.390625 \nQ 18.109375 20.125 21.3125 9.0625 \nQ 24.515625 -2 31 -13.1875 \nL 23.1875 -13.1875 \nQ 15.875 -1.703125 12.234375 9.375 \nQ 8.59375 20.453125 8.59375 31.390625 \nQ 8.59375 42.28125 12.203125 53.3125 \nQ 15.828125 64.359375 23.1875 75.875 \nz\n\" id=\"DejaVuSans-40\"/>\n      <path d=\"M 8.015625 75.875 \nL 15.828125 75.875 \nQ 23.140625 64.359375 26.78125 53.3125 \nQ 30.421875 42.28125 30.421875 31.390625 \nQ 30.421875 20.453125 26.78125 9.375 \nQ 23.140625 -1.703125 15.828125 -13.1875 \nL 8.015625 -13.1875 \nQ 14.5 -2 17.703125 9.0625 \nQ 20.90625 20.125 20.90625 31.390625 \nQ 20.90625 42.671875 17.703125 53.65625 \nQ 14.5 64.65625 8.015625 75.875 \nz\n\" id=\"DejaVuSans-41\"/>\n     </defs>\n     <g transform=\"translate(65.56142 155.727528)scale(0.1 -0.1)\">\n      <use xlink:href=\"#DejaVuSans-50\"/>\n      <use x=\"63.623047\" xlink:href=\"#DejaVuSans-32\"/>\n      <use x=\"95.410156\" xlink:href=\"#DejaVuSans-40\"/>\n      <use x=\"134.423828\" xlink:href=\"#DejaVuSans-50\"/>\n      <use x=\"198.046875\" xlink:href=\"#DejaVuSans-41\"/>\n     </g>\n    </g>\n   </g>\n   <g id=\"matplotlib.axis_2\"/>\n   <g id=\"patch_3\">\n    <path d=\"M 10.7 144.129091 \nL 10.7 10.7 \n\" style=\"fill:none;stroke:#000000;stroke-linecap:square;stroke-linejoin:miter;stroke-width:0.8;\"/>\n   </g>\n   <g id=\"patch_4\">\n    <path d=\"M 144.129091 144.129091 \nL 144.129091 10.7 \n\" style=\"fill:none;stroke:#000000;stroke-linecap:square;stroke-linejoin:miter;stroke-width:0.8;\"/>\n   </g>\n   <g id=\"patch_5\">\n    <path d=\"M 10.7 144.129091 \nL 144.129091 144.129091 \n\" style=\"fill:none;stroke:#000000;stroke-linecap:square;stroke-linejoin:miter;stroke-width:0.8;\"/>\n   </g>\n   <g id=\"patch_6\">\n    <path d=\"M 10.7 10.7 \nL 144.129091 10.7 \n\" style=\"fill:none;stroke:#000000;stroke-linecap:square;stroke-linejoin:miter;stroke-width:0.8;\"/>\n   </g>\n  </g>\n  <g id=\"axes_2\">\n   <g id=\"patch_7\">\n    <path d=\"M 193.318182 144.129091 \nL 326.747273 144.129091 \nL 326.747273 10.7 \nL 193.318182 10.7 \nz\n\" style=\"fill:#ffffff;\"/>\n   </g>\n   <g clip-path=\"url(#p56d757cf14)\">\n    <image height=\"134\" id=\"image117f1f2b19\" transform=\"scale(1 -1)translate(0 -134)\" width=\"134\" x=\"193.318182\" xlink:href=\"data:image/png;base64,\niVBORw0KGgoAAAANSUhEUgAAAIYAAACGCAYAAAAYefKRAAAABHNCSVQICAgIfAhkiAAABStJREFUeJzt3TFIW10YxvFr0dpBwXZxqURQqYODOHSwdRCdFHRwUVEcAoUMitahQ3ERBYfSLkWhs7oIEUsR0SlOKoKIIG1pi2JEqEOoLkpb/aZvuPd9PozHq0k+/r/tvBxPDuHx8JKbe5Pned6lBwTcy/QGkJ0IBiSCAYlgQCIYkAgGJIIBiWBAIhiQCAYkggGJYEAiGJAIBiSCAYlgQCIYkAgGpPxMb+Cmenp6TK2srMw3HhsbC/U1793z/z99/frVzHn37p2pbW1tmdr6+np4GwsRJwYkggGJYEAiGJDyvCy9ryQ/3/bFIyMjpvbq1StTKygouJU9/SsvL883vrxM7y08Pj42tZWVFd94YGDAzEmlUtfYXTg4MSARDEgEAxLBgJQVzadqNIeGhkxtYmLiVvdxdnZmag8ePDC14CefFxcXoe0hHo+bWjQaNbXT01NTS7cJTgcnBiSCAYlgQCIYkLKi+RwdHTW1169fh7Z+IpEwtbW1NVP7+PGjqbW1tZla8JPPx48fmznd3d3X2eK1PXz40NROTk5CW58TAxLBgEQwIGVFj7G9vW1qNTU1af3tz58/TS14xbK/v9/M+fXrV5q7u5r6ECwSiZja/Py8qT158sTpNZPJpKl1dHSY2ubmptP6nBiQCAYkggGJYEDKSPNZVFTkG29sbJg56TZl09PTptbX1+e2sVtWWVlpap8+ffKNq6qqnNefnZ01td7eXqe1ODEgEQxIBAMSwYCUkeYzFov5xu/fv3deq7y83NQODg6c17trwYZUXeFNtxHf2dkxtdraWqd9cWJAIhiQCAYkggEp55+ok+u+ffvmG3///t3MSbf5LCkpMbVgcxt8vf/CiQGJYEAiGJByvseYm5sztaOjI9/4xYsXZo56iEk2ePv2ram1tLSk9bfBpxV6nuc1Nzf7xvQYuBGCAYlgQCIYkDLSfHZ1dfnGwXtBr+Pp06dXzlGPZb7th7C4+vHjh6mp90fV1INTXN9bTgxIBAMSwYBEMCBlpPl8/vy5bxzm0+aU214/TOprjmr/qqa+2jc1NeW0D04MSAQDEsGARDAg5fxld+X8/Nw3Pjw8zNBOrvbo0SPfWH09LxM4MSARDEgEAxLBgJSR5jPYHN6/fz/U9ff3931j9dSdTCgsLDS1pqYm37i+vt55ffV7K644MSARDEgEA1JGeoyXL1/6xjd5cIqytLQU6nphUb/zNj4+7rTW7u6uqXV2djqtpXBiQCIYkAgGJIIBKSNP7WttbfWNZ2ZmzJzi4mLn9YM3LD979szMUQ8ocRW8Qup5ntfY2GhqHz58MDXXq6kVFRWmtre357SWwokBiWBAIhiQCAaknP+xvHR8/vzZ1Nrb200teNXX8+wN2J7neQ0NDb6xaiBdr5L+/fvX1NS9IcPDw6b2588fp9dUODEgEQxIBAMSwYD0v7yvJKi6utrUvnz54rxe8Ck1Yd40PTk5aWqDg4OhrZ8uTgxIBAMSwYBEMCBlxSef6gfd4vG4qUUikbvYzpVcm0/1Pc3gryu/efPGzPn9+/c1dhcOTgxIBAMSwYCUFT2GovqOxcVFUystLb2L7fikUinfeHV11cxRvzuSTCZNLcyv44WJEwMSwYBEMCARDEhZ23wqdXV1phaNRk0tFov5xgsLC2bO8vKy8z6CH1QlEgnntbIVJwYkggGJYEAiGJByqvnE3eHEgEQwIBEMSAQDEsGARDAgEQxIBAMSwYBEMCARDEgEAxLBgEQwIBEMSAQDEsGARDAg/QPnyCFsb+gEKAAAAABJRU5ErkJggg==\" y=\"-10.129091\"/>\n   </g>\n   <g id=\"matplotlib.axis_3\">\n    <g id=\"text_2\">\n     <!-- 0 (0) -->\n     <defs>\n      <path d=\"M 31.78125 66.40625 \nQ 24.171875 66.40625 20.328125 58.90625 \nQ 16.5 51.421875 16.5 36.375 \nQ 16.5 21.390625 20.328125 13.890625 \nQ 24.171875 6.390625 31.78125 6.390625 \nQ 39.453125 6.390625 43.28125 13.890625 \nQ 47.125 21.390625 47.125 36.375 \nQ 47.125 51.421875 43.28125 58.90625 \nQ 39.453125 66.40625 31.78125 66.40625 \nz\nM 31.78125 74.21875 \nQ 44.046875 74.21875 50.515625 64.515625 \nQ 56.984375 54.828125 56.984375 36.375 \nQ 56.984375 17.96875 50.515625 8.265625 \nQ 44.046875 -1.421875 31.78125 -1.421875 \nQ 19.53125 -1.421875 13.0625 8.265625 \nQ 6.59375 17.96875 6.59375 36.375 \nQ 6.59375 54.828125 13.0625 64.515625 \nQ 19.53125 74.21875 31.78125 74.21875 \nz\n\" id=\"DejaVuSans-48\"/>\n     </defs>\n     <g transform=\"translate(248.179602 155.727528)scale(0.1 -0.1)\">\n      <use xlink:href=\"#DejaVuSans-48\"/>\n      <use x=\"63.623047\" xlink:href=\"#DejaVuSans-32\"/>\n      <use x=\"95.410156\" xlink:href=\"#DejaVuSans-40\"/>\n      <use x=\"134.423828\" xlink:href=\"#DejaVuSans-48\"/>\n      <use x=\"198.046875\" xlink:href=\"#DejaVuSans-41\"/>\n     </g>\n    </g>\n   </g>\n   <g id=\"matplotlib.axis_4\"/>\n   <g id=\"patch_8\">\n    <path d=\"M 193.318182 144.129091 \nL 193.318182 10.7 \n\" style=\"fill:none;stroke:#000000;stroke-linecap:square;stroke-linejoin:miter;stroke-width:0.8;\"/>\n   </g>\n   <g id=\"patch_9\">\n    <path d=\"M 326.747273 144.129091 \nL 326.747273 10.7 \n\" style=\"fill:none;stroke:#000000;stroke-linecap:square;stroke-linejoin:miter;stroke-width:0.8;\"/>\n   </g>\n   <g id=\"patch_10\">\n    <path d=\"M 193.318182 144.129091 \nL 326.747273 144.129091 \n\" style=\"fill:none;stroke:#000000;stroke-linecap:square;stroke-linejoin:miter;stroke-width:0.8;\"/>\n   </g>\n   <g id=\"patch_11\">\n    <path d=\"M 193.318182 10.7 \nL 326.747273 10.7 \n\" style=\"fill:none;stroke:#000000;stroke-linecap:square;stroke-linejoin:miter;stroke-width:0.8;\"/>\n   </g>\n  </g>\n  <g id=\"axes_3\">\n   <g id=\"patch_12\">\n    <path d=\"M 375.936364 144.129091 \nL 509.365455 144.129091 \nL 509.365455 10.7 \nL 375.936364 10.7 \nz\n\" style=\"fill:#ffffff;\"/>\n   </g>\n   <g clip-path=\"url(#p29efbf91b7)\">\n    <image height=\"134\" id=\"image80859be450\" transform=\"scale(1 -1)translate(0 -134)\" width=\"134\" x=\"375.936364\" xlink:href=\"data:image/png;base64,\niVBORw0KGgoAAAANSUhEUgAAAIYAAACGCAYAAAAYefKRAAAABHNCSVQICAgIfAhkiAAABAFJREFUeJzt3b8r7XEcx/HjRyaFk8HGoBgkFoMykYwWp5TFIn+ASTEdGWRShDKb7RJJUQaDgciPTrFRpJzo3u3W5/t+3XuO7/l8zvd76/nYPu++zv10e/bp2/lZk8lkfmWAiNqkN4B0IgxIhAGJMCARBiTCgEQYkAgDEmFAqk96A2nX29trZtvb2856aWnJXHNwcGBmb29v/jYWGCcGJMKARBiQajK8uvpPGxsbZjY7O1vy73p6eszs8vLSy56qgRMDEmFAIgxIhAGJMCARBiTCgEQYkAgDEq+uBjI9PW1mc3NzCewkHk4MSIQBiTAgEQYkbj5LeHp6MrOvry9nXV9v/xvHx8fNjJtP/PcIAxJhQCIMSLznM4boDWlbW5u55vb21sw6OzuD7ck3TgxIhAGJMCARBiTCgEQYkAgDEmFA4tXVQJqamsxscHDQzE5OTqqxnR/jxIBEGJAIAxJhQErFzWdtre2zoaHBzFZXV83s+vrazDY3N5310NCQuaaSt9lls9mS17S2tppZLpczs/Pzc2f9+fkZe18+cWJAIgxIhAGJMCAl8ta+vr4+Zz0yMmKuWVlZqdZ2EvX+/u6sh4eHzTVnZ2fV2s4fnBiQCAMSYUAK/gRXd3e3me3u7jrrrq6u0NtIrcbGRmetvo6aewykBmFAIgxIhAHJ6xNc6jc6jo6OzKylpaXkY93d3ZnZzc1NvI15Fn3b3sDAQOzHiv522tjYmLmmWCzGfvy4ODEgEQYkwoBEGJC8PvOp3i5Xzo2m+ma8yclJMzs9PY23Mc+iN5uV7GtxcdFZJ3GjqXBiQCIMSIQBiTAgeb35fHh4MLPv728zq6urc9YfHx/mmkKh4G9j+DFODEiEAYkwIBEGpOCfK3l9fTUz9W0zUfl83swWFha87KlSPp/5jH7g+vj4OPZj+cSJAYkwIBEGpOCfK3l+fjazcu4x0iz65SbqPqq5ubmsx1pbW3PW/f398TfmEScGJMKARBiQCANS8JvPmZkZMzs8PAz9zwZ1cXHhrNfX18018/PzZT1We3u7lz35xokBiTAgEQYkwoAU/NVV9Qzg1taWs56YmDDXPD4+mtno6KiZXV1dVbA7Pzo6Osws+mHlv1338vLirMv5Oupq4MSARBiQCAMSYUAK/synekm6nM+MqL9Ly295RN3f35uZ+qyMsr+/73k3fnBiQCIMSIQBiTAgJfJjeTs7O856amrKXLO3t2dm6iYvrZaXl81MPcOrvjs8DTgxIBEGJMKAlMhvoiH9ODEgEQYkwoBEGJAIAxJhQCIMSIQBiTAgEQYkwoBEGJAIAxJhQCIMSIQBiTAgEQYkwoBEGJAIAxJhQCIMSIQBiTAgEQYkwoBEGJB+A9FrwYOZ3kSEAAAAAElFTkSuQmCC\" y=\"-10.129091\"/>\n   </g>\n   <g id=\"matplotlib.axis_5\">\n    <g id=\"text_3\">\n     <!-- 4 (4) -->\n     <defs>\n      <path d=\"M 37.796875 64.3125 \nL 12.890625 25.390625 \nL 37.796875 25.390625 \nz\nM 35.203125 72.90625 \nL 47.609375 72.90625 \nL 47.609375 25.390625 \nL 58.015625 25.390625 \nL 58.015625 17.1875 \nL 47.609375 17.1875 \nL 47.609375 0 \nL 37.796875 0 \nL 37.796875 17.1875 \nL 4.890625 17.1875 \nL 4.890625 26.703125 \nz\n\" id=\"DejaVuSans-52\"/>\n     </defs>\n     <g transform=\"translate(430.797784 155.727528)scale(0.1 -0.1)\">\n      <use xlink:href=\"#DejaVuSans-52\"/>\n      <use x=\"63.623047\" xlink:href=\"#DejaVuSans-32\"/>\n      <use x=\"95.410156\" xlink:href=\"#DejaVuSans-40\"/>\n      <use x=\"134.423828\" xlink:href=\"#DejaVuSans-52\"/>\n      <use x=\"198.046875\" xlink:href=\"#DejaVuSans-41\"/>\n     </g>\n    </g>\n   </g>\n   <g id=\"matplotlib.axis_6\"/>\n   <g id=\"patch_13\">\n    <path d=\"M 375.936364 144.129091 \nL 375.936364 10.7 \n\" style=\"fill:none;stroke:#000000;stroke-linecap:square;stroke-linejoin:miter;stroke-width:0.8;\"/>\n   </g>\n   <g id=\"patch_14\">\n    <path d=\"M 509.365455 144.129091 \nL 509.365455 10.7 \n\" style=\"fill:none;stroke:#000000;stroke-linecap:square;stroke-linejoin:miter;stroke-width:0.8;\"/>\n   </g>\n   <g id=\"patch_15\">\n    <path d=\"M 375.936364 144.129091 \nL 509.365455 144.129091 \n\" style=\"fill:none;stroke:#000000;stroke-linecap:square;stroke-linejoin:miter;stroke-width:0.8;\"/>\n   </g>\n   <g id=\"patch_16\">\n    <path d=\"M 375.936364 10.7 \nL 509.365455 10.7 \n\" style=\"fill:none;stroke:#000000;stroke-linecap:square;stroke-linejoin:miter;stroke-width:0.8;\"/>\n   </g>\n  </g>\n  <g id=\"axes_4\">\n   <g id=\"patch_17\">\n    <path d=\"M 10.7 322.034545 \nL 144.129091 322.034545 \nL 144.129091 188.605455 \nL 10.7 188.605455 \nz\n\" style=\"fill:#ffffff;\"/>\n   </g>\n   <g clip-path=\"url(#p3989f9604a)\">\n    <image height=\"134\" id=\"imagecd8221923e\" transform=\"scale(1 -1)translate(0 -134)\" width=\"134\" x=\"10.7\" xlink:href=\"data:image/png;base64,\niVBORw0KGgoAAAANSUhEUgAAAIYAAACGCAYAAAAYefKRAAAABHNCSVQICAgIfAhkiAAABKdJREFUeJzt3U0otF0cx/HjQbaSMpKXkrXBgpQNkaRslGIlC6QUxUbedxY2siF5WaAoxcJKImShsFAWLGQjL0siNZ71df1/PeaZezTjnu9nd36de5zufp1O1zXXNUnOuS8H+PwT6wUgPlEMSBQDEsWARDEgUQxIFAMSxYBEMSBRDEgUAxLFgEQxIFEMSBQDEsWARDEgUQxIKbFegHPOBQIBk9XU1ET8eXd3d57x9fW1mfP8/Bzx5ycCdgxIFAMSxYBEMSDF5PAZDAY944WFBTOnpKQkan8vFAqZ7ODgwGS9vb0mu7q6ito6fhN2DEgUAxLFgEQxIMXk8NnX1+cZ5+fnmznV1dUmOzo6Cuvz/Yfb3NxcM2d6etpkl5eXJpuYmAgr+9uwY0CiGJAoBiSKASnJ/fAbdTIzM002OTnpGXd2dpo5lZWVJjs9PY3autLS0ky2v79vstLSUpP5D7NPT09RW1e8YMeARDEgUQxIP37GUFJTUz3jw8NDM6ewsNBkdXV1Jru4uIjaurq7u002OztrsqqqKs/4+Pg4amuIF+wYkCgGJIoBiWJAisnd1c/PT8/Yf5hzzrmXlxeTqUOqugt7dnYW0brU31TURbu/DTsGJIoBiWJAohiQYnLlMxxZWVkmm5qaMllDQ4PJBgYGPOPV1VUzJy8vz2SLi4thzSsvL/eMHx4ezJzfjh0DEsWARDEgUQxIcXv4DFdHR4fJ5ubmPOObmxsz5/Hx0WRlZWUma2lpMdnOzs7/WeKvxI4BiWJAohiQ4uKtfX9CvXTl/v7eM97c3DRzioqKTPb6+moy/53gRMGOAYliQKIYkCgGpF9/gSscQ0NDJvM/P+ucPmimpNjz+fn5uWc8MzNj5qyvr5vs4+PjP9cZT9gxIFEMSBQDEsWA9OuvfIYj3OdFGhsbTaYeru7p6fGM1VcC1VsB1SHVn4W71p/GjgGJYkCiGJAoBqSEuPJZUVFhspOTE5O1tbWZbG1tzWT+q6HqTTzqYev6+nqT+b92ODIyYuZsbW2Z7KexY0CiGJAoBiSKASkhDp8FBQUmu729Ndn8/LzJ1MHy6yuy/zL1gLT/yqe6+up/TsY5+5svzjn3/v4e0boUdgxIFAMSxYCUEGcMZWNjw2TNzc0ma2pqMtn29nbU1pGenu4Zq+dsMzIyTKYuhKk7um9vbxGtix0DEsWARDEgUQxICXv4VHdcl5aWTKa+2tfV1eUZq6/2hUKhsNaRk5PjGe/u7po57e3tJhsdHTWZ+kHh4eHhsNbhx44BiWJAohiQKAakhD18KsXFxSYbGxszmf9q6PLyspkzPj5uMv+bfpxzbmVlxTNWXwnMzs42mRIIBEwW6eus2TEgUQxIFAMSxYDE4fMbycnJJhscHPSM+/v7zZykpCSTqdvnfnt7eyarra399t9FGzsGJIoBiWJAohiQOHxGgfphv9bWVpMFg8FvP0u9dSfSX57+E+wYkCgGJIoBiTMGJHYMSBQDEsWARDEgUQxIFAMSxYBEMSBRDEgUAxLFgEQxIFEMSBQDEsWARDEgUQxIFAMSxYBEMSBRDEgUAxLFgEQxIFEMSBQDEsWARDEg/QsZU/eJ66wcZQAAAABJRU5ErkJggg==\" y=\"-188.034545\"/>\n   </g>\n   <g id=\"matplotlib.axis_7\">\n    <g id=\"text_4\">\n     <!-- 8 (8) -->\n     <defs>\n      <path d=\"M 31.78125 34.625 \nQ 24.75 34.625 20.71875 30.859375 \nQ 16.703125 27.09375 16.703125 20.515625 \nQ 16.703125 13.921875 20.71875 10.15625 \nQ 24.75 6.390625 31.78125 6.390625 \nQ 38.8125 6.390625 42.859375 10.171875 \nQ 46.921875 13.96875 46.921875 20.515625 \nQ 46.921875 27.09375 42.890625 30.859375 \nQ 38.875 34.625 31.78125 34.625 \nz\nM 21.921875 38.8125 \nQ 15.578125 40.375 12.03125 44.71875 \nQ 8.5 49.078125 8.5 55.328125 \nQ 8.5 64.0625 14.71875 69.140625 \nQ 20.953125 74.21875 31.78125 74.21875 \nQ 42.671875 74.21875 48.875 69.140625 \nQ 55.078125 64.0625 55.078125 55.328125 \nQ 55.078125 49.078125 51.53125 44.71875 \nQ 48 40.375 41.703125 38.8125 \nQ 48.828125 37.15625 52.796875 32.3125 \nQ 56.78125 27.484375 56.78125 20.515625 \nQ 56.78125 9.90625 50.3125 4.234375 \nQ 43.84375 -1.421875 31.78125 -1.421875 \nQ 19.734375 -1.421875 13.25 4.234375 \nQ 6.78125 9.90625 6.78125 20.515625 \nQ 6.78125 27.484375 10.78125 32.3125 \nQ 14.796875 37.15625 21.921875 38.8125 \nz\nM 18.3125 54.390625 \nQ 18.3125 48.734375 21.84375 45.5625 \nQ 25.390625 42.390625 31.78125 42.390625 \nQ 38.140625 42.390625 41.71875 45.5625 \nQ 45.3125 48.734375 45.3125 54.390625 \nQ 45.3125 60.0625 41.71875 63.234375 \nQ 38.140625 66.40625 31.78125 66.40625 \nQ 25.390625 66.40625 21.84375 63.234375 \nQ 18.3125 60.0625 18.3125 54.390625 \nz\n\" id=\"DejaVuSans-56\"/>\n     </defs>\n     <g transform=\"translate(65.56142 333.632983)scale(0.1 -0.1)\">\n      <use xlink:href=\"#DejaVuSans-56\"/>\n      <use x=\"63.623047\" xlink:href=\"#DejaVuSans-32\"/>\n      <use x=\"95.410156\" xlink:href=\"#DejaVuSans-40\"/>\n      <use x=\"134.423828\" xlink:href=\"#DejaVuSans-56\"/>\n      <use x=\"198.046875\" xlink:href=\"#DejaVuSans-41\"/>\n     </g>\n    </g>\n   </g>\n   <g id=\"matplotlib.axis_8\"/>\n   <g id=\"patch_18\">\n    <path d=\"M 10.7 322.034545 \nL 10.7 188.605455 \n\" style=\"fill:none;stroke:#000000;stroke-linecap:square;stroke-linejoin:miter;stroke-width:0.8;\"/>\n   </g>\n   <g id=\"patch_19\">\n    <path d=\"M 144.129091 322.034545 \nL 144.129091 188.605455 \n\" style=\"fill:none;stroke:#000000;stroke-linecap:square;stroke-linejoin:miter;stroke-width:0.8;\"/>\n   </g>\n   <g id=\"patch_20\">\n    <path d=\"M 10.7 322.034545 \nL 144.129091 322.034545 \n\" style=\"fill:none;stroke:#000000;stroke-linecap:square;stroke-linejoin:miter;stroke-width:0.8;\"/>\n   </g>\n   <g id=\"patch_21\">\n    <path d=\"M 10.7 188.605455 \nL 144.129091 188.605455 \n\" style=\"fill:none;stroke:#000000;stroke-linecap:square;stroke-linejoin:miter;stroke-width:0.8;\"/>\n   </g>\n  </g>\n  <g id=\"axes_5\">\n   <g id=\"patch_22\">\n    <path d=\"M 193.318182 322.034545 \nL 326.747273 322.034545 \nL 326.747273 188.605455 \nL 193.318182 188.605455 \nz\n\" style=\"fill:#ffffff;\"/>\n   </g>\n   <g clip-path=\"url(#pa159151899)\">\n    <image height=\"134\" id=\"imagedbe1d7664a\" transform=\"scale(1 -1)translate(0 -134)\" width=\"134\" x=\"193.318182\" xlink:href=\"data:image/png;base64,\niVBORw0KGgoAAAANSUhEUgAAAIYAAACGCAYAAAAYefKRAAAABHNCSVQICAgIfAhkiAAABAtJREFUeJzt3b8rfXEcx/FzkR9lMwllkCgpJQsl01UmymCxMPkxMSkWbEQxKKVMFoyUJANKWZRJhusfQKi7+DV/zvv17Z7vuYfjXM/H9nl3rj59e/bpk/t1b8rzvE8P8CmKewP4nQgDEmFAIgxIJXFv4H9MTEyY2draWs7Xzc3Nmdn8/HwkeypUnBiQCAMSYUAiDEiJuny+vr6Get3S0lLEOyl8nBiQCAMSYUBKeQl6d7WqqsrMMpmMmVVWVjrrdDptnjk6OopsX4WIEwMSYUAiDEiEASlRl09lcXHRzGZmZpz13d2deaa1tdXMstlsdBtLOE4MSIQBiTAgEQakxF8+KyoqzOzp6clZl5aWmmfUbz4HBwfN7Pn5OY/dJRcnBiTCgEQYkAgDUuIvn8r4+LizXl9fD/S6hYUFM5udnY1kT0nDiQGJMCARBiTCgFSQl0+/7e1tMxseHjYz9VvOvr4+Mzs7O4tmY78YJwYkwoBEGJD+xB2jqMj2f3NzY2bNzc1mdnl5aWa9vb3O2v9ubiHgxIBEGJAIAxJhQPoTl0+lvb3dzM7Pz81M/bfAnZ0dZz02NmaeSfqFlBMDEmFAIgxIhAHpz14+la6uLjM7Pj42s7KyMmd9cXFhnuns7IxuYzHgxIBEGJAIAxJhQOLymYN6272joyPn6zY2NsxscnLSzN7e3sJt7JtxYkAiDEiEAYk7Rg61tbVmdnh46KxbWloC/Sz1wSy7u7vhNvbNODEgEQYkwoBEGJC4fIYwOjrqrDc3NwO97uHhwcwaGhqc9ePjY/iNRYgTAxJhQCIMSIQBictnBHp6eszs5OQk0GuXl5ed9fT0dCR7yhcnBiTCgEQYkAgDEpfPCKRSKTPb29szs/7+fjP7/HT/+aempswzKysreewuHE4MSIQBiTAgEQYkLp8RaGxsNDP10ZD7+/tm5v+oyff3d/PMyMiImamPwY4SJwYkwoBEGJBK4t6A53leeXm5mdXX15tZOp02M/VVEv6vnKirqwu/uQCqq6vN7OPjw8zUR1f7FRcXm1nQv1uJEicGJMKARBiQCANSLJdP/6febW1tmWeGhoZ+aju/ysvLi5m1tbX9+D44MSARBiTCgEQYkGJ5d7W7u9tZn56ehv5Z6lPvbm9vnXU+X6B7cHBgZtls1lkPDAyYZ/zfaRJUJpMxs/v7+1A/Kx+cGJAIAxJhQCIMSLFcPpuampz16uqqeaampsbMrq6uzEy99vr6Oo/dwfM4MfAPhAGJMCARBiT+rgQSJwYkwoBEGJAIAxJhQCIMSIQBiTAgEQYkwoBEGJAIAxJhQCIMSIQBiTAgEQYkwoBEGJAIAxJhQCIMSIQBiTAgEQYkwoBEGJAIAxJhQCIMSIQBiTAgfQHcz71Dz8jBWwAAAABJRU5ErkJggg==\" y=\"-188.034545\"/>\n   </g>\n   <g id=\"matplotlib.axis_9\">\n    <g id=\"text_5\">\n     <!-- 7 (7) -->\n     <defs>\n      <path d=\"M 8.203125 72.90625 \nL 55.078125 72.90625 \nL 55.078125 68.703125 \nL 28.609375 0 \nL 18.3125 0 \nL 43.21875 64.59375 \nL 8.203125 64.59375 \nz\n\" id=\"DejaVuSans-55\"/>\n     </defs>\n     <g transform=\"translate(248.179602 333.632983)scale(0.1 -0.1)\">\n      <use xlink:href=\"#DejaVuSans-55\"/>\n      <use x=\"63.623047\" xlink:href=\"#DejaVuSans-32\"/>\n      <use x=\"95.410156\" xlink:href=\"#DejaVuSans-40\"/>\n      <use x=\"134.423828\" xlink:href=\"#DejaVuSans-55\"/>\n      <use x=\"198.046875\" xlink:href=\"#DejaVuSans-41\"/>\n     </g>\n    </g>\n   </g>\n   <g id=\"matplotlib.axis_10\"/>\n   <g id=\"patch_23\">\n    <path d=\"M 193.318182 322.034545 \nL 193.318182 188.605455 \n\" style=\"fill:none;stroke:#000000;stroke-linecap:square;stroke-linejoin:miter;stroke-width:0.8;\"/>\n   </g>\n   <g id=\"patch_24\">\n    <path d=\"M 326.747273 322.034545 \nL 326.747273 188.605455 \n\" style=\"fill:none;stroke:#000000;stroke-linecap:square;stroke-linejoin:miter;stroke-width:0.8;\"/>\n   </g>\n   <g id=\"patch_25\">\n    <path d=\"M 193.318182 322.034545 \nL 326.747273 322.034545 \n\" style=\"fill:none;stroke:#000000;stroke-linecap:square;stroke-linejoin:miter;stroke-width:0.8;\"/>\n   </g>\n   <g id=\"patch_26\">\n    <path d=\"M 193.318182 188.605455 \nL 326.747273 188.605455 \n\" style=\"fill:none;stroke:#000000;stroke-linecap:square;stroke-linejoin:miter;stroke-width:0.8;\"/>\n   </g>\n  </g>\n  <g id=\"axes_6\">\n   <g id=\"patch_27\">\n    <path d=\"M 375.936364 322.034545 \nL 509.365455 322.034545 \nL 509.365455 188.605455 \nL 375.936364 188.605455 \nz\n\" style=\"fill:#ffffff;\"/>\n   </g>\n   <g clip-path=\"url(#pe0adaebaf0)\">\n    <image height=\"134\" id=\"image712df76533\" transform=\"scale(1 -1)translate(0 -134)\" width=\"134\" x=\"375.936364\" xlink:href=\"data:image/png;base64,\niVBORw0KGgoAAAANSUhEUgAAAIYAAACGCAYAAAAYefKRAAAABHNCSVQICAgIfAhkiAAABKhJREFUeJzt3UsofG8cx/HByMa1LGwkO2WFZCFZaFBkZ2elSMnCQtmylNskhYWV3DZuYUEWlDULJVEuSw1yi2L8V//Fme+n5vzG0czwfu2eT+eMp1+f39PTmXPOpPh8vi8fECE13hNAYqIYkCgGJIoBiWJAohiQKAYkigGJYkCiGJAoBiSKAYliQKIYkCgGJIoBiWJAohiQKAYkigGJYkCiGJAoBiR/vCfwL4qKiky2sbFhstLSUs/+5sHBgckWFxcd493dXXPM+fm5Z3OIB1YMSBQDEsWARDEgpfgS4KFmv9/ugauqqkwWDAZNVlZW9iNz+l9KSorJvr6c/2RnZ2fmmMbGRpNdXV15N7EfxooBiWJAohiQKAakhNh85ubmmiwUCsVhJlZqqv2/Ew6Ho553cnJisvn5eZMNDw87xh8fH/8wu5/DigGJYkCiGJASYo+Rk5Njsru7ux/9m7e3tyabnZ01WXl5uckCgYBn82hubnaMt7e3Pfvs72DFgEQxIFEMSBQDUlLd2ucldVFNaW1tNVl9fb1jvLy8HPM8RkZGHGP1Te3FxUXMnx8rVgxIFAMSxYBEMSD92Sufbm1tbZlscnLSMc7KyjLH1NTUmKyrq8tkaWlpjvHp6ak5prKy0mSvr692sh5ixYBEMSBRDEgUAxKbzyjcPFeyvr5ujpmamjLZ9PS0yQoLC6POIS8vz2SPj49Rz/sOVgxIFAMSxYD0K/cYg4ODjvHh4aE5Zm5uzmT5+fkmc7PHUN7f302Wnp5uMvV4QiT2GEgYFAMSxYBEMSAlxK19Ly8vJpuZmTFZZ2enq8/Lzs52jPf29swxkbfn+Xz6W9KlpSWTFRQURJ1DRkZG1GMSGSsGJIoBiWJAohiQEmLzqV4Wcn19bTJ1FVLp7e11jAcGBswxx8fHrj6roaHBZOq2PTfntbS0RD1vbW3NZG9vb1HP8xorBiSKAYliQKIYkBLia3e3Li8vTebm1ji16dvc3PRiSr8WKwYkigGJYkCiGJCSavOpvj6vra2Net7Dw4PJ6urqTHZ0dBTbxH4hVgxIFAMSxYCUVHuMpqYmk6nnRt3Y2dkx2cTEhMn+6oUwVgxIFAMSxYBEMSAl1eazpKTEZD09PSZTb8eLVeRb9f4KVgxIFAMSxYBEMSAl1eZT8fvtozHBYNAx/s5m9ObmxmSRz62srKzE/PmJihUDEsWARDEgUQxISb/5VCKvkKoHhdXzKOotOOpB6lAo5Bh3dHSYY1ZXV02mfgl6YWHBMVa3A8QDKwYkigGJYkCiGJB+5ebTjf39fZNVV1ebzM27xNV7w8fGxkzW3d1tsvv7e8e4uLjYTjYOWDEgUQxIFAPSn91jZGZmmqytrc1k7e3tJquoqPBsHuFw2DHu6+szx4yPj3v299xixYBEMSBRDEgUA1JCvDI6Hp6fn02mfkRXfTMb+Tro0dFRc4z6AUDl8/PTMX56enJ13k9jxYBEMSBRDEgUA9KfvfLppUAgYDL1Tap6dfXQ0JBj3N/f793EvoEVAxLFgEQxIFEMSGw+IbFiQKIYkCgGJIoBiWJAohiQKAYkigGJYkCiGJAoBiSKAYliQPoPoO3+s+wuQpwAAAAASUVORK5CYII=\" y=\"-188.034545\"/>\n   </g>\n   <g id=\"matplotlib.axis_11\">\n    <g id=\"text_6\">\n     <!-- 6 (6) -->\n     <defs>\n      <path d=\"M 33.015625 40.375 \nQ 26.375 40.375 22.484375 35.828125 \nQ 18.609375 31.296875 18.609375 23.390625 \nQ 18.609375 15.53125 22.484375 10.953125 \nQ 26.375 6.390625 33.015625 6.390625 \nQ 39.65625 6.390625 43.53125 10.953125 \nQ 47.40625 15.53125 47.40625 23.390625 \nQ 47.40625 31.296875 43.53125 35.828125 \nQ 39.65625 40.375 33.015625 40.375 \nz\nM 52.59375 71.296875 \nL 52.59375 62.3125 \nQ 48.875 64.0625 45.09375 64.984375 \nQ 41.3125 65.921875 37.59375 65.921875 \nQ 27.828125 65.921875 22.671875 59.328125 \nQ 17.53125 52.734375 16.796875 39.40625 \nQ 19.671875 43.65625 24.015625 45.921875 \nQ 28.375 48.1875 33.59375 48.1875 \nQ 44.578125 48.1875 50.953125 41.515625 \nQ 57.328125 34.859375 57.328125 23.390625 \nQ 57.328125 12.15625 50.6875 5.359375 \nQ 44.046875 -1.421875 33.015625 -1.421875 \nQ 20.359375 -1.421875 13.671875 8.265625 \nQ 6.984375 17.96875 6.984375 36.375 \nQ 6.984375 53.65625 15.1875 63.9375 \nQ 23.390625 74.21875 37.203125 74.21875 \nQ 40.921875 74.21875 44.703125 73.484375 \nQ 48.484375 72.75 52.59375 71.296875 \nz\n\" id=\"DejaVuSans-54\"/>\n     </defs>\n     <g transform=\"translate(430.797784 333.632983)scale(0.1 -0.1)\">\n      <use xlink:href=\"#DejaVuSans-54\"/>\n      <use x=\"63.623047\" xlink:href=\"#DejaVuSans-32\"/>\n      <use x=\"95.410156\" xlink:href=\"#DejaVuSans-40\"/>\n      <use x=\"134.423828\" xlink:href=\"#DejaVuSans-54\"/>\n      <use x=\"198.046875\" xlink:href=\"#DejaVuSans-41\"/>\n     </g>\n    </g>\n   </g>\n   <g id=\"matplotlib.axis_12\"/>\n   <g id=\"patch_28\">\n    <path d=\"M 375.936364 322.034545 \nL 375.936364 188.605455 \n\" style=\"fill:none;stroke:#000000;stroke-linecap:square;stroke-linejoin:miter;stroke-width:0.8;\"/>\n   </g>\n   <g id=\"patch_29\">\n    <path d=\"M 509.365455 322.034545 \nL 509.365455 188.605455 \n\" style=\"fill:none;stroke:#000000;stroke-linecap:square;stroke-linejoin:miter;stroke-width:0.8;\"/>\n   </g>\n   <g id=\"patch_30\">\n    <path d=\"M 375.936364 322.034545 \nL 509.365455 322.034545 \n\" style=\"fill:none;stroke:#000000;stroke-linecap:square;stroke-linejoin:miter;stroke-width:0.8;\"/>\n   </g>\n   <g id=\"patch_31\">\n    <path d=\"M 375.936364 188.605455 \nL 509.365455 188.605455 \n\" style=\"fill:none;stroke:#000000;stroke-linecap:square;stroke-linejoin:miter;stroke-width:0.8;\"/>\n   </g>\n  </g>\n  <g id=\"axes_7\">\n   <g id=\"patch_32\">\n    <path d=\"M 10.7 499.94 \nL 144.129091 499.94 \nL 144.129091 366.510909 \nL 10.7 366.510909 \nz\n\" style=\"fill:#ffffff;\"/>\n   </g>\n   <g clip-path=\"url(#p95d050309a)\">\n    <image height=\"134\" id=\"image82a6929484\" transform=\"scale(1 -1)translate(0 -134)\" width=\"134\" x=\"10.7\" xlink:href=\"data:image/png;base64,\niVBORw0KGgoAAAANSUhEUgAAAIYAAACGCAYAAAAYefKRAAAABHNCSVQICAgIfAhkiAAABVBJREFUeJzt3TlIHV0YxvHjRlC0UXCJt1QjpFGLiIUKKdKksorWbhi1sHYptDKNghBUroWQkKSIhRhBEUWwEzfQxj4R7Ew04kLydYGZ9/niZHInc4X/rzsv584cw5PD4cyW4Zz76QCfzLgHgPREMCARDEgEAxLBgEQwIBEMSAQDEsGARDAgEQxIBAMSwYCUHfcA/k9ZWZmpPX361NRqampCHf/i4sLUksmkqZ2enpra9fV1qHPeJ8wYkAgGJIIBiWBAynAx3NpXVVXlaff09Jg+HR0dppaXl2dqP3+GG35GRkagY62vr5va2tqap/3q1atQY0hnzBiQCAYkggGJYECKfPFZXFxsaoeHh552YWFhoGN9/PgxUL9EIuFp19fXmz5BF59B+Bejzjk3Pj5uahsbG6GOHwdmDEgEAxLBgEQwIEV+2b23t9fUioqK7vydugTe3d0d6Jz+HVJ1vuHhYVNrb28PdHy/Z8+emVpzc7Op9ff3m5r6O9MBMwYkggGJYEAiGJAiX3zm5+ebWpAdxq9fv4Y+5/fv33/bds65rq4uU1tcXDS1oaEhU6utrfW0s7PtP2NOTo6pTU9Pm1pmpvf/5uzsrOkTB2YMSAQDEsGAFPka4/nz51GfImWWlpYC1UZGRjxttfFWUlIS6JyvX7/2tH/8+GH6xLEJxowBiWBAIhiQCAakyBeflZWVphb2Frp0MTo66mkvLCyYPp8+fTK18vLyO489NTVlallZWaY2MzNz57H+BjMGJIIBiWBAIhiQIl98quc3ovxdHPzPyTind3xXVlZMrbS01NN+8OCB6TM5OWlq29vbpra7u/vbcf4JZgxIBAMSwYBEMCBF/lCzepC3sbHxzt+phdSTJ09SMqa4+C/XO+fc4OCgp61uE1Q7xcfHx6bW0NBgamdnZ38yxF+YMSARDEgEA1LkG1xqrRBkjVFXV2dq6jXSJycn4QYWA/9VWefsBlfQ53P9bz50zrnW1lZTC3sVlhkDEsGARDAgEQxIafu9EkUtriYmJmIYSeosLy972kEXn0pFRcXfDucXZgxIBAMSwYBEMCBFvvjc29sztbC37XV2dprafV98+h+anpubM32Cvk0wlbdDMmNAIhiQCAYkggEp8sWn+tic/y16ubm5gY5VUFBgauq3l5eXAUeXfr59+2ZqQR8Cb2pqStk4mDEgEQxIBAMSwYAU+eLzy5cvptbX1+dpq90+5eHDh6amvuis3kpzX/jvAf0Tqbz/lRkDEsGARDAgRf7squLfqNra2jJ9Hj9+bGrq6qHaEJqfn/e01TMqq6urpjY2NmYHGzH/7Ypv3741fYJucKnvz/FcCVKKYEAiGJAIBqRYFp9+akPq5cuXpub/fphz+vseQajfqc249+/fm5r/WZDNzU3TR23GvXjxwtQGBgY87UQiYfp8/vzZ1FpaWkxtf3/f1G5vb00tCGYMSAQDEsGARDAgpcXiUzk6OjK16upqUwv77RO1ixrHsc7Pzz3td+/emT49PT2hxvU3mDEgEQxIBAMSwYCUtovPtrY2U3vz5o2ppcPi8+bmxtTUayw/fPhgav5d04ODg1BjSDVmDEgEAxLBgEQwIKXt6xzVDuCjR49MbWhoKNJxqO+trK2t/bbtnHM7OzuRjelfYMaARDAgEQxIabvBpajvhalnVysrK+88lv+qpnPOJZNJUzs9PTW1q6urO49/3zFjQCIYkAgGJIIB6V4tPvHvMGNAIhiQCAYkggGJYEAiGJAIBiSCAYlgQCIYkAgGJIIBiWBAIhiQCAYkggGJYEAiGJAIBiSCAYlgQCIYkAgGpP8ASDk7uPkt62oAAAAASUVORK5CYII=\" y=\"-365.94\"/>\n   </g>\n   <g id=\"matplotlib.axis_13\">\n    <g id=\"text_7\">\n     <!-- 0 (0) -->\n     <g transform=\"translate(65.56142 511.538437)scale(0.1 -0.1)\">\n      <use xlink:href=\"#DejaVuSans-48\"/>\n      <use x=\"63.623047\" xlink:href=\"#DejaVuSans-32\"/>\n      <use x=\"95.410156\" xlink:href=\"#DejaVuSans-40\"/>\n      <use x=\"134.423828\" xlink:href=\"#DejaVuSans-48\"/>\n      <use x=\"198.046875\" xlink:href=\"#DejaVuSans-41\"/>\n     </g>\n    </g>\n   </g>\n   <g id=\"matplotlib.axis_14\"/>\n   <g id=\"patch_33\">\n    <path d=\"M 10.7 499.94 \nL 10.7 366.510909 \n\" style=\"fill:none;stroke:#000000;stroke-linecap:square;stroke-linejoin:miter;stroke-width:0.8;\"/>\n   </g>\n   <g id=\"patch_34\">\n    <path d=\"M 144.129091 499.94 \nL 144.129091 366.510909 \n\" style=\"fill:none;stroke:#000000;stroke-linecap:square;stroke-linejoin:miter;stroke-width:0.8;\"/>\n   </g>\n   <g id=\"patch_35\">\n    <path d=\"M 10.7 499.94 \nL 144.129091 499.94 \n\" style=\"fill:none;stroke:#000000;stroke-linecap:square;stroke-linejoin:miter;stroke-width:0.8;\"/>\n   </g>\n   <g id=\"patch_36\">\n    <path d=\"M 10.7 366.510909 \nL 144.129091 366.510909 \n\" style=\"fill:none;stroke:#000000;stroke-linecap:square;stroke-linejoin:miter;stroke-width:0.8;\"/>\n   </g>\n  </g>\n  <g id=\"axes_8\">\n   <g id=\"patch_37\">\n    <path d=\"M 193.318182 499.94 \nL 326.747273 499.94 \nL 326.747273 366.510909 \nL 193.318182 366.510909 \nz\n\" style=\"fill:#ffffff;\"/>\n   </g>\n   <g clip-path=\"url(#pec8a331a9d)\">\n    <image height=\"134\" id=\"imagefa0838b462\" transform=\"scale(1 -1)translate(0 -134)\" width=\"134\" x=\"193.318182\" xlink:href=\"data:image/png;base64,\niVBORw0KGgoAAAANSUhEUgAAAIYAAACGCAYAAAAYefKRAAAABHNCSVQICAgIfAhkiAAABJZJREFUeJzt3UsodH8cx/Hz/D3kuqJEiYWiLCxIklsWZEESsnBZykLWLK1kJ1m4lJqUInYuKWXjsmAjC0SyECvJXdT/v/7N91PmmefPzOH92v0+nZk5i0+/vs2cc+aX53n/ekCQfyJ9AohOFAMSxYBEMSBRDEgUAxLFgEQxIFEMSBQDEsWARDEgUQxIFAMSxYBEMSBRDEgUA9LvSJ/AZ8jMzHTWgUDAHFNTU2Oy29tbky0sLJhsbGzMWR8eHv7pKUY9dgxIFAMSxYBEMSD98nx+X0llZaXJVldXnfXz87M5Rg2MSUlJJisqKjLZw8ODs25sbDTHbG5umsxP2DEgUQxIFAMSxYDkq+EzNjbWZOvr6yarqqpy1sPDw+aYwcHBkN6/ubnZZHNzc846eBj1PM8rLy832cHBgcmiFTsGJIoBiWJAohiQfDV8pqenm+zq6urD16WlpZns5uYmpM8MZSANHkY9z/MuLy9Nlpuba7LX19eQzuOrsWNAohiQKAYkX13aV1tbG9br7u7uwv7Mt7c3ky0uLjpr9UtqdXW1yfr7+002MjIS9rl9JnYMSBQDEsWARDEg+Wr4TE1NDet16h4S9atsqN7f3511d3e3Oebi4sJknZ2dJgu+R0VdhhgJ7BiQKAYkigGJYkDy1fAZrpaWFpP9zfAZ7Pr6OqTjCgoKTJaSkuKsGT4R1SgGJIoBiWJA8tXwGcplfEp9fb3J1GV2p6enYb3/d8SOAYliQKIYkHx1+0BiYqLJ9vf3TZaXl/fhe6lfP9X9rOrWgGClpaUm297eNtnx8bHJgh/M8vT09OHnfQV2DEgUAxLFgEQxIPnqCy41mC0vL5sslOEzOzvbZDMzMyYrKysz2cvLi7NWl/YpPT09JouWYTMYOwYkigGJYkCiGJB8NXwqe3t7Yb1udnbWZBUVFSZramoyWUxMjLNWT+2bnp422c7Ozp+cYkSxY0CiGJAoBiSKAcn3w+fS0pLJjo6OnHV+fr455uTkxGRdXV0mi4+PN1lcXJyz/psn9kQrdgxIFAMSxYBEMSD56prPUJWUlDhrdf3l2dmZyYqLi012f3///52Yj7BjQKIYkCgGpG85YwQLBAIm6+joMJm6TLChoeFTzinasWNAohiQKAYkigHpRwyf6ourra0tk6kvs+rq6kymbqT+btgxIFEMSBQDEsWA9COGT6W3t9dk4+PjJjs/PzdZYWGhs1b3lSg5OTkmC/7jXvXnfJHAjgGJYkCiGJAoBqQfO3wmJCSYTD1Rp62tzWRra2vOurW11Rzz+Phosvn5eZNNTEw4642NDXuyEcCOAYliQKIYkCgGpB87fCoZGRkm293dNVlWVpaznpycNMcMDQ2ZTP0fysDAgLMeHR398Dy/AjsGJIoBiWJAYsb4gHroysrKirNWv5qGqq+vz1mrX3gjgR0DEsWARDEgUQxIDJ9hSE5OdtZTU1PmmPb2dpOpL8uC71uJlicAsmNAohiQKAYkigGJ4RMSOwYkigGJYkCiGJAoBiSKAYliQKIYkCgGJIoBiWJAohiQKAYkigGJYkCiGJAoBiSKAek/r5wCYeaifkQAAAAASUVORK5CYII=\" y=\"-365.94\"/>\n   </g>\n   <g id=\"matplotlib.axis_15\">\n    <g id=\"text_8\">\n     <!-- 6 (6) -->\n     <g transform=\"translate(248.179602 511.538437)scale(0.1 -0.1)\">\n      <use xlink:href=\"#DejaVuSans-54\"/>\n      <use x=\"63.623047\" xlink:href=\"#DejaVuSans-32\"/>\n      <use x=\"95.410156\" xlink:href=\"#DejaVuSans-40\"/>\n      <use x=\"134.423828\" xlink:href=\"#DejaVuSans-54\"/>\n      <use x=\"198.046875\" xlink:href=\"#DejaVuSans-41\"/>\n     </g>\n    </g>\n   </g>\n   <g id=\"matplotlib.axis_16\"/>\n   <g id=\"patch_38\">\n    <path d=\"M 193.318182 499.94 \nL 193.318182 366.510909 \n\" style=\"fill:none;stroke:#000000;stroke-linecap:square;stroke-linejoin:miter;stroke-width:0.8;\"/>\n   </g>\n   <g id=\"patch_39\">\n    <path d=\"M 326.747273 499.94 \nL 326.747273 366.510909 \n\" style=\"fill:none;stroke:#000000;stroke-linecap:square;stroke-linejoin:miter;stroke-width:0.8;\"/>\n   </g>\n   <g id=\"patch_40\">\n    <path d=\"M 193.318182 499.94 \nL 326.747273 499.94 \n\" style=\"fill:none;stroke:#000000;stroke-linecap:square;stroke-linejoin:miter;stroke-width:0.8;\"/>\n   </g>\n   <g id=\"patch_41\">\n    <path d=\"M 193.318182 366.510909 \nL 326.747273 366.510909 \n\" style=\"fill:none;stroke:#000000;stroke-linecap:square;stroke-linejoin:miter;stroke-width:0.8;\"/>\n   </g>\n  </g>\n  <g id=\"axes_9\">\n   <g id=\"patch_42\">\n    <path d=\"M 375.936364 499.94 \nL 509.365455 499.94 \nL 509.365455 366.510909 \nL 375.936364 366.510909 \nz\n\" style=\"fill:#ffffff;\"/>\n   </g>\n   <g clip-path=\"url(#pfa8213c901)\">\n    <image height=\"134\" id=\"imagefede4c5803\" transform=\"scale(1 -1)translate(0 -134)\" width=\"134\" x=\"375.936364\" xlink:href=\"data:image/png;base64,\niVBORw0KGgoAAAANSUhEUgAAAIYAAACGCAYAAAAYefKRAAAABHNCSVQICAgIfAhkiAAABOZJREFUeJzt3TlIXF0YxvGrRkMs1IiFRgVxwSqDGgQbO9sISSEINlYqClpoYaEWgihYuAVsRARtbIQUSSsBA4GIIioWIrgUbrggguL21XfeB3K/64x3Jvn/uvNycuYgTw6Hc7cEx3GeHCBMYtATQGwiGJAIBiSCAYlgQCIYkAgGJIIBiWBAIhiQCAYkggGJYEAiGJAIBiSCAYlgQCIYkF4F8aOvX792T+KVt2nU1dWZWmFh4R//XXNzs6m9ffvW02/++PHD1JaWllzti4sL02dyctLUbm9vTe3+/t7TPF4aKwYkggGJYEAiGJASnACeKxkdHXW1W1tbX3oKniUkJJja05O/P9nXr19Nrbe319VeX1/3NXaksWJAIhiQCAYkggEpkJPPf1Vtba2pVVRUuNoTExOmT/hm3XEc5+7uLnITE1gxIBEMSAQDEsGAFMjm8/j4OGJjXV1dmdrOzo6rvba2Zvp8+/bN0/jd3d2mFn7ymZ+fb/pkZmZ6Gj8vL8/VHhwcNH1+/vzpqRZJrBiQCAYkggEpkKur4bf2ff782fRRt+Pt7e2Zmjr8+f379zNm9/+FQiFT6+rqMrX6+npf4x8cHJhaeXm5qZ2fn/saX2HFgEQwIBEMSAQDUiCbz3/Bu3fvTG1xcdHUvDwXo+Tm5pra0dGRr7EUVgxIBAMSwYBEMCDF/a192dnZplZQUOBqZ2RkmD6Hh4emtrq66uk3y8rKXO3KykrTp6Ojw9T8bjTV8yhnZ2e+xvKKFQMSwYBEMCARDEgxcfKZlpZmai0tLabW2NhoaqmpqX8cL/wyv+M4zvX1tamdnp6amnqoOSsry9VOT083fSKpqqrK1KJ9awErBiSCAYlgQIqJPUZxcbGpbW1tBTATK5IvTlF2d3ddbXWb48bGhqlF+21/rBiQCAYkggGJYECK2auratMXhMRE+3/n8fHR11jz8/Om1tPT42pvb2/7GjvSWDEgEQxIBAMSwYAUEyefyqdPn0xtYGDA1EpKSqI6j/DNoVcLCwumFiunuV6wYkAiGJAIBiSCASlmN5+K+q7J8PCwqSUnJ0fsN71+yO9vw4oBiWBAIhiQCAakuNpZffnyxdTUZfGhoSFXOyUlxfdvNjQ0mNrs7Kzv8eIFKwYkggGJYECKqz2GMj4+bmrhtwWqTz143XdMTU2ZWlJSkqs9MzPjaax4wooBiWBAIhiQCAakmLi6+ubNG1P78OGD7/HC3763vLxs+hQVFXkaSz3fcnNz42q3tbWZPtPT057Gj1WsGJAIBiSCAYlgQArk5DP8LXpjY2Omj3pDn1crKyuutvp2yHN4mb96k9/c3JypnZycRG5iEcSKAYlgQCIYkAgGpEBOPnNyclzt/f39l56CZ5F8nWNnZ6epjYyM+Bor2lgxIBEMSAQDEsGAFPf3fMaT/v5+U7u8vHS1Y+VyPSsGJIIBiWBACuSAK/y5jNLSUtOnqakpqnMIhUKmVl1dbWrR/l7J9+/fXe2PHz9GbOznYMWARDAgEQxIBANSIAdcDw8Prvbm5qbp097eHtU5qIea1Yd7lZqaGle7r6/P9Hn//r2nsX79+uWp30tjxYBEMCARDEgEA1JMPNSM2MOKAYlgQCIYkAgGJIIBiWBAIhiQCAYkggGJYEAiGJAIBiSCAYlgQCIYkAgGJIIBiWBA+g+vT+tFAQBp+AAAAABJRU5ErkJggg==\" y=\"-365.94\"/>\n   </g>\n   <g id=\"matplotlib.axis_17\">\n    <g id=\"text_9\">\n     <!-- 3 (3) -->\n     <defs>\n      <path d=\"M 40.578125 39.3125 \nQ 47.65625 37.796875 51.625 33 \nQ 55.609375 28.21875 55.609375 21.1875 \nQ 55.609375 10.40625 48.1875 4.484375 \nQ 40.765625 -1.421875 27.09375 -1.421875 \nQ 22.515625 -1.421875 17.65625 -0.515625 \nQ 12.796875 0.390625 7.625 2.203125 \nL 7.625 11.71875 \nQ 11.71875 9.328125 16.59375 8.109375 \nQ 21.484375 6.890625 26.8125 6.890625 \nQ 36.078125 6.890625 40.9375 10.546875 \nQ 45.796875 14.203125 45.796875 21.1875 \nQ 45.796875 27.640625 41.28125 31.265625 \nQ 36.765625 34.90625 28.71875 34.90625 \nL 20.21875 34.90625 \nL 20.21875 43.015625 \nL 29.109375 43.015625 \nQ 36.375 43.015625 40.234375 45.921875 \nQ 44.09375 48.828125 44.09375 54.296875 \nQ 44.09375 59.90625 40.109375 62.90625 \nQ 36.140625 65.921875 28.71875 65.921875 \nQ 24.65625 65.921875 20.015625 65.03125 \nQ 15.375 64.15625 9.8125 62.3125 \nL 9.8125 71.09375 \nQ 15.4375 72.65625 20.34375 73.4375 \nQ 25.25 74.21875 29.59375 74.21875 \nQ 40.828125 74.21875 47.359375 69.109375 \nQ 53.90625 64.015625 53.90625 55.328125 \nQ 53.90625 49.265625 50.4375 45.09375 \nQ 46.96875 40.921875 40.578125 39.3125 \nz\n\" id=\"DejaVuSans-51\"/>\n     </defs>\n     <g transform=\"translate(430.797784 511.538437)scale(0.1 -0.1)\">\n      <use xlink:href=\"#DejaVuSans-51\"/>\n      <use x=\"63.623047\" xlink:href=\"#DejaVuSans-32\"/>\n      <use x=\"95.410156\" xlink:href=\"#DejaVuSans-40\"/>\n      <use x=\"134.423828\" xlink:href=\"#DejaVuSans-51\"/>\n      <use x=\"198.046875\" xlink:href=\"#DejaVuSans-41\"/>\n     </g>\n    </g>\n   </g>\n   <g id=\"matplotlib.axis_18\"/>\n   <g id=\"patch_43\">\n    <path d=\"M 375.936364 499.94 \nL 375.936364 366.510909 \n\" style=\"fill:none;stroke:#000000;stroke-linecap:square;stroke-linejoin:miter;stroke-width:0.8;\"/>\n   </g>\n   <g id=\"patch_44\">\n    <path d=\"M 509.365455 499.94 \nL 509.365455 366.510909 \n\" style=\"fill:none;stroke:#000000;stroke-linecap:square;stroke-linejoin:miter;stroke-width:0.8;\"/>\n   </g>\n   <g id=\"patch_45\">\n    <path d=\"M 375.936364 499.94 \nL 509.365455 499.94 \n\" style=\"fill:none;stroke:#000000;stroke-linecap:square;stroke-linejoin:miter;stroke-width:0.8;\"/>\n   </g>\n   <g id=\"patch_46\">\n    <path d=\"M 375.936364 366.510909 \nL 509.365455 366.510909 \n\" style=\"fill:none;stroke:#000000;stroke-linecap:square;stroke-linejoin:miter;stroke-width:0.8;\"/>\n   </g>\n  </g>\n </g>\n <defs>\n  <clipPath id=\"pe151ab263c\">\n   <rect height=\"133.429091\" width=\"133.429091\" x=\"10.7\" y=\"10.7\"/>\n  </clipPath>\n  <clipPath id=\"p56d757cf14\">\n   <rect height=\"133.429091\" width=\"133.429091\" x=\"193.318182\" y=\"10.7\"/>\n  </clipPath>\n  <clipPath id=\"p29efbf91b7\">\n   <rect height=\"133.429091\" width=\"133.429091\" x=\"375.936364\" y=\"10.7\"/>\n  </clipPath>\n  <clipPath id=\"p3989f9604a\">\n   <rect height=\"133.429091\" width=\"133.429091\" x=\"10.7\" y=\"188.605455\"/>\n  </clipPath>\n  <clipPath id=\"pa159151899\">\n   <rect height=\"133.429091\" width=\"133.429091\" x=\"193.318182\" y=\"188.605455\"/>\n  </clipPath>\n  <clipPath id=\"pe0adaebaf0\">\n   <rect height=\"133.429091\" width=\"133.429091\" x=\"375.936364\" y=\"188.605455\"/>\n  </clipPath>\n  <clipPath id=\"p95d050309a\">\n   <rect height=\"133.429091\" width=\"133.429091\" x=\"10.7\" y=\"366.510909\"/>\n  </clipPath>\n  <clipPath id=\"pec8a331a9d\">\n   <rect height=\"133.429091\" width=\"133.429091\" x=\"193.318182\" y=\"366.510909\"/>\n  </clipPath>\n  <clipPath id=\"pfa8213c901\">\n   <rect height=\"133.429091\" width=\"133.429091\" x=\"375.936364\" y=\"366.510909\"/>\n  </clipPath>\n </defs>\n</svg>\n",
      "image/png": "[encoded data removed]"
     },
     "metadata": {}
    }
   ],
   "source": [
    "fig = tfds.show_examples(mnist_test, info)"
   ]
  },
  {
   "cell_type": "code",
   "execution_count": 25,
   "metadata": {},
   "outputs": [
    {
     "output_type": "display_data",
     "data": {
      "text/plain": "<Figure size 648x648 with 9 Axes>",
      "image/svg+xml": "<?xml version=\"1.0\" encoding=\"utf-8\" standalone=\"no\"?>\n<!DOCTYPE svg PUBLIC \"-//W3C//DTD SVG 1.1//EN\"\n  \"http://www.w3.org/Graphics/SVG/1.1/DTD/svg11.dtd\">\n<!-- Created with matplotlib (https://matplotlib.org/) -->\n<svg height=\"520.818125pt\" version=\"1.1\" viewBox=\"0 0 520.065455 520.818125\" width=\"520.065455pt\" xmlns=\"http://www.w3.org/2000/svg\" xmlns:xlink=\"http://www.w3.org/1999/xlink\">\n <defs>\n  <style type=\"text/css\">\n*{stroke-linecap:butt;stroke-linejoin:round;}\n  </style>\n </defs>\n <g id=\"figure_1\">\n  <g id=\"patch_1\">\n   <path d=\"M 0 520.818125 \nL 520.065455 520.818125 \nL 520.065455 0 \nL 0 0 \nz\n\" style=\"fill:none;\"/>\n  </g>\n  <g id=\"axes_1\">\n   <g id=\"patch_2\">\n    <path d=\"M 10.7 144.129091 \nL 144.129091 144.129091 \nL 144.129091 10.7 \nL 10.7 10.7 \nz\n\" style=\"fill:#ffffff;\"/>\n   </g>\n   <g clip-path=\"url(#pf5ee1513e6)\">\n    <image height=\"134\" id=\"image64a1d369ab\" transform=\"scale(1 -1)translate(0 -134)\" width=\"134\" x=\"10.7\" xlink:href=\"data:image/png;base64,\niVBORw0KGgoAAAANSUhEUgAAAIYAAACGCAYAAAAYefKRAAAABHNCSVQICAgIfAhkiAAAA+hJREFUeJzt3b8rvW0cwPFznp6ShTKQDBhYlBCbos6gLIiFkvgnkH+AMlOSkbIYlQWDWCVlUeTX4FdZZOGZz/m8h5PnnOM+nfdruz/d3+Ma3l1dHd/7lk6lUj8pKcc/f70AJZNhCBmGkGEIGYaQYQgZhpBhCBmGkGEIGYaQYQgZhtC/f72AUnh5eQmz9/f3MGtrayvFcsqCO4aQYQgZhpBhCFXE4fPz8zPMGhoawqylpSXMbm5uirCi5HPHEDIMIcMQMgyhdKoCnis5ODgIs0wmE2bn5+dhNjQ0FGbPz8+FWViCuWMIGYaQYQgZhlBFfPOZTqfzmnV0dITZxMREmK2vrxdmYQnmjiFkGEKGIWQYQhXxzWdPT0+YHR4ehtnJyUmYDQ8PF2VNSeeOIWQYQoYhVBFnDPL6+hpmtbW1Ydbf3x9mZ2dnRVlTkrhjCBmGkGEIGYZQRfx2lRwfH4fZyMhImA0MDISZh09VLMMQMgwhwxCq2MPn9vZ2mI2OjoZZX19fKZaTOO4YQoYhZBhChiGU2MPn2tpamE1PT4fZ1tZWmD0+PmZdv729hXvoFY8/P/F/IIyNjYVZTU1N1vXHx0e4p9y5YwgZhpBhCCX2v/bNzs6G2ebm5q8+i55TpfNEviYnJ7Oud3d3f/1ZSeWOIWQYQoYhZBhCiT18VlVVhdn9/X2Y1dXVhdnFxUXW9enpaV7/rrOzM8za29vDLPftfr29veGe7+/vMCsn7hhChiFkGEKGIZTY365+fX2F2cbGRpgtLi6G2c7OTtb1yspKXj+zqakpzC4vL8Osu7s767q1tTXcc319ndfPTCp3DCHDEDIMIcMQSuzhk+zt7YXZwsJCwT7/4eEhzOj10PPz81nXc3Nz4Z6lpaWCresvuGMIGYaQYQgZhlBZHT7p+ZBiy31GhQwODhZ/ISXmjiFkGEKGIVRWZ4z6+vqS/0z6Um11dTXrmv6WWmNjY5g9PT0VbmFF5o4hZBhChiFkGEJldfisrq4Os9xnSFIpfh30b9GzLLmfn8lkwj0zMzNhtry8XLB1FZs7hpBhCBmGkGEIldXh8+joKMxyn/FIpf7f23LykXvgpcNnV1dXUddQbO4YQoYhZBhChiGU2DfqJFlzc3PW9dXVVbiHvpEdHx8Ps7u7u8ItrIDcMYQMQ8gwhAxDqKy++UyK29vbrOv9/f1wD/3V56mpqTDL920/peaOIWQYQoYh5BmjAPL9475/8eztb7ljCBmGkGEIGYaQv10VcscQMgwhwxAyDCHDEDIMIcMQMgwhwxAyDCHDEDIMIcMQMgwhwxAyDCHDEDIMIcMQMgwhwxAyDCHDEPoPzmq6yty3ei4AAAAASUVORK5CYII=\" y=\"-10.129091\"/>\n   </g>\n   <g id=\"matplotlib.axis_1\">\n    <g id=\"text_1\">\n     <!-- 4 (4) -->\n     <defs>\n      <path d=\"M 37.796875 64.3125 \nL 12.890625 25.390625 \nL 37.796875 25.390625 \nz\nM 35.203125 72.90625 \nL 47.609375 72.90625 \nL 47.609375 25.390625 \nL 58.015625 25.390625 \nL 58.015625 17.1875 \nL 47.609375 17.1875 \nL 47.609375 0 \nL 37.796875 0 \nL 37.796875 17.1875 \nL 4.890625 17.1875 \nL 4.890625 26.703125 \nz\n\" id=\"DejaVuSans-52\"/>\n      <path id=\"DejaVuSans-32\"/>\n      <path d=\"M 31 75.875 \nQ 24.46875 64.65625 21.28125 53.65625 \nQ 18.109375 42.671875 18.109375 31.390625 \nQ 18.109375 20.125 21.3125 9.0625 \nQ 24.515625 -2 31 -13.1875 \nL 23.1875 -13.1875 \nQ 15.875 -1.703125 12.234375 9.375 \nQ 8.59375 20.453125 8.59375 31.390625 \nQ 8.59375 42.28125 12.203125 53.3125 \nQ 15.828125 64.359375 23.1875 75.875 \nz\n\" id=\"DejaVuSans-40\"/>\n      <path d=\"M 8.015625 75.875 \nL 15.828125 75.875 \nQ 23.140625 64.359375 26.78125 53.3125 \nQ 30.421875 42.28125 30.421875 31.390625 \nQ 30.421875 20.453125 26.78125 9.375 \nQ 23.140625 -1.703125 15.828125 -13.1875 \nL 8.015625 -13.1875 \nQ 14.5 -2 17.703125 9.0625 \nQ 20.90625 20.125 20.90625 31.390625 \nQ 20.90625 42.671875 17.703125 53.65625 \nQ 14.5 64.65625 8.015625 75.875 \nz\n\" id=\"DejaVuSans-41\"/>\n     </defs>\n     <g transform=\"translate(65.56142 155.727528)scale(0.1 -0.1)\">\n      <use xlink:href=\"#DejaVuSans-52\"/>\n      <use x=\"63.623047\" xlink:href=\"#DejaVuSans-32\"/>\n      <use x=\"95.410156\" xlink:href=\"#DejaVuSans-40\"/>\n      <use x=\"134.423828\" xlink:href=\"#DejaVuSans-52\"/>\n      <use x=\"198.046875\" xlink:href=\"#DejaVuSans-41\"/>\n     </g>\n    </g>\n   </g>\n   <g id=\"matplotlib.axis_2\"/>\n   <g id=\"patch_3\">\n    <path d=\"M 10.7 144.129091 \nL 10.7 10.7 \n\" style=\"fill:none;stroke:#000000;stroke-linecap:square;stroke-linejoin:miter;stroke-width:0.8;\"/>\n   </g>\n   <g id=\"patch_4\">\n    <path d=\"M 144.129091 144.129091 \nL 144.129091 10.7 \n\" style=\"fill:none;stroke:#000000;stroke-linecap:square;stroke-linejoin:miter;stroke-width:0.8;\"/>\n   </g>\n   <g id=\"patch_5\">\n    <path d=\"M 10.7 144.129091 \nL 144.129091 144.129091 \n\" style=\"fill:none;stroke:#000000;stroke-linecap:square;stroke-linejoin:miter;stroke-width:0.8;\"/>\n   </g>\n   <g id=\"patch_6\">\n    <path d=\"M 10.7 10.7 \nL 144.129091 10.7 \n\" style=\"fill:none;stroke:#000000;stroke-linecap:square;stroke-linejoin:miter;stroke-width:0.8;\"/>\n   </g>\n  </g>\n  <g id=\"axes_2\">\n   <g id=\"patch_7\">\n    <path d=\"M 193.318182 144.129091 \nL 326.747273 144.129091 \nL 326.747273 10.7 \nL 193.318182 10.7 \nz\n\" style=\"fill:#ffffff;\"/>\n   </g>\n   <g clip-path=\"url(#p509440e12e)\">\n    <image height=\"134\" id=\"imagedb736e1bb7\" transform=\"scale(1 -1)translate(0 -134)\" width=\"134\" x=\"193.318182\" xlink:href=\"data:image/png;base64,\niVBORw0KGgoAAAANSUhEUgAAAIYAAACGCAYAAAAYefKRAAAABHNCSVQICAgIfAhkiAAAA6ZJREFUeJzt3b0ubG0YgOEZPokgQYJEJBQ64idzDCQajVpCp+AUiMYJOAIqLYVIVGoUEz8JjUZBhQgKP5mv3ctzJ0u2NXssc1/derLWziu595s3M8MUC4VCpSB90lDrBehnMgwhwxAyDCHDEDIMIcMQMgwhwxAyDCHDEDIMIcMQ+q/WC/iurq6uMDs/P09cVyrxDeTBwcEwe35+zm5hOeeOIWQYQoYhZBhCuT98Li4uhll3d3fqcxMTE2G2s7OTyZp+A3cMIcMQMgwhwxAqFnL+eyWlUinMjo+PU5/b3d0Ns+np6UzW9Bu4YwgZhpBhCBmGUO4Pn21tbWF2eXmZuO7t7Q333N/fhxnd9/r6+o3V5Zc7hpBhCBmGkGEI5f5t96enpzC7urpKXNOhsrOzM8yGhobCrFwuf2N1+eWOIWQYQoYhlPsXuMjY2Fji+vDwMNzT1NQUZtvb22E2MzOT3cJyxB1DyDCEDEPIMIR+5eHzs9PT0zAbHh7+0rMNDfX5f6c+f2qlMgwhwxAyDKHcv7v6FQcHB2H21cPn/Px8mG1sbHxvQTngjiFkGEKGIWQYQnXxyufAwECYnZ2dhVlra2uYXVxchBl9BPC3cccQMgwhwxCqizMG2d/fD7PJyckwe3t7C7P+/v7E9e3tbXYL+yHcMYQMQ8gwhAxDqG4Pn+Pj42F2dHQUZo2NjWG2traWuF5eXs5uYT+EO4aQYQgZhpBhCNXt4ZO8vLyEWXNzc5g9PDwkrnt6esI97+/v2S2sBtwxhAxDyDCEDEOoLn6vJGsdHR2Ja3q7fm9v718tpyrcMYQMQ8gwhAxDyFc+/7C+vh5mS0tLqc/R50enpqYyWVOtuGMIGYaQYQh5xvjD5xeuCoVC4e7uLvW5m5ubMOvr68tkTbXijiFkGEKGIWQYQh4+U9AX97a3tyeu6WN8c3NzYba1tZXdwqrMHUPIMIQMQ8gwhDx8plhdXQ2zlZWV1OforwKOjo5msaR/wh1DyDCEDEPIMIQ8fKag7zWhL9/77PHxMcxGRkbC7Pr6+u8WVmXuGEKGIWQYQoYh5OEzRbFYDLPNzc3E9ezs7Jf+rVKpFGblcvnvFlZl7hhChiFkGEL+4ZQUlUo8gi0sLCSuPz4+wj0tLS1hdnJykt3CqswdQ8gwhAxDyDCEfIFLyB1DyDCEDEPIMIQMQ8gwhAxDyDCEDEPIMIQMQ8gwhAxDyDCEDEPIMIQMQ8gwhAxDyDCEDEPIMIQMQ+h/62CZ3I15fy0AAAAASUVORK5CYII=\" y=\"-10.129091\"/>\n   </g>\n   <g id=\"matplotlib.axis_3\">\n    <g id=\"text_2\">\n     <!-- 1 (1) -->\n     <defs>\n      <path d=\"M 12.40625 8.296875 \nL 28.515625 8.296875 \nL 28.515625 63.921875 \nL 10.984375 60.40625 \nL 10.984375 69.390625 \nL 28.421875 72.90625 \nL 38.28125 72.90625 \nL 38.28125 8.296875 \nL 54.390625 8.296875 \nL 54.390625 0 \nL 12.40625 0 \nz\n\" id=\"DejaVuSans-49\"/>\n     </defs>\n     <g transform=\"translate(248.179602 155.727528)scale(0.1 -0.1)\">\n      <use xlink:href=\"#DejaVuSans-49\"/>\n      <use x=\"63.623047\" xlink:href=\"#DejaVuSans-32\"/>\n      <use x=\"95.410156\" xlink:href=\"#DejaVuSans-40\"/>\n      <use x=\"134.423828\" xlink:href=\"#DejaVuSans-49\"/>\n      <use x=\"198.046875\" xlink:href=\"#DejaVuSans-41\"/>\n     </g>\n    </g>\n   </g>\n   <g id=\"matplotlib.axis_4\"/>\n   <g id=\"patch_8\">\n    <path d=\"M 193.318182 144.129091 \nL 193.318182 10.7 \n\" style=\"fill:none;stroke:#000000;stroke-linecap:square;stroke-linejoin:miter;stroke-width:0.8;\"/>\n   </g>\n   <g id=\"patch_9\">\n    <path d=\"M 326.747273 144.129091 \nL 326.747273 10.7 \n\" style=\"fill:none;stroke:#000000;stroke-linecap:square;stroke-linejoin:miter;stroke-width:0.8;\"/>\n   </g>\n   <g id=\"patch_10\">\n    <path d=\"M 193.318182 144.129091 \nL 326.747273 144.129091 \n\" style=\"fill:none;stroke:#000000;stroke-linecap:square;stroke-linejoin:miter;stroke-width:0.8;\"/>\n   </g>\n   <g id=\"patch_11\">\n    <path d=\"M 193.318182 10.7 \nL 326.747273 10.7 \n\" style=\"fill:none;stroke:#000000;stroke-linecap:square;stroke-linejoin:miter;stroke-width:0.8;\"/>\n   </g>\n  </g>\n  <g id=\"axes_3\">\n   <g id=\"patch_12\">\n    <path d=\"M 375.936364 144.129091 \nL 509.365455 144.129091 \nL 509.365455 10.7 \nL 375.936364 10.7 \nz\n\" style=\"fill:#ffffff;\"/>\n   </g>\n   <g clip-path=\"url(#p7bbaaaa35e)\">\n    <image height=\"134\" id=\"imagef95741c537\" transform=\"scale(1 -1)translate(0 -134)\" width=\"134\" x=\"375.936364\" xlink:href=\"data:image/png;base64,\niVBORw0KGgoAAAANSUhEUgAAAIYAAACGCAYAAAAYefKRAAAABHNCSVQICAgIfAhkiAAABS1JREFUeJzt3TtIHFscx/HjIxFEQzRFfDWCpDCIyrZBfIFYWSqoxMIu2CSQThEshCiCWClsEEGxU0QSRE2stLHwlSYQEDQhxiYWBqKot7sw8/9ddhx33fX6/XTnx3g8Ib+cDDM7s2nOuSsH+KQnewFITRQDEsWARDEgUQxIFAMSxYBEMSBRDEgUAxLFgEQxIFEMSBQDEsWARDEgUQxIFAMSxYBEMSBRDEgUAxLFgJSZ7AU451xeXp7J2traTNbb22uyp0+fhvqdk5OTJltcXDTZxsaGyX7+/Bnqd94l7BiQKAYkigGJYkBKc0l4qLmoqMgzXlpaMseUl5ff1nL+lZaWZrLj42OTTUxMeMbRaNQcs7+/H7d1JQM7BiSKAYliQKIYkJJy8tnd3e0Zj4+P3/YSpPR0++/k8vIy5s8dHR2ZbGRkxGTDw8PhFpYE7BiQKAYkigEpJe6u3oT6f/vr16+ecSQSMcccHByYrLa21mQ1NTUme/jwoWes7vAODg6arLq62mSdnZ2ecZBzmtvAjgGJYkCiGJAoBqSknHwWFBTEba6zszOT+e92qrufijph7OjoMFl/f79nXFpaao5RF8vUxxW3trY846GhoVjLvBXsGJAoBiSKAYliQErK3dWdnR3P+Pnz56Hn+vbtm8mePXsWer4g6urqPGP10cSMjIxAc/39+9czrqioMMeoP2OisWNAohiQKAYkigEpKSef/lvZCwsL5pjc3NxAc11d2eW/fPnSM56enr7G6q7v8+fPJlO365Xz83PP+MWLF+aYzc3NcAu7AXYMSBQDEsWAlJRzDD/10bgfP36Enm92dtYzbm9vDz1XEG/evDHZu3fvAv3s6empZ/zo0aO4rOmm2DEgUQxIFAMSxYCUEiefjx8/Ntnu7q7J/C9c+S/+Ezr/BS/nnJubmwu4utj8z5k459zHjx9Npp5bubi48IxbWloCzZVo7BiQKAYkigGJYkBKiYeaf//+bTL/y1WcC34SlpOT4xlPTU2ZY9RbAdWDzkGoZ1t+/fplMvVWwMxM719BcXFxqDXEGzsGJIoBiWJAohiQUuLkU1HPaiwvL5ussbEx5lzZ2dkmm5+fN1l9fb3JTk5OYs6vqI8cqswv6EcaE40dAxLFgEQxIFEMSClx2z2okpISk3348MFkYR+Sfv36tclGR0dDzTUzM2Oy1tbWmD+3t7dnssrKylBruAl2DEgUAxLFgJSyF7iUw8NDkzU3N5tsZWXFMw76IpW3b9+abHt722Rra2uB5gvjy5cvCZv7OtgxIFEMSBQDEsWAdKdOPpXv37+bzP/qZ/8X6Drn3IMHD0xWWFhoMvV9bU1NTZ5xPL98d3V1NW5z3QQ7BiSKAYliQKIYkO78yafif45EPXQ8NjZmsqysLJOVlZWZzP8RQ/UleE+ePIm5TufsK6MTeVX1OtgxIFEMSBQDEsWAdKc+2hdP6gFp/xVN54I9C+L/wjvnnKuqqgq0Dl7niDuFYkCiGJAoBqR7e/KpHnRWVx0jkUhC1+F/aDo/Pz+hvy8odgxIFAMSxYD0v7y7GsSfP39M1tfXZzL/d584F9+XmwwMDMRtrnhix4BEMSBRDEgUA9K9vcAVVFdXl8mi0Wioud6/f2+yV69eecbq9dPJwI4BiWJAohiQKAake3vlM6j19XWTffr0yTNuaGgwx0xOTpqsp6fHZKlysunHjgGJYkCiGJAoBiSufEJix4BEMSBRDEgUAxLFgEQxIFEMSBQDEsWARDEgUQxIFAMSxYD0D0spFf8H5JAAAAAAAElFTkSuQmCC\" y=\"-10.129091\"/>\n   </g>\n   <g id=\"matplotlib.axis_5\">\n    <g id=\"text_3\">\n     <!-- 0 (0) -->\n     <defs>\n      <path d=\"M 31.78125 66.40625 \nQ 24.171875 66.40625 20.328125 58.90625 \nQ 16.5 51.421875 16.5 36.375 \nQ 16.5 21.390625 20.328125 13.890625 \nQ 24.171875 6.390625 31.78125 6.390625 \nQ 39.453125 6.390625 43.28125 13.890625 \nQ 47.125 21.390625 47.125 36.375 \nQ 47.125 51.421875 43.28125 58.90625 \nQ 39.453125 66.40625 31.78125 66.40625 \nz\nM 31.78125 74.21875 \nQ 44.046875 74.21875 50.515625 64.515625 \nQ 56.984375 54.828125 56.984375 36.375 \nQ 56.984375 17.96875 50.515625 8.265625 \nQ 44.046875 -1.421875 31.78125 -1.421875 \nQ 19.53125 -1.421875 13.0625 8.265625 \nQ 6.59375 17.96875 6.59375 36.375 \nQ 6.59375 54.828125 13.0625 64.515625 \nQ 19.53125 74.21875 31.78125 74.21875 \nz\n\" id=\"DejaVuSans-48\"/>\n     </defs>\n     <g transform=\"translate(430.797784 155.727528)scale(0.1 -0.1)\">\n      <use xlink:href=\"#DejaVuSans-48\"/>\n      <use x=\"63.623047\" xlink:href=\"#DejaVuSans-32\"/>\n      <use x=\"95.410156\" xlink:href=\"#DejaVuSans-40\"/>\n      <use x=\"134.423828\" xlink:href=\"#DejaVuSans-48\"/>\n      <use x=\"198.046875\" xlink:href=\"#DejaVuSans-41\"/>\n     </g>\n    </g>\n   </g>\n   <g id=\"matplotlib.axis_6\"/>\n   <g id=\"patch_13\">\n    <path d=\"M 375.936364 144.129091 \nL 375.936364 10.7 \n\" style=\"fill:none;stroke:#000000;stroke-linecap:square;stroke-linejoin:miter;stroke-width:0.8;\"/>\n   </g>\n   <g id=\"patch_14\">\n    <path d=\"M 509.365455 144.129091 \nL 509.365455 10.7 \n\" style=\"fill:none;stroke:#000000;stroke-linecap:square;stroke-linejoin:miter;stroke-width:0.8;\"/>\n   </g>\n   <g id=\"patch_15\">\n    <path d=\"M 375.936364 144.129091 \nL 509.365455 144.129091 \n\" style=\"fill:none;stroke:#000000;stroke-linecap:square;stroke-linejoin:miter;stroke-width:0.8;\"/>\n   </g>\n   <g id=\"patch_16\">\n    <path d=\"M 375.936364 10.7 \nL 509.365455 10.7 \n\" style=\"fill:none;stroke:#000000;stroke-linecap:square;stroke-linejoin:miter;stroke-width:0.8;\"/>\n   </g>\n  </g>\n  <g id=\"axes_4\">\n   <g id=\"patch_17\">\n    <path d=\"M 10.7 322.034545 \nL 144.129091 322.034545 \nL 144.129091 188.605455 \nL 10.7 188.605455 \nz\n\" style=\"fill:#ffffff;\"/>\n   </g>\n   <g clip-path=\"url(#p880f771195)\">\n    <image height=\"134\" id=\"imageb0a1f21c27\" transform=\"scale(1 -1)translate(0 -134)\" width=\"134\" x=\"10.7\" xlink:href=\"data:image/png;base64,\niVBORw0KGgoAAAANSUhEUgAAAIYAAACGCAYAAAAYefKRAAAABHNCSVQICAgIfAhkiAAABIRJREFUeJzt3c8rdG0cx/Fr7oSNsFZIZCMrsbHQLMSOnZJ/YJJSiLLBioSFMmRtyW7KBsXCRlIslIUFZSM/y48R9+55Ouf7eZ455nbm1/1+7a5v1xyX+vTt6py55kScc18O8PmV7QUgNxEMSAQDEsGARDAgEQxIBAMSwYBEMCAVZXsB31FSUmJqe3t7ptbY2OgZt7a2mjkXFxc/tq5CRMeARDAgEQxIebXHiEajptbW1mZqX1/eB8bqc+wx/h8dAxLBgEQwIBEMSHm1+aytrTU1/0ZTGRsbM7VEImFqV1dXaa2rENExIBEMSAQDEsGAFHF5dK6koqLC1I6OjkzNv0mNRCJmTjweN7VYLJb+4goMHQMSwYBEMCARDEh5defz/v7e1DY2NkzNf6ezqMj+m319faZ2cnJiaqurq99ZYsGgY0AiGJAIBiSCASmv7nwGNTc35xmPjIyYOepx/fPzs6mNj4+b2vr6umecTCa/u8ScR8eARDAgEQxIBbnHqKqq8ow3NzfNnJaWlrSvPzg46BmvrKykfa1cRceARDAgEQxIBANSQW4+/ZqamkxtdnbW1Lq6utK6/tbWlqmpm2qXl5dpXT8b6BiQCAYkggGJYED6KzafijogPTU1ZWoDAwOmFuQg9fn5ual1dnaaWq4epKZjQCIYkAgGJIIB6a/dfCrq8HN/f7+pra2tecbqp6yVnZ0dU+vu7vaMPz4+Al0rbHQMSAQDEsGAxB4jDTMzM57xxMSEmaP2K8ri4qJnrJ7KZgMdAxLBgEQwIBEMSGw+f8D09LSpjY6OmlpxcbGpPT09ecY9PT1mjnrvW9joGJAIBiSCAYlgQAp986nuAPpfmOvfgDnn3PX1dWhryoT5+XlTGx4eTvk59SuE6uuFYaNjQCIYkAgGJIIBKfSfjG5oaDC1s7Mzz/j9/d3MWV5eNrXJyUlTe3t7+4PVhefx8THQvKCP5zONjgGJYEAiGJAIBqTQ73y2t7eb2vb2tmdcWloa6Fr+n2l0zrmbm5v0Fhay+vp6U1MHnf1ub29Nrbq62tReX1/TW1hAdAxIBAMSwYAU+g2ug4MDU1taWvKM1asflKGhoZTXcs65l5cXzzgajQa6/k86PT0NNM9/g8u//3Iu/P2EQseARDAgEQxIBANSVs6V1NTUeMa7u7sp5/wX9RTz8/PTM66srDRzgvzynnP66WeQzz48PJhaeXl5yuvH43EzJxaLpfx7P42OAYlgQCIYkAgGpJw41Nzc3Gxqx8fHWVhJ5u3v73vGvb29Zs7d3V2mlvMPOgYkggGJYEAiGJByYvMZ5OCzc84dHh6aWllZman5z6ksLCyYOertzeqOZpCv46nH+nV1daamXpaXSCQ842QymfLvZQIdAxLBgEQwIBEMSDmx+QxKPZ7v6OgwNf9bmIN+pxT/omNAIhiQCAakvNpjIHPoGJAIBiSCAYlgQCIYkAgGJIIBiWBAIhiQCAYkggGJYEAiGJAIBiSCAYlgQCIYkAgGJIIBiWBAIhiQCAYkggGJYEAiGJAIBiSCAYlgQPoNuIz1KdYYD1gAAAAASUVORK5CYII=\" y=\"-188.034545\"/>\n   </g>\n   <g id=\"matplotlib.axis_7\">\n    <g id=\"text_4\">\n     <!-- 7 (7) -->\n     <defs>\n      <path d=\"M 8.203125 72.90625 \nL 55.078125 72.90625 \nL 55.078125 68.703125 \nL 28.609375 0 \nL 18.3125 0 \nL 43.21875 64.59375 \nL 8.203125 64.59375 \nz\n\" id=\"DejaVuSans-55\"/>\n     </defs>\n     <g transform=\"translate(65.56142 333.632983)scale(0.1 -0.1)\">\n      <use xlink:href=\"#DejaVuSans-55\"/>\n      <use x=\"63.623047\" xlink:href=\"#DejaVuSans-32\"/>\n      <use x=\"95.410156\" xlink:href=\"#DejaVuSans-40\"/>\n      <use x=\"134.423828\" xlink:href=\"#DejaVuSans-55\"/>\n      <use x=\"198.046875\" xlink:href=\"#DejaVuSans-41\"/>\n     </g>\n    </g>\n   </g>\n   <g id=\"matplotlib.axis_8\"/>\n   <g id=\"patch_18\">\n    <path d=\"M 10.7 322.034545 \nL 10.7 188.605455 \n\" style=\"fill:none;stroke:#000000;stroke-linecap:square;stroke-linejoin:miter;stroke-width:0.8;\"/>\n   </g>\n   <g id=\"patch_19\">\n    <path d=\"M 144.129091 322.034545 \nL 144.129091 188.605455 \n\" style=\"fill:none;stroke:#000000;stroke-linecap:square;stroke-linejoin:miter;stroke-width:0.8;\"/>\n   </g>\n   <g id=\"patch_20\">\n    <path d=\"M 10.7 322.034545 \nL 144.129091 322.034545 \n\" style=\"fill:none;stroke:#000000;stroke-linecap:square;stroke-linejoin:miter;stroke-width:0.8;\"/>\n   </g>\n   <g id=\"patch_21\">\n    <path d=\"M 10.7 188.605455 \nL 144.129091 188.605455 \n\" style=\"fill:none;stroke:#000000;stroke-linecap:square;stroke-linejoin:miter;stroke-width:0.8;\"/>\n   </g>\n  </g>\n  <g id=\"axes_5\">\n   <g id=\"patch_22\">\n    <path d=\"M 193.318182 322.034545 \nL 326.747273 322.034545 \nL 326.747273 188.605455 \nL 193.318182 188.605455 \nz\n\" style=\"fill:#ffffff;\"/>\n   </g>\n   <g clip-path=\"url(#p50a0a0dc06)\">\n    <image height=\"134\" id=\"image5c74eab4e4\" transform=\"scale(1 -1)translate(0 -134)\" width=\"134\" x=\"193.318182\" xlink:href=\"data:image/png;base64,\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\" y=\"-188.034545\"/>\n   </g>\n   <g id=\"matplotlib.axis_9\">\n    <g id=\"text_5\">\n     <!-- 8 (8) -->\n     <defs>\n      <path d=\"M 31.78125 34.625 \nQ 24.75 34.625 20.71875 30.859375 \nQ 16.703125 27.09375 16.703125 20.515625 \nQ 16.703125 13.921875 20.71875 10.15625 \nQ 24.75 6.390625 31.78125 6.390625 \nQ 38.8125 6.390625 42.859375 10.171875 \nQ 46.921875 13.96875 46.921875 20.515625 \nQ 46.921875 27.09375 42.890625 30.859375 \nQ 38.875 34.625 31.78125 34.625 \nz\nM 21.921875 38.8125 \nQ 15.578125 40.375 12.03125 44.71875 \nQ 8.5 49.078125 8.5 55.328125 \nQ 8.5 64.0625 14.71875 69.140625 \nQ 20.953125 74.21875 31.78125 74.21875 \nQ 42.671875 74.21875 48.875 69.140625 \nQ 55.078125 64.0625 55.078125 55.328125 \nQ 55.078125 49.078125 51.53125 44.71875 \nQ 48 40.375 41.703125 38.8125 \nQ 48.828125 37.15625 52.796875 32.3125 \nQ 56.78125 27.484375 56.78125 20.515625 \nQ 56.78125 9.90625 50.3125 4.234375 \nQ 43.84375 -1.421875 31.78125 -1.421875 \nQ 19.734375 -1.421875 13.25 4.234375 \nQ 6.78125 9.90625 6.78125 20.515625 \nQ 6.78125 27.484375 10.78125 32.3125 \nQ 14.796875 37.15625 21.921875 38.8125 \nz\nM 18.3125 54.390625 \nQ 18.3125 48.734375 21.84375 45.5625 \nQ 25.390625 42.390625 31.78125 42.390625 \nQ 38.140625 42.390625 41.71875 45.5625 \nQ 45.3125 48.734375 45.3125 54.390625 \nQ 45.3125 60.0625 41.71875 63.234375 \nQ 38.140625 66.40625 31.78125 66.40625 \nQ 25.390625 66.40625 21.84375 63.234375 \nQ 18.3125 60.0625 18.3125 54.390625 \nz\n\" id=\"DejaVuSans-56\"/>\n     </defs>\n     <g transform=\"translate(248.179602 333.632983)scale(0.1 -0.1)\">\n      <use xlink:href=\"#DejaVuSans-56\"/>\n      <use x=\"63.623047\" xlink:href=\"#DejaVuSans-32\"/>\n      <use x=\"95.410156\" xlink:href=\"#DejaVuSans-40\"/>\n      <use x=\"134.423828\" xlink:href=\"#DejaVuSans-56\"/>\n      <use x=\"198.046875\" xlink:href=\"#DejaVuSans-41\"/>\n     </g>\n    </g>\n   </g>\n   <g id=\"matplotlib.axis_10\"/>\n   <g id=\"patch_23\">\n    <path d=\"M 193.318182 322.034545 \nL 193.318182 188.605455 \n\" style=\"fill:none;stroke:#000000;stroke-linecap:square;stroke-linejoin:miter;stroke-width:0.8;\"/>\n   </g>\n   <g id=\"patch_24\">\n    <path d=\"M 326.747273 322.034545 \nL 326.747273 188.605455 \n\" style=\"fill:none;stroke:#000000;stroke-linecap:square;stroke-linejoin:miter;stroke-width:0.8;\"/>\n   </g>\n   <g id=\"patch_25\">\n    <path d=\"M 193.318182 322.034545 \nL 326.747273 322.034545 \n\" style=\"fill:none;stroke:#000000;stroke-linecap:square;stroke-linejoin:miter;stroke-width:0.8;\"/>\n   </g>\n   <g id=\"patch_26\">\n    <path d=\"M 193.318182 188.605455 \nL 326.747273 188.605455 \n\" style=\"fill:none;stroke:#000000;stroke-linecap:square;stroke-linejoin:miter;stroke-width:0.8;\"/>\n   </g>\n  </g>\n  <g id=\"axes_6\">\n   <g id=\"patch_27\">\n    <path d=\"M 375.936364 322.034545 \nL 509.365455 322.034545 \nL 509.365455 188.605455 \nL 375.936364 188.605455 \nz\n\" style=\"fill:#ffffff;\"/>\n   </g>\n   <g clip-path=\"url(#pba7412bb91)\">\n    <image height=\"134\" id=\"image3b1bafe784\" transform=\"scale(1 -1)translate(0 -134)\" width=\"134\" x=\"375.936364\" xlink:href=\"data:image/png;base64,\niVBORw0KGgoAAAANSUhEUgAAAIYAAACGCAYAAAAYefKRAAAABHNCSVQICAgIfAhkiAAAA4pJREFUeJzt3b8rdXEcwPFzHz9WmShZlLKZbFYLk1EiGQz+ACVllNFoklD8BQZmKyVJiUF+ZfGjKAye9Tn3866rc3juPfe+X9v5dO7p++jdt28Hj1KSJF+JVOZPtReg2mQYQoYhZBhChiFkGEKGIWQYQoYhZBhChiFkGEKGIWQYQoYhZBhChiFkGELN1V5AXs3N8Z8wOzubuh4aGgr3XFxchNnu7m6Y7e3t5VhdcbljCBmGkGEIGYZQ4Q+fdLBcWVnJ9KzX19cw8/Ap/cMwhAxDyDCECn/4fHt7C7OPj4/UdWtr67eeNTIyEmYLCwvZFlZw7hhChiFkGEKGIVRK6vB/1Dk6Okpd9/f3Z37W1tZWmE1OTmZ+XlG4YwgZhpBhCBX+BddvGx0drfYSqsIdQ8gwhAxDyDCE6vLweXl5mbrO84KrUbljCBmGkGEIGYZQXR4+d3Z2Utd53l7Ozc3lXU4huWMIGYaQYQgZhlBdHj5/0sHBQbWXUBXuGEKGIWQYQnV5xjg/P09dPz8/h3va2tq+9Sz6fdbj4+NsCysQdwwhwxAyDCHDEKrL310tt7GxEWYTExPf+uzT01OYtbe3515TrXPHEDIMIcMQMgyhunzzWW5/fz/MxsfHw6xUKoUZ/T2UlpaW1PXn52eO1dUmdwwhwxAyDCHDEGqIN5/k7u4uzDo6OsKMDqTz8/Op6+Xl5Z9bWI1wxxAyDCHDEDIMoYY9fJ6enoZZX19fmNHh8+HhIXXd29sb7nl5ecmxuupzxxAyDCHDEGrYM8bY2FiYbW5uhllTU1OYfX2lv2TT09PhnvX19eyLqwHuGEKGIWQYQoYh1BA/2ke2t7fDbHFxMczopVe57u7uH1lTLXHHEDIMIcMQMgyhhn3zScp/ZC9JkmRpaSnMyt983tzchHsGBgbC7P7+Psfq/i93DCHDEDIMIcMQatg3n+Ts7CzT57q6usJsbW0tzIaHhzM9vxrcMYQMQ8gwhAxDyDefFayurobZzMxMxc9dXV2F2eDgYJhdX19nW9gvc8cQMgwhwxDyjFFBZ2dnmN3e3lb83MnJSZjRd1zf39+zLeyXuWMIGYaQYQgZhpDfXa3g8fExzA4PD1PXPT094Z6pqakwq9WDJnHHEDIMIcMQMgwh33wKuWMIGYaQYQgZhpBhCBmGkGEIGYaQYQgZhpBhCBmGkGEIGYaQYQgZhpBhCBmG0F8FUJM3x6qPGgAAAABJRU5ErkJggg==\" y=\"-188.034545\"/>\n   </g>\n   <g id=\"matplotlib.axis_11\">\n    <g id=\"text_6\">\n     <!-- 1 (1) -->\n     <g transform=\"translate(430.797784 333.632983)scale(0.1 -0.1)\">\n      <use xlink:href=\"#DejaVuSans-49\"/>\n      <use x=\"63.623047\" xlink:href=\"#DejaVuSans-32\"/>\n      <use x=\"95.410156\" xlink:href=\"#DejaVuSans-40\"/>\n      <use x=\"134.423828\" xlink:href=\"#DejaVuSans-49\"/>\n      <use x=\"198.046875\" xlink:href=\"#DejaVuSans-41\"/>\n     </g>\n    </g>\n   </g>\n   <g id=\"matplotlib.axis_12\"/>\n   <g id=\"patch_28\">\n    <path d=\"M 375.936364 322.034545 \nL 375.936364 188.605455 \n\" style=\"fill:none;stroke:#000000;stroke-linecap:square;stroke-linejoin:miter;stroke-width:0.8;\"/>\n   </g>\n   <g id=\"patch_29\">\n    <path d=\"M 509.365455 322.034545 \nL 509.365455 188.605455 \n\" style=\"fill:none;stroke:#000000;stroke-linecap:square;stroke-linejoin:miter;stroke-width:0.8;\"/>\n   </g>\n   <g id=\"patch_30\">\n    <path d=\"M 375.936364 322.034545 \nL 509.365455 322.034545 \n\" style=\"fill:none;stroke:#000000;stroke-linecap:square;stroke-linejoin:miter;stroke-width:0.8;\"/>\n   </g>\n   <g id=\"patch_31\">\n    <path d=\"M 375.936364 188.605455 \nL 509.365455 188.605455 \n\" style=\"fill:none;stroke:#000000;stroke-linecap:square;stroke-linejoin:miter;stroke-width:0.8;\"/>\n   </g>\n  </g>\n  <g id=\"axes_7\">\n   <g id=\"patch_32\">\n    <path d=\"M 10.7 499.94 \nL 144.129091 499.94 \nL 144.129091 366.510909 \nL 10.7 366.510909 \nz\n\" style=\"fill:#ffffff;\"/>\n   </g>\n   <g clip-path=\"url(#p0a353ee910)\">\n    <image height=\"134\" id=\"imagedc61702435\" transform=\"scale(1 -1)translate(0 -134)\" width=\"134\" x=\"10.7\" xlink:href=\"data:image/png;base64,\niVBORw0KGgoAAAANSUhEUgAAAIYAAACGCAYAAAAYefKRAAAABHNCSVQICAgIfAhkiAAABIZJREFUeJzt3UsoNX8cx/E5/9xXFmxIRFmQk1w2krKxUawtnQUrSyuXkmxIFpJkKVsll7BkIbeQQnLfEBYWSrk+q3/953w//c90XGbO0/u1+32ameenPv36Nc/MnJDjOJ8OEOUfvyeAYKIYkCgGJIoBiWJAohiQKAYkigGJYkCiGJAoBiSKAYliQKIYkCgGJIoBiWJAohiQKAYkigGJYkCiGJAoBiSKAYliQKIYkCgGJIoBKcnvCXxVeXm5ycLhcMzzVldXTXZ5efkdU/orsGJAohiQKAYkigEpsJvPpqYmkw0NDZmsoKDAZMnJyTGv//LyYrLd3V2TDQwMmOz4+Djm9ZVIJGKylJQU13hnZ8ccs7W1ZbLHx0eTPTw8xDUvhRUDEsWARDEghZwAfLWvvr7eZJOTkyYrLCz0dL319XXXWN0ES09P9zi7YLq+vjbZ2tqayYaHh13jvb09T9dnxYBEMSBRDEgUA5Ivm8/W1lbXeGJiwhyTlGTvvc3Pz5usra3NZGlpaa6x2pTl5ubGnKdXb29vJru/vzfZ4eGhyUpKSr5tHpmZmSYLhUKucUZGhqdrsWJAohiQKAYkigHJl83nxcWFa5yfn+/pvJubG5MdHByYrKGhIb6Jxeno6MhkpaWlvzoHx3GciooKk+Xl5bnGs7Oznq7FigGJYkCiGJAoBiRfNp/Rj9Wpu5w/+e85juPMzc2ZbGFhwWTqrmz0o4Ovr6/mmLq6OpNtbGz87zyDhBUDEsWARDEg+fL6QHNzs2s8MjJijikuLvZ0LbV/6Ovrc40XFxfNMfv7+56uX1RUZLKuri7XWL2ukJqa6un6QcWKAYliQKIYkCgGpEC8V6IeScvJyfF0rnqs7uTk5Mtz+ldVVZXJNjc3Y57X0dFhsrGxsW+Z029gxYBEMSBRDEgUA1IgNp9Bph47jP6QSVZWljnm/PzcZGVlZSZ7fn7+wux+DisGJIoBiWJAohiQAvvVvqDIzs42mdpsRjs9PTWZekQgqFgxIFEMSBQDEsWAxObzh6j3Vt7f332YSXxYMSBRDEgUAxJ7jBii34HxSn3QJZGwYkCiGJAoBiSKAYnN53/U1taarLOzM+Z5d3d3Jkv0H/dlxYBEMSBRDEgUA5Ivm89wOOwaNzY2mmMGBwdN9tP/O9nd3W2y6B/MVfr7+02mfswukbBiQKIYkCgGJIoByZeXmsfHx13j9vZ2c8zMzIzJ1CcYn56eTDY1NeUaq08rTk9Pm6ympsZk6nPW0b92XF1dbY5JpMf4FFYMSBQDEsWARDEg+bL57OnpcY2jv/0dJGdnZyZraWlxjbe3t39rOr+GFQMSxYBEMSD5sseIvuGkPqUciUTivn4oFHKNPz/tn/jx8WEytVfo7e012crKStxzSxSsGJAoBiSKAYliQArsJ6NHR0dNVllZ6encpaUl1/jq6socc3t7a7Ll5WWPs/v7sWJAohiQKAYkigEpsJtP+IsVAxLFgEQxIFEMSBQDEsWARDEgUQxIFAMSxYBEMSBRDEgUAxLFgEQxIFEMSBQDEsWA9AdFDOquLBi4CgAAAABJRU5ErkJggg==\" y=\"-365.94\"/>\n   </g>\n   <g id=\"matplotlib.axis_13\">\n    <g id=\"text_7\">\n     <!-- 2 (2) -->\n     <defs>\n      <path d=\"M 19.1875 8.296875 \nL 53.609375 8.296875 \nL 53.609375 0 \nL 7.328125 0 \nL 7.328125 8.296875 \nQ 12.9375 14.109375 22.625 23.890625 \nQ 32.328125 33.6875 34.8125 36.53125 \nQ 39.546875 41.84375 41.421875 45.53125 \nQ 43.3125 49.21875 43.3125 52.78125 \nQ 43.3125 58.59375 39.234375 62.25 \nQ 35.15625 65.921875 28.609375 65.921875 \nQ 23.96875 65.921875 18.8125 64.3125 \nQ 13.671875 62.703125 7.8125 59.421875 \nL 7.8125 69.390625 \nQ 13.765625 71.78125 18.9375 73 \nQ 24.125 74.21875 28.421875 74.21875 \nQ 39.75 74.21875 46.484375 68.546875 \nQ 53.21875 62.890625 53.21875 53.421875 \nQ 53.21875 48.921875 51.53125 44.890625 \nQ 49.859375 40.875 45.40625 35.40625 \nQ 44.1875 33.984375 37.640625 27.21875 \nQ 31.109375 20.453125 19.1875 8.296875 \nz\n\" id=\"DejaVuSans-50\"/>\n     </defs>\n     <g transform=\"translate(65.56142 511.538437)scale(0.1 -0.1)\">\n      <use xlink:href=\"#DejaVuSans-50\"/>\n      <use x=\"63.623047\" xlink:href=\"#DejaVuSans-32\"/>\n      <use x=\"95.410156\" xlink:href=\"#DejaVuSans-40\"/>\n      <use x=\"134.423828\" xlink:href=\"#DejaVuSans-50\"/>\n      <use x=\"198.046875\" xlink:href=\"#DejaVuSans-41\"/>\n     </g>\n    </g>\n   </g>\n   <g id=\"matplotlib.axis_14\"/>\n   <g id=\"patch_33\">\n    <path d=\"M 10.7 499.94 \nL 10.7 366.510909 \n\" style=\"fill:none;stroke:#000000;stroke-linecap:square;stroke-linejoin:miter;stroke-width:0.8;\"/>\n   </g>\n   <g id=\"patch_34\">\n    <path d=\"M 144.129091 499.94 \nL 144.129091 366.510909 \n\" style=\"fill:none;stroke:#000000;stroke-linecap:square;stroke-linejoin:miter;stroke-width:0.8;\"/>\n   </g>\n   <g id=\"patch_35\">\n    <path d=\"M 10.7 499.94 \nL 144.129091 499.94 \n\" style=\"fill:none;stroke:#000000;stroke-linecap:square;stroke-linejoin:miter;stroke-width:0.8;\"/>\n   </g>\n   <g id=\"patch_36\">\n    <path d=\"M 10.7 366.510909 \nL 144.129091 366.510909 \n\" style=\"fill:none;stroke:#000000;stroke-linecap:square;stroke-linejoin:miter;stroke-width:0.8;\"/>\n   </g>\n  </g>\n  <g id=\"axes_8\">\n   <g id=\"patch_37\">\n    <path d=\"M 193.318182 499.94 \nL 326.747273 499.94 \nL 326.747273 366.510909 \nL 193.318182 366.510909 \nz\n\" style=\"fill:#ffffff;\"/>\n   </g>\n   <g clip-path=\"url(#p610981b01f)\">\n    <image height=\"134\" id=\"image527fc4c4be\" transform=\"scale(1 -1)translate(0 -134)\" width=\"134\" x=\"193.318182\" xlink:href=\"data:image/png;base64,\niVBORw0KGgoAAAANSUhEUgAAAIYAAACGCAYAAAAYefKRAAAABHNCSVQICAgIfAhkiAAAA9pJREFUeJzt3b0ubGscgPGZk0PEV6MQEV8hKJgLUPi6BAoJrVIULkDCHdCIRKJwBSJqhY5Sg4ZKpfCRMEHitNb6P4mVfcaeWeb5de8/a+xVPHnzZo29FAuFwmdBSvmn2jeg2mQYQoYhZBhChiFkGEKGIWQYQoYh9G+1b6BaDg4OwmxxcTHMNjc3w2xjY+NH7qmWuGMIGYaQYQjV7Rkjq/n5+TDzjKG6ZRhChiFkGEIePr/R0tISZk1NTYl1uVz+W7fz17hjCBmGkGEIGYZQ3R4+r6+vM13X398fZqVSKbE+OzurxC3VFHcMIcMQMgwhwxCq28Pn/f19mBWLxUyfnZmZSaw9fKpuGIaQYQgZhlDdHj5vb2/D7PMz28uFurq6Knw3tccdQ8gwhAxDqFio07f20bemFxcXYdbc3Bxmd3d3iXVPT0/F7qtWuGMIGYaQYQgZhtCvfMDV1taWWD8/P4dr6AHX+fl5mE1NTYXZ+/v7n99cTrhjCBmGkGEIGYZQrg6f9LRyZ2cnzAYHBxPrrL/G19vbm+k+Li8vE+v0YbdQ4ANvnrhjCBmGkGEIGYZQrr5239vbC7OFhYUwo7fgpNHhM+uv9r29vSXWj4+P4Zrd3d0wW19fz/Tza4E7hpBhCBmGUK4ecC0vL4fZ0dFRmI2PjyfWNzc34ZqlpaUwGx0dDbO+vr4wa2hoSKzTZ47fwB1DyDCEDEPIMIRy9YDrp21tbYXZysrKt5+bm5sLs8PDw4rcU7W4YwgZhpBhCBmGUK6efP40+k/NWQwPD1f4TqrPHUPIMIQMQ8gwhDx8fvGnh8/01/y/gTuGkGEIGYaQYQh5+Pzi6uoqzNKvbiwUCoXu7u7E+uTk5MfuqVrcMYQMQ8gwhKpyxmhsbEysZ2dnK/rz02/ke3p6CtfQ2eHh4SHMXl5ewiz9f1zphS55544hZBhChiFkGEJVOXym33J3fHwcrvk/LzYpl8uJ9cfHR7hmf38/zDo6OsJsYGDg23+vvb09033liTuGkGEIGYaQYQhV5fD5+vqaWJ+enmb6HL25ZmhoKMw6OzsT69bW1nDN6upqmGU93Kaln+T+Bu4YQoYhZBhChiFUlcNn+qvs6enpTJ+jQyQ91Uz/vZKxsbFwzcTERJhNTk6GWalU+va+6O+V5J07hpBhCBmGkGEI+TrHL+jwub29HWYjIyOJ9draWriG/ohfnrhjCBmGkGEIecYQcscQMgwhwxAyDCHDEDIMIcMQMgwhwxAyDCHDEDIMIcMQMgwhwxAyDCHDEDIMIcMQMgwhwxAyDCHDEDIMIcMQMgwhwxAyDKH/AM3rrCrU7YWzAAAAAElFTkSuQmCC\" y=\"-365.94\"/>\n   </g>\n   <g id=\"matplotlib.axis_15\">\n    <g id=\"text_8\">\n     <!-- 7 (7) -->\n     <g transform=\"translate(248.179602 511.538437)scale(0.1 -0.1)\">\n      <use xlink:href=\"#DejaVuSans-55\"/>\n      <use x=\"63.623047\" xlink:href=\"#DejaVuSans-32\"/>\n      <use x=\"95.410156\" xlink:href=\"#DejaVuSans-40\"/>\n      <use x=\"134.423828\" xlink:href=\"#DejaVuSans-55\"/>\n      <use x=\"198.046875\" xlink:href=\"#DejaVuSans-41\"/>\n     </g>\n    </g>\n   </g>\n   <g id=\"matplotlib.axis_16\"/>\n   <g id=\"patch_38\">\n    <path d=\"M 193.318182 499.94 \nL 193.318182 366.510909 \n\" style=\"fill:none;stroke:#000000;stroke-linecap:square;stroke-linejoin:miter;stroke-width:0.8;\"/>\n   </g>\n   <g id=\"patch_39\">\n    <path d=\"M 326.747273 499.94 \nL 326.747273 366.510909 \n\" style=\"fill:none;stroke:#000000;stroke-linecap:square;stroke-linejoin:miter;stroke-width:0.8;\"/>\n   </g>\n   <g id=\"patch_40\">\n    <path d=\"M 193.318182 499.94 \nL 326.747273 499.94 \n\" style=\"fill:none;stroke:#000000;stroke-linecap:square;stroke-linejoin:miter;stroke-width:0.8;\"/>\n   </g>\n   <g id=\"patch_41\">\n    <path d=\"M 193.318182 366.510909 \nL 326.747273 366.510909 \n\" style=\"fill:none;stroke:#000000;stroke-linecap:square;stroke-linejoin:miter;stroke-width:0.8;\"/>\n   </g>\n  </g>\n  <g id=\"axes_9\">\n   <g id=\"patch_42\">\n    <path d=\"M 375.936364 499.94 \nL 509.365455 499.94 \nL 509.365455 366.510909 \nL 375.936364 366.510909 \nz\n\" style=\"fill:#ffffff;\"/>\n   </g>\n   <g clip-path=\"url(#pbb7ae5cc1e)\">\n    <image height=\"134\" id=\"imagebdbbe3e818\" transform=\"scale(1 -1)translate(0 -134)\" width=\"134\" x=\"375.936364\" xlink:href=\"data:image/png;base64,\niVBORw0KGgoAAAANSUhEUgAAAIYAAACGCAYAAAAYefKRAAAABHNCSVQICAgIfAhkiAAAA/NJREFUeJzt3c8rbGEcx/Fj/Ip/wGLCcmSBpGQx5cfCxkQW2FDKhoUsZW89SVhZKMmOxRQrSgpFNpIFC8rGgpIdcpf3PvP93M44M3LOzPu1O9/OnJ707unpuHeUeZ735QFZYr+9AIQTYUAiDEiEAYkwIBEGJMKARBiQCAMSYUAiDEiEAYkwIBEGJMKARBiQCAMSYUCq+O0F/E9VVZWZpdNpM5uZmTGz5+dn57qzs9Pcc3t7m8fqih87BiTCgEQYkAgDUpkX0v9XkkgkzOzm5ibQs3p7e83s8PAw0LNKBTsGJMKARBiQCANSaN98vry8mNnDw4OZNTQ0+D4rFqP/7+InBokwIBEGJMKAFNrD59PTk5mdnJyYWS6Hz/n5eTM7Ojoys/f39xxXV/zYMSARBiTCgBTa364qHR0dZqbOCjU1Nb7PSiaTZnZ8fBxsYUWIHQMSYUAiDEiEASm0L7iU8/NzM9vb2zOz4eFh32cNDQ2ZGYfPv9gxIBEGJMKARBiQIvXmU2lrazOzy8tL3899fHyY2cjIiJnt7OwEW1jEsWNAIgxIhAGJMCBF/vBZUWFf3mYyGee6v78/p2epQ2t7e3uwhUUcOwYkwoBEGJAif8ZQ6urqnOuzszNzT2Njo5mpl15zc3NmtrKyksfqooEdAxJhQCIMSIQBqSgPn9mmp6fNbGlpycwqKyvN7P7+3sxaWlqc69fX1zxWF07sGJAIAxJhQCIMSCVx+FQODg7MrKenJ6fPLi8vO9ezs7MFWVOYsGNAIgxIhAGJMCCV7OGzu7vbzPb3982surrazL6+3B/Z5OSkuWdjYyP44kKAHQMSYUAiDEiEAalkD5/K6OiomW1vb/t+LvsvQ3ue5w0ODppZlL6xhx0DEmFAIgxInDH+UVtba2br6+tmNjY25vuszc1NMxsfHw+2sAJqbm42s+vrazNjx4BEGJAIAxJhQOLw6aOpqcnMLi4unGt1aP38/DSzVCplZuorr3+S+psv6qu42TEgEQYkwoBEGJA4fAawuLjoXC8sLOT0udPTUzPr6uoqyJoKjR0DEmFAIgxIhAGJw2cA5eXlzvXu7q65Z2BgwMzU29CtrS3nemJiIs/VFQY7BiTCgEQYkAgDUqT+UnNYZB8iV1dXzT2tra1mVl9fb2Z9fX3OdTweN/c8Pj5+d4l5Y8eARBiQCAMSL7h+yNTUlJmtra2Z2dvbm3Ot/und3d1d4RaWI3YMSIQBiTAgEQYkXnD9EPUlKeq3q1dXV871bxw0FXYMSIQBiTAgEQYk3nxCYseARBiQCAMSYUAiDEiEAYkwIBEGJMKARBiQCAMSYUAiDEiEAYkwIBEGJMKARBiQ/gBGTbpPIq3neAAAAABJRU5ErkJggg==\" y=\"-365.94\"/>\n   </g>\n   <g id=\"matplotlib.axis_17\">\n    <g id=\"text_9\">\n     <!-- 1 (1) -->\n     <g transform=\"translate(430.797784 511.538437)scale(0.1 -0.1)\">\n      <use xlink:href=\"#DejaVuSans-49\"/>\n      <use x=\"63.623047\" xlink:href=\"#DejaVuSans-32\"/>\n      <use x=\"95.410156\" xlink:href=\"#DejaVuSans-40\"/>\n      <use x=\"134.423828\" xlink:href=\"#DejaVuSans-49\"/>\n      <use x=\"198.046875\" xlink:href=\"#DejaVuSans-41\"/>\n     </g>\n    </g>\n   </g>\n   <g id=\"matplotlib.axis_18\"/>\n   <g id=\"patch_43\">\n    <path d=\"M 375.936364 499.94 \nL 375.936364 366.510909 \n\" style=\"fill:none;stroke:#000000;stroke-linecap:square;stroke-linejoin:miter;stroke-width:0.8;\"/>\n   </g>\n   <g id=\"patch_44\">\n    <path d=\"M 509.365455 499.94 \nL 509.365455 366.510909 \n\" style=\"fill:none;stroke:#000000;stroke-linecap:square;stroke-linejoin:miter;stroke-width:0.8;\"/>\n   </g>\n   <g id=\"patch_45\">\n    <path d=\"M 375.936364 499.94 \nL 509.365455 499.94 \n\" style=\"fill:none;stroke:#000000;stroke-linecap:square;stroke-linejoin:miter;stroke-width:0.8;\"/>\n   </g>\n   <g id=\"patch_46\">\n    <path d=\"M 375.936364 366.510909 \nL 509.365455 366.510909 \n\" style=\"fill:none;stroke:#000000;stroke-linecap:square;stroke-linejoin:miter;stroke-width:0.8;\"/>\n   </g>\n  </g>\n </g>\n <defs>\n  <clipPath id=\"pf5ee1513e6\">\n   <rect height=\"133.429091\" width=\"133.429091\" x=\"10.7\" y=\"10.7\"/>\n  </clipPath>\n  <clipPath id=\"p509440e12e\">\n   <rect height=\"133.429091\" width=\"133.429091\" x=\"193.318182\" y=\"10.7\"/>\n  </clipPath>\n  <clipPath id=\"p7bbaaaa35e\">\n   <rect height=\"133.429091\" width=\"133.429091\" x=\"375.936364\" y=\"10.7\"/>\n  </clipPath>\n  <clipPath id=\"p880f771195\">\n   <rect height=\"133.429091\" width=\"133.429091\" x=\"10.7\" y=\"188.605455\"/>\n  </clipPath>\n  <clipPath id=\"p50a0a0dc06\">\n   <rect height=\"133.429091\" width=\"133.429091\" x=\"193.318182\" y=\"188.605455\"/>\n  </clipPath>\n  <clipPath id=\"pba7412bb91\">\n   <rect height=\"133.429091\" width=\"133.429091\" x=\"375.936364\" y=\"188.605455\"/>\n  </clipPath>\n  <clipPath id=\"p0a353ee910\">\n   <rect height=\"133.429091\" width=\"133.429091\" x=\"10.7\" y=\"366.510909\"/>\n  </clipPath>\n  <clipPath id=\"p610981b01f\">\n   <rect height=\"133.429091\" width=\"133.429091\" x=\"193.318182\" y=\"366.510909\"/>\n  </clipPath>\n  <clipPath id=\"pbb7ae5cc1e\">\n   <rect height=\"133.429091\" width=\"133.429091\" x=\"375.936364\" y=\"366.510909\"/>\n  </clipPath>\n </defs>\n</svg>\n",
      "image/png": "[encoded data removed]"
     },
     "metadata": {}
    }
   ],
   "source": [
    "fig = tfds.show_examples(mnist_builder.as_dataset(split=\"train\"), mnist_builder.info)"
   ]
  },
  {
   "cell_type": "code",
   "execution_count": 26,
   "metadata": {},
   "outputs": [
    {
     "output_type": "stream",
     "name": "stdout",
     "text": [
      "hello world.\n"
     ]
    }
   ],
   "source": [
    "print(\"hello world.\")"
   ]
  },
  {
   "cell_type": "code",
   "execution_count": null,
   "metadata": {},
   "outputs": [],
   "source": []
  }
 ],
 "metadata": {
  "colab": {
   "collapsed_sections": [],
   "name": "overview.ipynb",
   "private_outputs": true,
   "provenance": [],
   "toc_visible": true
  },
  "kernelspec": {
   "display_name": "Python 3",
   "language": "python",
   "name": "python3"
  },
  "language_info": {
   "codemirror_mode": {
    "name": "ipython",
    "version": 3
   },
   "file_extension": ".py",
   "mimetype": "text/x-python",
   "name": "python",
   "nbconvert_exporter": "python",
   "pygments_lexer": "ipython3",
   "version": "3.6.5-final"
  },
  "widgets": {
   "application/vnd.jupyter.widget-state+json": {
    "state": {
     "020c4f50b8314410877f4ca6c0de4d14": {
      "model_module": "@jupyter-widgets/controls",
      "model_module_version": "1.5.0",
      "model_name": "HBoxModel",
      "state": {
       "_dom_classes": [],
       "_model_module": "@jupyter-widgets/controls",
       "_model_module_version": "1.5.0",
       "_model_name": "HBoxModel",
       "_view_count": null,
       "_view_module": "@jupyter-widgets/controls",
       "_view_module_version": "1.5.0",
       "_view_name": "HBoxView",
       "box_style": "",
       "children": [
        "IPY_MODEL_31f5f85af24b476783689fd6a6a87b2c",
        "IPY_MODEL_2033a0503bdf451d8cf709bcdf05297f"
       ],
       "layout": "IPY_MODEL_42fd6309595340159b16fa599e95337b"
      }
     },
     "0a2a639273e344808e03f88760c35b96": {
      "model_module": "@jupyter-widgets/controls",
      "model_module_version": "1.5.0",
      "model_name": "HTMLModel",
      "state": {
       "_dom_classes": [],
       "_model_module": "@jupyter-widgets/controls",
       "_model_module_version": "1.5.0",
       "_model_name": "HTMLModel",
       "_view_count": null,
       "_view_module": "@jupyter-widgets/controls",
       "_view_module_version": "1.5.0",
       "_view_name": "HTMLView",
       "description": "",
       "description_tooltip": null,
       "layout": "IPY_MODEL_bb4743f956454b929fa384191f3dc9bf",
       "placeholder": "​",
       "style": "IPY_MODEL_51358bc81a5c426da97f621847af20eb",
       "value": " 4/4 [00:04&lt;00:00,  1.04s/ file]"
      }
     },
     "0eb7694eb25b49368d005df7401de15b": {
      "model_module": "@jupyter-widgets/base",
      "model_module_version": "1.2.0",
      "model_name": "LayoutModel",
      "state": {
       "_model_module": "@jupyter-widgets/base",
       "_model_module_version": "1.2.0",
       "_model_name": "LayoutModel",
       "_view_count": null,
       "_view_module": "@jupyter-widgets/base",
       "_view_module_version": "1.2.0",
       "_view_name": "LayoutView",
       "align_content": null,
       "align_items": null,
       "align_self": null,
       "border": null,
       "bottom": null,
       "display": null,
       "flex": null,
       "flex_flow": null,
       "grid_area": null,
       "grid_auto_columns": null,
       "grid_auto_flow": null,
       "grid_auto_rows": null,
       "grid_column": null,
       "grid_gap": null,
       "grid_row": null,
       "grid_template_areas": null,
       "grid_template_columns": null,
       "grid_template_rows": null,
       "height": null,
       "justify_content": null,
       "justify_items": null,
       "left": null,
       "margin": null,
       "max_height": null,
       "max_width": null,
       "min_height": null,
       "min_width": null,
       "object_fit": null,
       "object_position": null,
       "order": null,
       "overflow": null,
       "overflow_x": null,
       "overflow_y": null,
       "padding": null,
       "right": null,
       "top": null,
       "visibility": null,
       "width": null
      }
     },
     "2033a0503bdf451d8cf709bcdf05297f": {
      "model_module": "@jupyter-widgets/controls",
      "model_module_version": "1.5.0",
      "model_name": "HTMLModel",
      "state": {
       "_dom_classes": [],
       "_model_module": "@jupyter-widgets/controls",
       "_model_module_version": "1.5.0",
       "_model_name": "HTMLModel",
       "_view_count": null,
       "_view_module": "@jupyter-widgets/controls",
       "_view_module_version": "1.5.0",
       "_view_name": "HTMLView",
       "description": "",
       "description_tooltip": null,
       "layout": "IPY_MODEL_6eeda54ebc2b409fbe23f2c3e45849bf",
       "placeholder": "​",
       "style": "IPY_MODEL_f82662beadfa4bbc94ea7113a97e15e4",
       "value": " 13/13 [00:01&lt;00:00,  8.19 file/s]"
      }
     },
     "2d4ced870fd049aca3ad01914ee5704c": {
      "model_module": "@jupyter-widgets/controls",
      "model_module_version": "1.5.0",
      "model_name": "ProgressStyleModel",
      "state": {
       "_model_module": "@jupyter-widgets/controls",
       "_model_module_version": "1.5.0",
       "_model_name": "ProgressStyleModel",
       "_view_count": null,
       "_view_module": "@jupyter-widgets/base",
       "_view_module_version": "1.2.0",
       "_view_name": "StyleView",
       "bar_color": null,
       "description_width": "initial"
      }
     },
     "31f5f85af24b476783689fd6a6a87b2c": {
      "model_module": "@jupyter-widgets/controls",
      "model_module_version": "1.5.0",
      "model_name": "FloatProgressModel",
      "state": {
       "_dom_classes": [],
       "_model_module": "@jupyter-widgets/controls",
       "_model_module_version": "1.5.0",
       "_model_name": "FloatProgressModel",
       "_view_count": null,
       "_view_module": "@jupyter-widgets/controls",
       "_view_module_version": "1.5.0",
       "_view_name": "ProgressView",
       "bar_style": "success",
       "description": "Dl Completed...: 100%",
       "description_tooltip": null,
       "layout": "IPY_MODEL_b828328931014f44ad6658ae587df5e7",
       "max": 13,
       "min": 0,
       "orientation": "horizontal",
       "style": "IPY_MODEL_2d4ced870fd049aca3ad01914ee5704c",
       "value": 13
      }
     },
     "42fd6309595340159b16fa599e95337b": {
      "model_module": "@jupyter-widgets/base",
      "model_module_version": "1.2.0",
      "model_name": "LayoutModel",
      "state": {
       "_model_module": "@jupyter-widgets/base",
       "_model_module_version": "1.2.0",
       "_model_name": "LayoutModel",
       "_view_count": null,
       "_view_module": "@jupyter-widgets/base",
       "_view_module_version": "1.2.0",
       "_view_name": "LayoutView",
       "align_content": null,
       "align_items": null,
       "align_self": null,
       "border": null,
       "bottom": null,
       "display": null,
       "flex": null,
       "flex_flow": null,
       "grid_area": null,
       "grid_auto_columns": null,
       "grid_auto_flow": null,
       "grid_auto_rows": null,
       "grid_column": null,
       "grid_gap": null,
       "grid_row": null,
       "grid_template_areas": null,
       "grid_template_columns": null,
       "grid_template_rows": null,
       "height": null,
       "justify_content": null,
       "justify_items": null,
       "left": null,
       "margin": null,
       "max_height": null,
       "max_width": null,
       "min_height": null,
       "min_width": null,
       "object_fit": null,
       "object_position": null,
       "order": null,
       "overflow": null,
       "overflow_x": null,
       "overflow_y": null,
       "padding": null,
       "right": null,
       "top": null,
       "visibility": null,
       "width": null
      }
     },
     "51358bc81a5c426da97f621847af20eb": {
      "model_module": "@jupyter-widgets/controls",
      "model_module_version": "1.5.0",
      "model_name": "DescriptionStyleModel",
      "state": {
       "_model_module": "@jupyter-widgets/controls",
       "_model_module_version": "1.5.0",
       "_model_name": "DescriptionStyleModel",
       "_view_count": null,
       "_view_module": "@jupyter-widgets/base",
       "_view_module_version": "1.2.0",
       "_view_name": "StyleView",
       "description_width": ""
      }
     },
     "6eeda54ebc2b409fbe23f2c3e45849bf": {
      "model_module": "@jupyter-widgets/base",
      "model_module_version": "1.2.0",
      "model_name": "LayoutModel",
      "state": {
       "_model_module": "@jupyter-widgets/base",
       "_model_module_version": "1.2.0",
       "_model_name": "LayoutModel",
       "_view_count": null,
       "_view_module": "@jupyter-widgets/base",
       "_view_module_version": "1.2.0",
       "_view_name": "LayoutView",
       "align_content": null,
       "align_items": null,
       "align_self": null,
       "border": null,
       "bottom": null,
       "display": null,
       "flex": null,
       "flex_flow": null,
       "grid_area": null,
       "grid_auto_columns": null,
       "grid_auto_flow": null,
       "grid_auto_rows": null,
       "grid_column": null,
       "grid_gap": null,
       "grid_row": null,
       "grid_template_areas": null,
       "grid_template_columns": null,
       "grid_template_rows": null,
       "height": null,
       "justify_content": null,
       "justify_items": null,
       "left": null,
       "margin": null,
       "max_height": null,
       "max_width": null,
       "min_height": null,
       "min_width": null,
       "object_fit": null,
       "object_position": null,
       "order": null,
       "overflow": null,
       "overflow_x": null,
       "overflow_y": null,
       "padding": null,
       "right": null,
       "top": null,
       "visibility": null,
       "width": null
      }
     },
     "712516aa54f545c3accc50eee4047138": {
      "model_module": "@jupyter-widgets/base",
      "model_module_version": "1.2.0",
      "model_name": "LayoutModel",
      "state": {
       "_model_module": "@jupyter-widgets/base",
       "_model_module_version": "1.2.0",
       "_model_name": "LayoutModel",
       "_view_count": null,
       "_view_module": "@jupyter-widgets/base",
       "_view_module_version": "1.2.0",
       "_view_name": "LayoutView",
       "align_content": null,
       "align_items": null,
       "align_self": null,
       "border": null,
       "bottom": null,
       "display": null,
       "flex": null,
       "flex_flow": null,
       "grid_area": null,
       "grid_auto_columns": null,
       "grid_auto_flow": null,
       "grid_auto_rows": null,
       "grid_column": null,
       "grid_gap": null,
       "grid_row": null,
       "grid_template_areas": null,
       "grid_template_columns": null,
       "grid_template_rows": null,
       "height": null,
       "justify_content": null,
       "justify_items": null,
       "left": null,
       "margin": null,
       "max_height": null,
       "max_width": null,
       "min_height": null,
       "min_width": null,
       "object_fit": null,
       "object_position": null,
       "order": null,
       "overflow": null,
       "overflow_x": null,
       "overflow_y": null,
       "padding": null,
       "right": null,
       "top": null,
       "visibility": null,
       "width": null
      }
     },
     "7bd8c769934d44bab88017d946dfba66": {
      "model_module": "@jupyter-widgets/controls",
      "model_module_version": "1.5.0",
      "model_name": "ProgressStyleModel",
      "state": {
       "_model_module": "@jupyter-widgets/controls",
       "_model_module_version": "1.5.0",
       "_model_name": "ProgressStyleModel",
       "_view_count": null,
       "_view_module": "@jupyter-widgets/base",
       "_view_module_version": "1.2.0",
       "_view_name": "StyleView",
       "bar_color": null,
       "description_width": "initial"
      }
     },
     "b828328931014f44ad6658ae587df5e7": {
      "model_module": "@jupyter-widgets/base",
      "model_module_version": "1.2.0",
      "model_name": "LayoutModel",
      "state": {
       "_model_module": "@jupyter-widgets/base",
       "_model_module_version": "1.2.0",
       "_model_name": "LayoutModel",
       "_view_count": null,
       "_view_module": "@jupyter-widgets/base",
       "_view_module_version": "1.2.0",
       "_view_name": "LayoutView",
       "align_content": null,
       "align_items": null,
       "align_self": null,
       "border": null,
       "bottom": null,
       "display": null,
       "flex": null,
       "flex_flow": null,
       "grid_area": null,
       "grid_auto_columns": null,
       "grid_auto_flow": null,
       "grid_auto_rows": null,
       "grid_column": null,
       "grid_gap": null,
       "grid_row": null,
       "grid_template_areas": null,
       "grid_template_columns": null,
       "grid_template_rows": null,
       "height": null,
       "justify_content": null,
       "justify_items": null,
       "left": null,
       "margin": null,
       "max_height": null,
       "max_width": null,
       "min_height": null,
       "min_width": null,
       "object_fit": null,
       "object_position": null,
       "order": null,
       "overflow": null,
       "overflow_x": null,
       "overflow_y": null,
       "padding": null,
       "right": null,
       "top": null,
       "visibility": null,
       "width": null
      }
     },
     "bb4743f956454b929fa384191f3dc9bf": {
      "model_module": "@jupyter-widgets/base",
      "model_module_version": "1.2.0",
      "model_name": "LayoutModel",
      "state": {
       "_model_module": "@jupyter-widgets/base",
       "_model_module_version": "1.2.0",
       "_model_name": "LayoutModel",
       "_view_count": null,
       "_view_module": "@jupyter-widgets/base",
       "_view_module_version": "1.2.0",
       "_view_name": "LayoutView",
       "align_content": null,
       "align_items": null,
       "align_self": null,
       "border": null,
       "bottom": null,
       "display": null,
       "flex": null,
       "flex_flow": null,
       "grid_area": null,
       "grid_auto_columns": null,
       "grid_auto_flow": null,
       "grid_auto_rows": null,
       "grid_column": null,
       "grid_gap": null,
       "grid_row": null,
       "grid_template_areas": null,
       "grid_template_columns": null,
       "grid_template_rows": null,
       "height": null,
       "justify_content": null,
       "justify_items": null,
       "left": null,
       "margin": null,
       "max_height": null,
       "max_width": null,
       "min_height": null,
       "min_width": null,
       "object_fit": null,
       "object_position": null,
       "order": null,
       "overflow": null,
       "overflow_x": null,
       "overflow_y": null,
       "padding": null,
       "right": null,
       "top": null,
       "visibility": null,
       "width": null
      }
     },
     "cfb6ae45f7e640029cf5d51df87b0254": {
      "model_module": "@jupyter-widgets/controls",
      "model_module_version": "1.5.0",
      "model_name": "HBoxModel",
      "state": {
       "_dom_classes": [],
       "_model_module": "@jupyter-widgets/controls",
       "_model_module_version": "1.5.0",
       "_model_name": "HBoxModel",
       "_view_count": null,
       "_view_module": "@jupyter-widgets/controls",
       "_view_module_version": "1.5.0",
       "_view_name": "HBoxView",
       "box_style": "",
       "children": [
        "IPY_MODEL_e33fc90bf5834aa6a5063a7c5c8cffe1",
        "IPY_MODEL_0a2a639273e344808e03f88760c35b96"
       ],
       "layout": "IPY_MODEL_0eb7694eb25b49368d005df7401de15b"
      }
     },
     "e33fc90bf5834aa6a5063a7c5c8cffe1": {
      "model_module": "@jupyter-widgets/controls",
      "model_module_version": "1.5.0",
      "model_name": "FloatProgressModel",
      "state": {
       "_dom_classes": [],
       "_model_module": "@jupyter-widgets/controls",
       "_model_module_version": "1.5.0",
       "_model_name": "FloatProgressModel",
       "_view_count": null,
       "_view_module": "@jupyter-widgets/controls",
       "_view_module_version": "1.5.0",
       "_view_name": "ProgressView",
       "bar_style": "success",
       "description": "Dl Completed...: 100%",
       "description_tooltip": null,
       "layout": "IPY_MODEL_712516aa54f545c3accc50eee4047138",
       "max": 4,
       "min": 0,
       "orientation": "horizontal",
       "style": "IPY_MODEL_7bd8c769934d44bab88017d946dfba66",
       "value": 4
      }
     },
     "f82662beadfa4bbc94ea7113a97e15e4": {
      "model_module": "@jupyter-widgets/controls",
      "model_module_version": "1.5.0",
      "model_name": "DescriptionStyleModel",
      "state": {
       "_model_module": "@jupyter-widgets/controls",
       "_model_module_version": "1.5.0",
       "_model_name": "DescriptionStyleModel",
       "_view_count": null,
       "_view_module": "@jupyter-widgets/base",
       "_view_module_version": "1.2.0",
       "_view_name": "StyleView",
       "description_width": ""
      }
     }
    },
    "version_major": 2,
    "version_minor": 0
   }
  }
 },
 "nbformat": 4,
 "nbformat_minor": 0
}